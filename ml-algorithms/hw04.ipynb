{
  "nbformat": 4,
  "nbformat_minor": 0,
  "metadata": {
    "colab": {
      "name": "hw04.ipynb",
      "provenance": [],
      "collapsed_sections": [],
      "include_colab_link": true
    },
    "kernelspec": {
      "name": "python3",
      "display_name": "Python 3"
    }
  },
  "cells": [
    {
      "cell_type": "markdown",
      "metadata": {
        "id": "view-in-github",
        "colab_type": "text"
      },
      "source": [
        "<a href=\"https://colab.research.google.com/github/salexey1990/gb/blob/master/ml-algorithms/hw04.ipynb\" target=\"_parent\"><img src=\"https://colab.research.google.com/assets/colab-badge.svg\" alt=\"Open In Colab\"/></a>"
      ]
    },
    {
      "cell_type": "code",
      "metadata": {
        "id": "M98Y0vgIL5Ob",
        "colab_type": "code",
        "colab": {}
      },
      "source": [
        "import matplotlib.pyplot as plt\n",
        "import random\n",
        "\n",
        "from matplotlib.colors import ListedColormap\n",
        "from sklearn import datasets\n",
        "\n",
        "import numpy as np"
      ],
      "execution_count": 0,
      "outputs": []
    },
    {
      "cell_type": "code",
      "metadata": {
        "id": "YkI5ptR-NUMI",
        "colab_type": "code",
        "colab": {}
      },
      "source": [
        "# Реализуем класс узла\n",
        "\n",
        "class Node:\n",
        "    \n",
        "    def __init__(self, index, t, true_branch, false_branch):\n",
        "        self.index = index  # индекс признака, по которому ведется сравнение с порогом в этом узле\n",
        "        self.t = t  # значение порога\n",
        "        self.true_branch = true_branch  # поддерево, удовлетворяющее условию в узле\n",
        "        self.false_branch = false_branch  # поддерево, не удовлетворяющее условию в узле"
      ],
      "execution_count": 0,
      "outputs": []
    },
    {
      "cell_type": "code",
      "metadata": {
        "id": "pllqenN_QQVp",
        "colab_type": "code",
        "colab": {}
      },
      "source": [
        "# И класс терминального узла (листа)\n",
        "\n",
        "class Leaf:\n",
        "    \n",
        "    def __init__(self, data, labels):\n",
        "        self.data = data\n",
        "        self.labels = labels\n",
        "        self.prediction_classification = self.predict()\n",
        "        self.prediction_regression = self.predict_reg()\n",
        "        \n",
        "    def predict(self):\n",
        "        # подсчет количества объектов разных классов\n",
        "        classes = {}  # сформируем словарь \"класс: количество объектов\"\n",
        "        for label in self.labels:\n",
        "            if label not in classes:\n",
        "                classes[label] = 0\n",
        "            classes[label] += 1\n",
        "        #  найдем класс, количество объектов которого будет максимальным в этом листе и вернем его    \n",
        "        prediction = max(classes, key=classes.get)\n",
        "        return prediction  \n",
        "\n",
        "    def predict_reg(self):\n",
        "        #  найдем значение как среднее по выборке   \n",
        "        prediction = np.mean(self.labels)\n",
        "        return prediction  "
      ],
      "execution_count": 0,
      "outputs": []
    },
    {
      "cell_type": "code",
      "metadata": {
        "id": "8U5vzIViQXaa",
        "colab_type": "code",
        "colab": {}
      },
      "source": [
        "# Расчет критерия Джини\n",
        "\n",
        "def gini(labels):\n",
        "    #  подсчет количества объектов разных классов\n",
        "    classes = {}\n",
        "    for label in labels:\n",
        "        if label not in classes:\n",
        "            classes[label] = 0\n",
        "        classes[label] += 1\n",
        "    \n",
        "    #  расчет критерия\n",
        "    impurity = 1\n",
        "    for label in classes:\n",
        "        p = classes[label] / len(labels)\n",
        "        impurity -= p ** 2\n",
        "        \n",
        "    return impurity"
      ],
      "execution_count": 0,
      "outputs": []
    },
    {
      "cell_type": "code",
      "metadata": {
        "id": "m-IlGF3AqjG1",
        "colab_type": "code",
        "colab": {}
      },
      "source": [
        "# Расчёт дисперсии значений\n",
        "\n",
        "def dispersion(labels):\n",
        "  return np.std(labels)"
      ],
      "execution_count": 0,
      "outputs": []
    },
    {
      "cell_type": "code",
      "metadata": {
        "id": "hnB9a_oGQbek",
        "colab_type": "code",
        "colab": {}
      },
      "source": [
        "# Расчет качества для задачи классификации\n",
        "\n",
        "def quality(left_labels, right_labels, current_gini):\n",
        "\n",
        "    # доля выбоки, ушедшая в левое поддерево\n",
        "    p = float(left_labels.shape[0]) / (left_labels.shape[0] + right_labels.shape[0])\n",
        "    \n",
        "    return current_gini - p * gini(left_labels) - (1 - p) * gini(right_labels)"
      ],
      "execution_count": 0,
      "outputs": []
    },
    {
      "cell_type": "code",
      "metadata": {
        "id": "uR_iN9-bbJtP",
        "colab_type": "code",
        "colab": {}
      },
      "source": [
        "# Расчет качества для задачи регрессии\n",
        "\n",
        "def quality_regression(left_labels, right_labels, current_dispersion):\n",
        "\n",
        "    # доля выбоки, ушедшая в левое поддерево\n",
        "    p = float(left_labels.shape[0]) / (left_labels.shape[0] + right_labels.shape[0])\n",
        "    \n",
        "    return current_dispersion - p * dispersion(left_labels) - (1 - p) * dispersion(right_labels)"
      ],
      "execution_count": 0,
      "outputs": []
    },
    {
      "cell_type": "code",
      "metadata": {
        "id": "7al140K_RA7A",
        "colab_type": "code",
        "colab": {}
      },
      "source": [
        "# Разбиение датасета в узле\n",
        "\n",
        "def split(data, labels, index, t):\n",
        "    \n",
        "    left = np.where(data[:, index] <= t)\n",
        "    right = np.where(data[:, index] > t)\n",
        "        \n",
        "    true_data = data[left]\n",
        "    false_data = data[right]\n",
        "    true_labels = labels[left]\n",
        "    false_labels = labels[right]\n",
        "        \n",
        "    return true_data, false_data, true_labels, false_labels"
      ],
      "execution_count": 0,
      "outputs": []
    },
    {
      "cell_type": "code",
      "metadata": {
        "id": "zVMMD9X9RJbL",
        "colab_type": "code",
        "colab": {}
      },
      "source": [
        "# Нахождение наилучшего разбиения для задачи классификации\n",
        "\n",
        "def find_best_split(data, labels):\n",
        "    \n",
        "    #  обозначим минимальное количество объектов в узле\n",
        "    min_leaf = 5\n",
        "\n",
        "    current_gini = gini(labels)\n",
        "\n",
        "    best_quality = 0\n",
        "    best_t = None\n",
        "    best_index = None\n",
        "    \n",
        "    n_features = data.shape[1]\n",
        "    \n",
        "    for index in range(n_features):\n",
        "        # будем проверять только уникальные значения признака, исключая повторения\n",
        "        t_values = np.unique([row[index] for row in data])\n",
        "        \n",
        "        for t in t_values:\n",
        "            true_data, false_data, true_labels, false_labels = split(data, labels, index, t)\n",
        "            #  пропускаем разбиения, в которых в узле остается менее 5 объектов\n",
        "            if len(true_data) < min_leaf or len(false_data) < min_leaf:\n",
        "                continue\n",
        "            \n",
        "            current_quality = quality(true_labels, false_labels, current_gini)\n",
        "            \n",
        "            #  выбираем порог, на котором получается максимальный прирост качества\n",
        "            if current_quality > best_quality:\n",
        "                best_quality, best_t, best_index = current_quality, t, index\n",
        "\n",
        "    return best_quality, best_t, best_index"
      ],
      "execution_count": 0,
      "outputs": []
    },
    {
      "cell_type": "code",
      "metadata": {
        "id": "RP-RCG0cau2A",
        "colab_type": "code",
        "colab": {}
      },
      "source": [
        "# Нахождение наилучшего разбиения для задачи регрессии\n",
        "\n",
        "def find_best_split_regression(data, labels):\n",
        "    \n",
        "    #  обозначим минимальное количество объектов в узле\n",
        "    min_leaf = 5\n",
        "\n",
        "    current_dispersion = dispersion(labels)\n",
        "\n",
        "    best_quality = 0\n",
        "    best_t = None\n",
        "    best_index = None\n",
        "    \n",
        "    n_features = data.shape[1]\n",
        "    \n",
        "    for index in range(n_features):\n",
        "        # будем проверять только уникальные значения признака, исключая повторения\n",
        "        t_values = np.unique([row[index] for row in data])\n",
        "        \n",
        "        for t in t_values:\n",
        "            true_data, false_data, true_labels, false_labels = split(data, labels, index, t)\n",
        "            #  пропускаем разбиения, в которых в узле остается менее 5 объектов\n",
        "            if len(true_data) < min_leaf or len(false_data) < min_leaf:\n",
        "                continue\n",
        "            \n",
        "            current_quality = quality_regression(true_labels, false_labels, current_dispersion)\n",
        "            \n",
        "            #  выбираем порог, на котором получается максимальный прирост качества\n",
        "            if current_quality > best_quality:\n",
        "                best_quality, best_t, best_index = current_quality, t, index\n",
        "\n",
        "    return best_quality, best_t, best_index"
      ],
      "execution_count": 0,
      "outputs": []
    },
    {
      "cell_type": "code",
      "metadata": {
        "id": "tReaG5BIRXS2",
        "colab_type": "code",
        "colab": {}
      },
      "source": [
        "# Построение дерева классификации с помощью рекурсивной функции\n",
        "\n",
        "def build_tree_classification(data, labels, tree_depth=1, max_depth=50):\n",
        "\n",
        "    quality, t, index = find_best_split(data, labels)\n",
        "\n",
        "    #  Базовый случай - прекращаем рекурсию, когда нет прироста в качества\n",
        "    if quality == 0:\n",
        "        return Leaf(data, labels)\n",
        "\n",
        "    # Базовый случай (2) - прекращаем рекурсию, когда достигнута максимальная глубина дерева\n",
        "    if tree_depth >= max_depth:\n",
        "        return Leaf(data, labels)\n",
        "\n",
        "    # Увеличиваем глубину дерева на 1\n",
        "    tree_depth += 1\n",
        "\n",
        "    true_data, false_data, true_labels, false_labels = split(data, labels, index, t)\n",
        "\n",
        "    # Рекурсивно строим два поддерева\n",
        "    true_branch = build_tree_classification(true_data, true_labels, tree_depth, max_depth)\n",
        "    false_branch = build_tree_classification(false_data, false_labels, tree_depth, max_depth)\n",
        "\n",
        "    # Возвращаем класс узла со всеми поддеревьями, то есть целого дерева\n",
        "    return Node(index, t, true_branch, false_branch)"
      ],
      "execution_count": 0,
      "outputs": []
    },
    {
      "cell_type": "code",
      "metadata": {
        "id": "CaZmvnHRcHfB",
        "colab_type": "code",
        "colab": {}
      },
      "source": [
        "# Построение дерева регрессии с помощью рекурсивной функции\n",
        "\n",
        "def build_tree_regression(data, labels, tree_depth=1, max_depth=50):\n",
        "\n",
        "    quality, t, index = find_best_split_regression(data, labels)\n",
        "\n",
        "    #  Базовый случай - прекращаем рекурсию, когда нет прироста в качества\n",
        "    if quality == 0:\n",
        "        return Leaf(data, labels)\n",
        "\n",
        "    # Базовый случай (2) - прекращаем рекурсию, когда достигнута максимальная глубина дерева\n",
        "    if tree_depth >= max_depth:\n",
        "        return Leaf(data, labels)\n",
        "\n",
        "    # Увеличиваем глубину дерева на 1\n",
        "    tree_depth += 1\n",
        "\n",
        "    true_data, false_data, true_labels, false_labels = split(data, labels, index, t)\n",
        "\n",
        "    # Рекурсивно строим два поддерева\n",
        "    true_branch = build_tree_regression(true_data, true_labels, tree_depth, max_depth)\n",
        "    false_branch = build_tree_regression(false_data, false_labels, tree_depth, max_depth)\n",
        "\n",
        "    # Возвращаем класс узла со всеми поддеревьями, то есть целого дерева\n",
        "    return Node(index, t, true_branch, false_branch)"
      ],
      "execution_count": 0,
      "outputs": []
    },
    {
      "cell_type": "code",
      "metadata": {
        "id": "fIEkeGy1R4FT",
        "colab_type": "code",
        "colab": {}
      },
      "source": [
        "def classify_object(obj, node):\n",
        "\n",
        "    #  Останавливаем рекурсию, если достигли листа\n",
        "    if isinstance(node, Leaf):\n",
        "        answer = node.prediction_classification\n",
        "        return answer\n",
        "\n",
        "    if obj[node.index] <= node.t:\n",
        "        return classify_object(obj, node.true_branch)\n",
        "    else:\n",
        "        return classify_object(obj, node.false_branch)"
      ],
      "execution_count": 0,
      "outputs": []
    },
    {
      "cell_type": "code",
      "metadata": {
        "id": "NaPgPkoveELF",
        "colab_type": "code",
        "colab": {}
      },
      "source": [
        "def predict_object(obj, node):\n",
        "\n",
        "    #  Останавливаем рекурсию, если достигли листа\n",
        "    if isinstance(node, Leaf):\n",
        "        answer = node.prediction_regression\n",
        "        return answer\n",
        "\n",
        "    if obj[node.index] <= node.t:\n",
        "        return predict_object(obj, node.true_branch)\n",
        "    else:\n",
        "        return predict_object(obj, node.false_branch)"
      ],
      "execution_count": 0,
      "outputs": []
    },
    {
      "cell_type": "code",
      "metadata": {
        "id": "HRpNJfQaSZ3R",
        "colab_type": "code",
        "colab": {}
      },
      "source": [
        "def predict_class(data, tree):\n",
        "    \n",
        "    classes = []\n",
        "    for obj in data:\n",
        "        prediction = classify_object(obj, tree)\n",
        "        classes.append(prediction)\n",
        "    return classes"
      ],
      "execution_count": 0,
      "outputs": []
    },
    {
      "cell_type": "code",
      "metadata": {
        "id": "zSi2FDHqeaY3",
        "colab_type": "code",
        "colab": {}
      },
      "source": [
        "def predict_value(data, tree):\n",
        "    \n",
        "    val = []\n",
        "    for obj in data:\n",
        "        prediction = predict_object(obj, tree)\n",
        "        val.append(prediction)\n",
        "    return val"
      ],
      "execution_count": 0,
      "outputs": []
    },
    {
      "cell_type": "markdown",
      "metadata": {
        "id": "jPH6hpIketYk",
        "colab_type": "text"
      },
      "source": [
        "## Проверим работоспособность дерева классификации\n"
      ]
    },
    {
      "cell_type": "code",
      "metadata": {
        "id": "LIftuo79fQhr",
        "colab_type": "code",
        "colab": {}
      },
      "source": [
        "# сгенерируем данные\n",
        "classification_data, classification_labels = datasets.make_classification(n_features = 5, n_informative = 5, \n",
        "                                                      n_classes = 2, n_redundant=0, \n",
        "                                                      n_clusters_per_class=1, random_state=5)"
      ],
      "execution_count": 0,
      "outputs": []
    },
    {
      "cell_type": "code",
      "metadata": {
        "id": "cYEtf3fHSfEo",
        "colab_type": "code",
        "colab": {}
      },
      "source": [
        "# Разобьем выборку на обучающую и тестовую\n",
        "\n",
        "from sklearn import model_selection\n",
        "\n",
        "train_data, test_data, train_labels, test_labels = model_selection.train_test_split(classification_data, \n",
        "                                                                                     classification_labels, \n",
        "                                                                                     test_size = 0.3,\n",
        "                                                                                     random_state = 1)"
      ],
      "execution_count": 0,
      "outputs": []
    },
    {
      "cell_type": "code",
      "metadata": {
        "id": "odasR_bTSuvM",
        "colab_type": "code",
        "colab": {}
      },
      "source": [
        "# Построим дерево по обучающей выборке\n",
        "my_tree_classification = build_tree_classification(train_data, train_labels, max_depth=3)"
      ],
      "execution_count": 0,
      "outputs": []
    },
    {
      "cell_type": "code",
      "metadata": {
        "id": "m6hIB35tSxSB",
        "colab_type": "code",
        "colab": {}
      },
      "source": [
        "# Получим ответы для обучающей выборки \n",
        "train_answers = predict_class(train_data, my_tree_classification)"
      ],
      "execution_count": 0,
      "outputs": []
    },
    {
      "cell_type": "code",
      "metadata": {
        "id": "dnE-WkMjS8GK",
        "colab_type": "code",
        "colab": {}
      },
      "source": [
        "# И получим ответы для тестовой выборки\n",
        "answers = predict_class(test_data, my_tree_classification)"
      ],
      "execution_count": 0,
      "outputs": []
    },
    {
      "cell_type": "code",
      "metadata": {
        "id": "k0m0kZUiTAzQ",
        "colab_type": "code",
        "colab": {}
      },
      "source": [
        "# Введем функцию подсчета точности как доли правильных ответов\n",
        "def accuracy_metric(actual, predicted):\n",
        "    correct = 0\n",
        "    for i in range(len(actual)):\n",
        "        if actual[i] == predicted[i]:\n",
        "            correct += 1\n",
        "    return correct / float(len(actual)) * 100.0"
      ],
      "execution_count": 0,
      "outputs": []
    },
    {
      "cell_type": "code",
      "metadata": {
        "id": "aaoUVroLTDKD",
        "colab_type": "code",
        "outputId": "1cfeb0a1-78ec-43e3-bf17-d32644a5c762",
        "colab": {
          "base_uri": "https://localhost:8080/",
          "height": 34
        }
      },
      "source": [
        "# Точность на обучающей выборке\n",
        "train_accuracy = accuracy_metric(train_labels, train_answers)\n",
        "train_accuracy"
      ],
      "execution_count": 23,
      "outputs": [
        {
          "output_type": "execute_result",
          "data": {
            "text/plain": [
              "97.14285714285714"
            ]
          },
          "metadata": {
            "tags": []
          },
          "execution_count": 23
        }
      ]
    },
    {
      "cell_type": "code",
      "metadata": {
        "id": "QwjAtMsvTFv2",
        "colab_type": "code",
        "outputId": "e9d74c4a-c2cf-4a72-be2c-3122364df609",
        "colab": {
          "base_uri": "https://localhost:8080/",
          "height": 34
        }
      },
      "source": [
        "# Точность на тестовой выборке\n",
        "test_accuracy = accuracy_metric(test_labels, answers)\n",
        "test_accuracy"
      ],
      "execution_count": 24,
      "outputs": [
        {
          "output_type": "execute_result",
          "data": {
            "text/plain": [
              "90.0"
            ]
          },
          "metadata": {
            "tags": []
          },
          "execution_count": 24
        }
      ]
    },
    {
      "cell_type": "markdown",
      "metadata": {
        "id": "znpiPFZCe6FJ",
        "colab_type": "text"
      },
      "source": [
        "## Проверим работоспособность дерева регрессии"
      ]
    },
    {
      "cell_type": "code",
      "metadata": {
        "id": "jLoY3UGSf-cV",
        "colab_type": "code",
        "colab": {}
      },
      "source": [
        "# сгенерируем данные\n",
        "regression_data, regression_labels = datasets.make_regression(n_features = 2, n_informative = 2, random_state=5, n_samples=100)"
      ],
      "execution_count": 0,
      "outputs": []
    },
    {
      "cell_type": "code",
      "metadata": {
        "id": "HrJ4YOMIf9mL",
        "colab_type": "code",
        "colab": {}
      },
      "source": [
        "# Разобьем выборку на обучающую и тестовую\n",
        "\n",
        "train_data, test_data, train_labels, test_labels = model_selection.train_test_split(regression_data, \n",
        "                                                                                     regression_labels, \n",
        "                                                                                     test_size = 0.3,\n",
        "                                                                                     random_state = 1)"
      ],
      "execution_count": 0,
      "outputs": []
    },
    {
      "cell_type": "code",
      "metadata": {
        "id": "JavJyhILhGJl",
        "colab_type": "code",
        "colab": {}
      },
      "source": [
        "# Построим дерево по обучающей выборке\n",
        "my_tree_regression = build_tree_regression(train_data, train_labels)"
      ],
      "execution_count": 0,
      "outputs": []
    },
    {
      "cell_type": "code",
      "metadata": {
        "id": "uCc93rlkhF_8",
        "colab_type": "code",
        "colab": {}
      },
      "source": [
        "# Получим ответы для обучающей выборки \n",
        "train_answers = predict_value(train_data, my_tree_regression)"
      ],
      "execution_count": 0,
      "outputs": []
    },
    {
      "cell_type": "code",
      "metadata": {
        "id": "F5EbVLbRhF2Q",
        "colab_type": "code",
        "colab": {}
      },
      "source": [
        "# И получим ответы для тестовой выборки\n",
        "answers = predict_value(test_data, my_tree_regression)"
      ],
      "execution_count": 0,
      "outputs": []
    },
    {
      "cell_type": "code",
      "metadata": {
        "id": "TC7PIVbChFuU",
        "colab_type": "code",
        "colab": {}
      },
      "source": [
        "# Введем функцию подсчета точности как среднюю квадратичную ошибку\n",
        "def mse_metric(actual, predicted):\n",
        "    return np.average((actual - predicted) ** 2, axis=0)"
      ],
      "execution_count": 0,
      "outputs": []
    },
    {
      "cell_type": "code",
      "metadata": {
        "id": "9toUO512hFkU",
        "colab_type": "code",
        "colab": {
          "base_uri": "https://localhost:8080/",
          "height": 34
        },
        "outputId": "4ff687f5-9510-4e17-97d8-86a5c9636768"
      },
      "source": [
        "# Точность на обучающей выборке\n",
        "train_mse = mse_metric(train_labels, train_answers)\n",
        "train_mse"
      ],
      "execution_count": 31,
      "outputs": [
        {
          "output_type": "execute_result",
          "data": {
            "text/plain": [
              "218.57831019366"
            ]
          },
          "metadata": {
            "tags": []
          },
          "execution_count": 31
        }
      ]
    },
    {
      "cell_type": "code",
      "metadata": {
        "id": "1Z2OylVyhFXA",
        "colab_type": "code",
        "colab": {
          "base_uri": "https://localhost:8080/",
          "height": 34
        },
        "outputId": "61b62d05-ca64-48ea-9536-e2f196d5f70e"
      },
      "source": [
        "# Точность на тестовой выборке\n",
        "test_mse = mse_metric(test_labels, answers)\n",
        "test_mse"
      ],
      "execution_count": 32,
      "outputs": [
        {
          "output_type": "execute_result",
          "data": {
            "text/plain": [
              "496.16389376803176"
            ]
          },
          "metadata": {
            "tags": []
          },
          "execution_count": 32
        }
      ]
    },
    {
      "cell_type": "markdown",
      "metadata": {
        "id": "5wTWUy5CgBOz",
        "colab_type": "text"
      },
      "source": [
        "## Напечатаем оба дерева для наглядности"
      ]
    },
    {
      "cell_type": "code",
      "metadata": {
        "id": "-ZwQYrgpTH8N",
        "colab_type": "code",
        "outputId": "b7cb7069-f7b4-4337-b5e6-6979fb52da4b",
        "colab": {
          "base_uri": "https://localhost:8080/",
          "height": 297
        }
      },
      "source": [
        "# Напечатаем ход нашего дерева\n",
        "def print_tree_classification(node, spacing=\"\"):\n",
        "\n",
        "    # Если лист, то выводим его прогноз\n",
        "    if isinstance(node, Leaf):\n",
        "        print(spacing + \"Прогноз:\", node.prediction_classification)\n",
        "        return\n",
        "\n",
        "    # Выведем значение индекса и порога на этом узле\n",
        "    print(spacing + 'Индекс', str(node.index))\n",
        "    print(spacing + 'Порог', str(node.t))\n",
        "\n",
        "    # Рекурсионный вызов функции на положительном поддереве\n",
        "    print (spacing + '--> True:')\n",
        "    print_tree_classification(node.true_branch, spacing + \"  \")\n",
        "\n",
        "    # Рекурсионный вызов функции на положительном поддереве\n",
        "    print (spacing + '--> False:')\n",
        "    print_tree_classification(node.false_branch, spacing + \"  \")\n",
        "    \n",
        "print_tree_classification(my_tree_classification)"
      ],
      "execution_count": 33,
      "outputs": [
        {
          "output_type": "stream",
          "text": [
            "Индекс 2\n",
            "Порог 0.5224515381480885\n",
            "--> True:\n",
            "  Индекс 0\n",
            "  Порог -1.1216601685241565\n",
            "  --> True:\n",
            "    Прогноз: 1\n",
            "  --> False:\n",
            "    Прогноз: 0\n",
            "--> False:\n",
            "  Индекс 4\n",
            "  Порог 0.14571839873148806\n",
            "  --> True:\n",
            "    Прогноз: 1\n",
            "  --> False:\n",
            "    Прогноз: 1\n"
          ],
          "name": "stdout"
        }
      ]
    },
    {
      "cell_type": "code",
      "metadata": {
        "id": "rVP4Hk0IVgwr",
        "colab_type": "code",
        "colab": {
          "base_uri": "https://localhost:8080/",
          "height": 909
        },
        "outputId": "43a62c2b-4c36-4a70-c1d4-708e2c9dffb6"
      },
      "source": [
        "# Напечатаем ход нашего дерева\n",
        "def print_tree_regression(node, spacing=\"\"):\n",
        "\n",
        "    # Если лист, то выводим его прогноз\n",
        "    if isinstance(node, Leaf):\n",
        "        print(spacing + \"Прогноз:\", node.prediction_regression)\n",
        "        return\n",
        "\n",
        "    # Выведем значение индекса и порога на этом узле\n",
        "    print(spacing + 'Индекс', str(node.index))\n",
        "    print(spacing + 'Порог', str(node.t))\n",
        "\n",
        "    # Рекурсионный вызов функции на положительном поддереве\n",
        "    print (spacing + '--> True:')\n",
        "    print_tree_regression(node.true_branch, spacing + \"  \")\n",
        "\n",
        "    # Рекурсионный вызов функции на положительном поддереве\n",
        "    print (spacing + '--> False:')\n",
        "    print_tree_regression(node.false_branch, spacing + \"  \")\n",
        "    \n",
        "print_tree_regression(my_tree_regression)"
      ],
      "execution_count": 34,
      "outputs": [
        {
          "output_type": "stream",
          "text": [
            "Индекс 0\n",
            "Порог -0.10061434630710828\n",
            "--> True:\n",
            "  Индекс 0\n",
            "  Порог -0.8568531547160899\n",
            "  --> True:\n",
            "    Прогноз: -109.75655471490919\n",
            "  --> False:\n",
            "    Индекс 0\n",
            "    Порог -0.5732155560138283\n",
            "    --> True:\n",
            "      Прогноз: -54.35634172577482\n",
            "    --> False:\n",
            "      Индекс 1\n",
            "      Порог -0.3058530211666308\n",
            "      --> True:\n",
            "        Прогноз: -29.105630694331246\n",
            "      --> False:\n",
            "        Прогноз: -10.772916465924025\n",
            "--> False:\n",
            "  Индекс 0\n",
            "  Порог 0.9068894675659355\n",
            "  --> True:\n",
            "    Индекс 1\n",
            "    Порог 0.6566194702604272\n",
            "    --> True:\n",
            "      Индекс 1\n",
            "      Порог -1.0650326193820066\n",
            "      --> True:\n",
            "        Прогноз: 7.798014762375311\n",
            "      --> False:\n",
            "        Индекс 0\n",
            "        Порог 0.41367880834311616\n",
            "        --> True:\n",
            "          Прогноз: 17.019366109004096\n",
            "        --> False:\n",
            "          Прогноз: 35.95087900163848\n",
            "    --> False:\n",
            "      Индекс 0\n",
            "      Порог 0.34691932708774675\n",
            "      --> True:\n",
            "        Прогноз: 37.4238776327042\n",
            "      --> False:\n",
            "        Прогноз: 61.9558421220885\n",
            "  --> False:\n",
            "    Индекс 0\n",
            "    Порог 1.3348485742415819\n",
            "    --> True:\n",
            "      Прогноз: 77.83232966482356\n",
            "    --> False:\n",
            "      Прогноз: 123.1031262020856\n"
          ],
          "name": "stdout"
        }
      ]
    }
  ]
}