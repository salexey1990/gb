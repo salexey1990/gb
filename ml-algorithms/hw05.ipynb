{
  "nbformat": 4,
  "nbformat_minor": 0,
  "metadata": {
    "kernelspec": {
      "display_name": "Python 3",
      "language": "python",
      "name": "python3"
    },
    "language_info": {
      "codemirror_mode": {
        "name": "ipython",
        "version": 3
      },
      "file_extension": ".py",
      "mimetype": "text/x-python",
      "name": "python",
      "nbconvert_exporter": "python",
      "pygments_lexer": "ipython3",
      "version": "3.7.1"
    },
    "colab": {
      "name": "hw05.ipynb",
      "provenance": [],
      "collapsed_sections": [
        "cCkVGRl6bIYc",
        "lRXJHtZRbIYe"
      ],
      "include_colab_link": true
    }
  },
  "cells": [
    {
      "cell_type": "markdown",
      "metadata": {
        "id": "view-in-github",
        "colab_type": "text"
      },
      "source": [
        "<a href=\"https://colab.research.google.com/github/salexey1990/gb/blob/master/ml-algorithms/hw05.ipynb\" target=\"_parent\"><img src=\"https://colab.research.google.com/assets/colab-badge.svg\" alt=\"Open In Colab\"/></a>"
      ]
    },
    {
      "cell_type": "code",
      "metadata": {
        "id": "ZNR-FOeobIWs",
        "colab_type": "code",
        "colab": {}
      },
      "source": [
        "import matplotlib.pyplot as plt\n",
        "import random\n",
        "\n",
        "from matplotlib.colors import ListedColormap\n",
        "from sklearn import datasets\n",
        "\n",
        "import numpy as np"
      ],
      "execution_count": 0,
      "outputs": []
    },
    {
      "cell_type": "code",
      "metadata": {
        "id": "m4Mb7omZbIWw",
        "colab_type": "code",
        "colab": {}
      },
      "source": [
        "# сгенерируем данные, представляющие собой 500 объектов с 5-ю признаками\n",
        "classification_data, classification_labels = datasets.make_classification(n_samples=100,\n",
        "                                                      n_features = 2, n_informative = 2, \n",
        "                                                      n_classes = 2, n_redundant=0, \n",
        "                                                      n_clusters_per_class=1, random_state=23)"
      ],
      "execution_count": 0,
      "outputs": []
    },
    {
      "cell_type": "code",
      "metadata": {
        "id": "2R53TJClbIWz",
        "colab_type": "code",
        "outputId": "a6f8ab38-5409-4ecd-cebc-e31c3e1e8e86",
        "colab": {
          "base_uri": "https://localhost:8080/",
          "height": 501
        }
      },
      "source": [
        "# визуализируем сгенерированные данные\n",
        "\n",
        "colors = ListedColormap(['red', 'blue'])\n",
        "light_colors = ListedColormap(['lightcoral', 'lightblue'])\n",
        "\n",
        "plt.figure(figsize=(8,8))\n",
        "plt.scatter(list(map(lambda x: x[0], classification_data)), list(map(lambda x: x[1], classification_data)), \n",
        "              c=classification_labels, cmap=colors)"
      ],
      "execution_count": 3,
      "outputs": [
        {
          "output_type": "execute_result",
          "data": {
            "text/plain": [
              "<matplotlib.collections.PathCollection at 0x7f1f2185b898>"
            ]
          },
          "metadata": {
            "tags": []
          },
          "execution_count": 3
        },
        {
          "output_type": "display_data",
          "data": {
            "image/png": "[encoded data removed]",
            "text/plain": [
              "<Figure size 576x576 with 1 Axes>"
            ]
          },
          "metadata": {
            "tags": []
          }
        }
      ]
    },
    {
      "cell_type": "markdown",
      "metadata": {
        "id": "JvjWiryZbIW2",
        "colab_type": "text"
      },
      "source": [
        "Реализуем генерацию $N$ бутстрап-выборок и подмножества признаков для нахождения разбиения в узле."
      ]
    },
    {
      "cell_type": "code",
      "metadata": {
        "id": "d7if4ogqbIW3",
        "colab_type": "code",
        "colab": {}
      },
      "source": [
        "random.seed(42)\n",
        "\n",
        "def get_bootstrap(data, labels, N):\n",
        "    n_samples = data.shape[0]\n",
        "    bootstrap = []\n",
        "    \n",
        "    for i in range(N):\n",
        "        b_data = np.zeros(data.shape)\n",
        "        b_labels = np.zeros(labels.shape)\n",
        "        \n",
        "        for j in range(n_samples):\n",
        "            sample_index = random.randint(0, n_samples-1)\n",
        "            b_data[j] = data[sample_index]\n",
        "            b_labels[j] = labels[sample_index]\n",
        "        bootstrap.append((b_data, b_labels))\n",
        "        \n",
        "    return bootstrap"
      ],
      "execution_count": 0,
      "outputs": []
    },
    {
      "cell_type": "code",
      "metadata": {
        "id": "526l0aGNbIW5",
        "colab_type": "code",
        "colab": {}
      },
      "source": [
        "def get_subsample(len_sample):\n",
        "    # будем сохранять не сами признаки, а их индексы\n",
        "    sample_indexes = [i for i in range(len_sample)]\n",
        "    \n",
        "    len_subsample = int(np.sqrt(len_sample))\n",
        "    subsample = []\n",
        "    \n",
        "    random.shuffle(sample_indexes)\n",
        "    for _ in range(len_subsample):\n",
        "        subsample.append(sample_indexes.pop())\n",
        "        \n",
        "    return subsample"
      ],
      "execution_count": 0,
      "outputs": []
    },
    {
      "cell_type": "markdown",
      "metadata": {
        "id": "L9ZdDJGvbIW8",
        "colab_type": "text"
      },
      "source": [
        "Далее повторим реализацию построения дерева решений из предыдущего урока с некоторыми изменениями"
      ]
    },
    {
      "cell_type": "code",
      "metadata": {
        "id": "AGdBq1lbbIW9",
        "colab_type": "code",
        "colab": {}
      },
      "source": [
        "# Реализуем класс узла\n",
        "\n",
        "class Node:\n",
        "    \n",
        "    def __init__(self, index, t, true_branch, false_branch):\n",
        "        self.index = index  # индекс признака, по которому ведется сравнение с порогом в этом узле\n",
        "        self.t = t  # значение порога\n",
        "        self.true_branch = true_branch  # поддерево, удовлетворяющее условию в узле\n",
        "        self.false_branch = false_branch  # поддерево, не удовлетворяющее условию в узле"
      ],
      "execution_count": 0,
      "outputs": []
    },
    {
      "cell_type": "code",
      "metadata": {
        "id": "QGT-Wsx6bIW_",
        "colab_type": "code",
        "colab": {}
      },
      "source": [
        "# И класс терминального узла (листа)\n",
        "\n",
        "class Leaf:\n",
        "    \n",
        "    def __init__(self, data, labels):\n",
        "        self.data = data\n",
        "        self.labels = labels\n",
        "        self.prediction = self.predict()\n",
        "        \n",
        "    def predict(self):\n",
        "        # подсчет количества объектов разных классов\n",
        "        classes = {}  # сформируем словарь \"класс: количество объектов\"\n",
        "        for label in self.labels:\n",
        "            if label not in classes:\n",
        "                classes[label] = 0\n",
        "            classes[label] += 1\n",
        "        #  найдем класс, количество объектов которого будет максимальным в этом листе и вернем его    \n",
        "        prediction = max(classes, key=classes.get)\n",
        "        return prediction        "
      ],
      "execution_count": 0,
      "outputs": []
    },
    {
      "cell_type": "code",
      "metadata": {
        "id": "DRTe458CbIXE",
        "colab_type": "code",
        "colab": {}
      },
      "source": [
        "# Расчет критерия Джини\n",
        "\n",
        "def gini(labels):\n",
        "    #  подсчет количества объектов разных классов\n",
        "    classes = {}\n",
        "    for label in labels:\n",
        "        if label not in classes:\n",
        "            classes[label] = 0\n",
        "        classes[label] += 1\n",
        "    \n",
        "    #  расчет критерия\n",
        "    impurity = 1\n",
        "    for label in classes:\n",
        "        p = classes[label] / len(labels)\n",
        "        impurity -= p ** 2\n",
        "        \n",
        "    return impurity"
      ],
      "execution_count": 0,
      "outputs": []
    },
    {
      "cell_type": "code",
      "metadata": {
        "id": "YT7T4h3WbIXH",
        "colab_type": "code",
        "colab": {}
      },
      "source": [
        "# Расчет качества\n",
        "\n",
        "def quality(left_labels, right_labels, current_gini):\n",
        "\n",
        "    # доля выбоки, ушедшая в левое поддерево\n",
        "    p = float(left_labels.shape[0]) / (left_labels.shape[0] + right_labels.shape[0])\n",
        "    \n",
        "    return current_gini - p * gini(left_labels) - (1 - p) * gini(right_labels)"
      ],
      "execution_count": 0,
      "outputs": []
    },
    {
      "cell_type": "code",
      "metadata": {
        "id": "rqbAx1cXbIXK",
        "colab_type": "code",
        "colab": {}
      },
      "source": [
        "# Разбиение датасета в узле\n",
        "\n",
        "def split(data, labels, index, t):\n",
        "    \n",
        "    left = np.where(data[:, index] <= t)\n",
        "    right = np.where(data[:, index] > t)\n",
        "        \n",
        "    true_data = data[left]\n",
        "    false_data = data[right]\n",
        "    true_labels = labels[left]\n",
        "    false_labels = labels[right]\n",
        "        \n",
        "    return true_data, false_data, true_labels, false_labels"
      ],
      "execution_count": 0,
      "outputs": []
    },
    {
      "cell_type": "code",
      "metadata": {
        "id": "zP2pg3HUbIXP",
        "colab_type": "code",
        "colab": {}
      },
      "source": [
        "# Нахождение наилучшего разбиения\n",
        "\n",
        "def find_best_split(data, labels):\n",
        "    \n",
        "    #  обозначим минимальное количество объектов в узле\n",
        "    min_leaf = 1\n",
        "\n",
        "    current_gini = gini(labels)\n",
        "\n",
        "    best_quality = 0\n",
        "    best_t = None\n",
        "    best_index = None\n",
        "    \n",
        "    n_features = data.shape[1]\n",
        "    \n",
        "    # выбор индекса из подвыборки длиной sqrt(n_features)\n",
        "    subsample = get_subsample(n_features)\n",
        "    \n",
        "    for index in subsample:\n",
        "        # будем проверять только уникальные значения признака, исключая повторения\n",
        "        t_values = np.unique([row[index] for row in data])\n",
        "        \n",
        "        for t in t_values:\n",
        "            true_data, false_data, true_labels, false_labels = split(data, labels, index, t)\n",
        "            #  пропускаем разбиения, в которых в узле остается менее 5 объектов\n",
        "            if len(true_data) < min_leaf or len(false_data) < min_leaf:\n",
        "                continue\n",
        "            \n",
        "            current_quality = quality(true_labels, false_labels, current_gini)\n",
        "            \n",
        "            #  выбираем порог, на котором получается максимальный прирост качества\n",
        "            if current_quality > best_quality:\n",
        "                best_quality, best_t, best_index = current_quality, t, index\n",
        "\n",
        "    return best_quality, best_t, best_index"
      ],
      "execution_count": 0,
      "outputs": []
    },
    {
      "cell_type": "code",
      "metadata": {
        "id": "dQ4ZPJRUbIXR",
        "colab_type": "code",
        "colab": {}
      },
      "source": [
        "# Построение дерева с помощью рекурсивной функции\n",
        "\n",
        "def build_tree(data, labels):\n",
        "\n",
        "    quality, t, index = find_best_split(data, labels)\n",
        "\n",
        "    #  Базовый случай - прекращаем рекурсию, когда нет прироста в качества\n",
        "    if quality == 0:\n",
        "        return Leaf(data, labels)\n",
        "\n",
        "    true_data, false_data, true_labels, false_labels = split(data, labels, index, t)\n",
        "\n",
        "    # Рекурсивно строим два поддерева\n",
        "    true_branch = build_tree(true_data, true_labels)\n",
        "    false_branch = build_tree(false_data, false_labels)\n",
        "\n",
        "    # Возвращаем класс узла со всеми поддеревьями, то есть целого дерева\n",
        "    return Node(index, t, true_branch, false_branch)"
      ],
      "execution_count": 0,
      "outputs": []
    },
    {
      "cell_type": "markdown",
      "metadata": {
        "id": "T_YX8fnmbIXU",
        "colab_type": "text"
      },
      "source": [
        "Теперь добавим функцию формирования случайного леса."
      ]
    },
    {
      "cell_type": "code",
      "metadata": {
        "id": "PZMieMMrbIXV",
        "colab_type": "code",
        "colab": {}
      },
      "source": [
        "def random_forest(data, labels, n_trees):\n",
        "    forest = []\n",
        "    bootstrap = get_bootstrap(data, labels, n_trees)\n",
        "    \n",
        "    for b_data, b_labels in bootstrap:\n",
        "        forest.append(build_tree(b_data, b_labels))\n",
        "        \n",
        "    return forest"
      ],
      "execution_count": 0,
      "outputs": []
    },
    {
      "cell_type": "code",
      "metadata": {
        "id": "tWNbZTz4bIXX",
        "colab_type": "code",
        "colab": {}
      },
      "source": [
        "# Функция классификации отдельного объекта\n",
        "\n",
        "def classify_object(obj, node):\n",
        "\n",
        "    #  Останавливаем рекурсию, если достигли листа\n",
        "    if isinstance(node, Leaf):\n",
        "        answer = node.prediction\n",
        "        return answer\n",
        "\n",
        "    if obj[node.index] <= node.t:\n",
        "        return classify_object(obj, node.true_branch)\n",
        "    else:\n",
        "        return classify_object(obj, node.false_branch)"
      ],
      "execution_count": 0,
      "outputs": []
    },
    {
      "cell_type": "code",
      "metadata": {
        "id": "rWOM8g_YbIXZ",
        "colab_type": "code",
        "colab": {}
      },
      "source": [
        "# функция формирования предсказания по выборке на одном дереве\n",
        "\n",
        "def predict(data, tree):\n",
        "    \n",
        "    classes = []\n",
        "    for obj in data:\n",
        "        prediction = classify_object(obj, tree)\n",
        "        classes.append(prediction)\n",
        "    return classes"
      ],
      "execution_count": 0,
      "outputs": []
    },
    {
      "cell_type": "code",
      "metadata": {
        "id": "ZtIgR7R-bIXc",
        "colab_type": "code",
        "colab": {}
      },
      "source": [
        "# предсказание голосованием деревьев\n",
        "\n",
        "def tree_vote(forest, data):\n",
        "\n",
        "    # добавим предсказания всех деревьев в список\n",
        "    predictions = []\n",
        "    for tree in forest:\n",
        "        predictions.append(predict(data, tree))\n",
        "    \n",
        "    # сформируем список с предсказаниями для каждого объекта\n",
        "    predictions_per_object = list(zip(*predictions))\n",
        "    \n",
        "    # выберем в качестве итогового предсказания для каждого объекта то,\n",
        "    # за которое проголосовало большинство деревьев\n",
        "    voted_predictions = []\n",
        "    for obj in predictions_per_object:\n",
        "        voted_predictions.append(max(set(obj), key=obj.count))\n",
        "        \n",
        "    return voted_predictions"
      ],
      "execution_count": 0,
      "outputs": []
    },
    {
      "cell_type": "markdown",
      "metadata": {
        "id": "fkMTjBewbIXf",
        "colab_type": "text"
      },
      "source": [
        "Далее мы сделаем обычное разбиение выборки на обучающую и тестовую, как это делалось ранее. Оценить ошибку этого же алгоритма по методу Out-of-Bag будет вашим домашним заданием к этому уроку."
      ]
    },
    {
      "cell_type": "code",
      "metadata": {
        "id": "Ie9t9IyAbIXh",
        "colab_type": "code",
        "colab": {}
      },
      "source": [
        "# Разобьем выборку на обучающую и тестовую\n",
        "\n",
        "from sklearn import model_selection\n",
        "\n",
        "train_data, test_data, train_labels, test_labels = model_selection.train_test_split(classification_data, \n",
        "                                                                                     classification_labels, \n",
        "                                                                                     test_size = 0.3,\n",
        "                                                                                     random_state = 1)"
      ],
      "execution_count": 0,
      "outputs": []
    },
    {
      "cell_type": "code",
      "metadata": {
        "id": "z4apOFB9bIXk",
        "colab_type": "code",
        "colab": {}
      },
      "source": [
        "# Введем функцию подсчета точности как доли правильных ответов\n",
        "\n",
        "def accuracy_metric(actual, predicted):\n",
        "    correct = 0\n",
        "    for i in range(len(actual)):\n",
        "        if actual[i] == predicted[i]:\n",
        "            correct += 1\n",
        "    return correct / float(len(actual)) * 100.0"
      ],
      "execution_count": 0,
      "outputs": []
    },
    {
      "cell_type": "markdown",
      "metadata": {
        "id": "x7ZzmLcNbIXn",
        "colab_type": "text"
      },
      "source": [
        "Теперь построим несколько случайных лесов с разным количеством деревьев в них."
      ]
    },
    {
      "cell_type": "markdown",
      "metadata": {
        "id": "Dcd1Jw6HbIXo",
        "colab_type": "text"
      },
      "source": [
        "Построим лес из одного дерева"
      ]
    },
    {
      "cell_type": "code",
      "metadata": {
        "id": "ie4loVA2bIXp",
        "colab_type": "code",
        "colab": {}
      },
      "source": [
        "n_trees = 1\n",
        "my_forest_1 = random_forest(train_data, train_labels, n_trees)"
      ],
      "execution_count": 0,
      "outputs": []
    },
    {
      "cell_type": "code",
      "metadata": {
        "id": "jlpOoeyNbIXr",
        "colab_type": "code",
        "colab": {}
      },
      "source": [
        "# Получим ответы для обучающей выборки \n",
        "train_answers_1 = tree_vote(my_forest_1, train_data)"
      ],
      "execution_count": 0,
      "outputs": []
    },
    {
      "cell_type": "code",
      "metadata": {
        "id": "Dh7KkPTUbIXt",
        "colab_type": "code",
        "colab": {}
      },
      "source": [
        "# И получим ответы для тестовой выборки\n",
        "test_answers_1 = tree_vote(my_forest_1, test_data)"
      ],
      "execution_count": 0,
      "outputs": []
    },
    {
      "cell_type": "code",
      "metadata": {
        "id": "2AVq8YUqbIXv",
        "colab_type": "code",
        "outputId": "3a27a616-4d35-4de8-dd82-3dbfa96386f5",
        "colab": {
          "base_uri": "https://localhost:8080/",
          "height": 35
        }
      },
      "source": [
        "# Точность на обучающей выборке\n",
        "train_accuracy = accuracy_metric(train_labels, train_answers_1)\n",
        "print(f'Точность случайного леса из {n_trees} деревьев на обучающей выборке: {train_accuracy:.3f}')"
      ],
      "execution_count": 22,
      "outputs": [
        {
          "output_type": "stream",
          "text": [
            "Точность случайного леса из 1 деревьев на обучающей выборке: 97.143\n"
          ],
          "name": "stdout"
        }
      ]
    },
    {
      "cell_type": "code",
      "metadata": {
        "id": "iBAqB3C_bIXz",
        "colab_type": "code",
        "outputId": "9df4a3e0-44bb-4ac4-f9b2-1eefc53d8947",
        "colab": {
          "base_uri": "https://localhost:8080/",
          "height": 35
        }
      },
      "source": [
        "# Точность на тестовой выборке\n",
        "test_accuracy = accuracy_metric(test_labels, test_answers_1)\n",
        "print(f'Точность случайного леса из {n_trees} деревьев на тестовой выборке: {test_accuracy:.3f}')"
      ],
      "execution_count": 23,
      "outputs": [
        {
          "output_type": "stream",
          "text": [
            "Точность случайного леса из 1 деревьев на тестовой выборке: 80.000\n"
          ],
          "name": "stdout"
        }
      ]
    },
    {
      "cell_type": "markdown",
      "metadata": {
        "id": "HHSLxUfXbIX1",
        "colab_type": "text"
      },
      "source": [
        "Построим лес из трех деревьев"
      ]
    },
    {
      "cell_type": "code",
      "metadata": {
        "id": "JEfTGC08bIX2",
        "colab_type": "code",
        "colab": {}
      },
      "source": [
        "n_trees = 3\n",
        "my_forest_3 = random_forest(train_data, train_labels, n_trees)"
      ],
      "execution_count": 0,
      "outputs": []
    },
    {
      "cell_type": "code",
      "metadata": {
        "id": "S7k6rZW6bIX4",
        "colab_type": "code",
        "colab": {}
      },
      "source": [
        "# Получим ответы для обучающей выборки \n",
        "train_answers_3 = tree_vote(my_forest_3, train_data)"
      ],
      "execution_count": 0,
      "outputs": []
    },
    {
      "cell_type": "code",
      "metadata": {
        "id": "TvROZSabbIX6",
        "colab_type": "code",
        "colab": {}
      },
      "source": [
        "# И получим ответы для тестовой выборки\n",
        "test_answers_3 = tree_vote(my_forest_3, test_data)"
      ],
      "execution_count": 0,
      "outputs": []
    },
    {
      "cell_type": "code",
      "metadata": {
        "id": "m3H-p2RhbIX8",
        "colab_type": "code",
        "outputId": "0735a332-c9c5-437a-add2-394b483a0608",
        "colab": {
          "base_uri": "https://localhost:8080/",
          "height": 35
        }
      },
      "source": [
        "# Точность на обучающей выборке\n",
        "train_accuracy = accuracy_metric(train_labels, train_answers_3)\n",
        "print(f'Точность случайного леса из {n_trees} деревьев на обучающей выборке: {train_accuracy:.3f}')"
      ],
      "execution_count": 27,
      "outputs": [
        {
          "output_type": "stream",
          "text": [
            "Точность случайного леса из 3 деревьев на обучающей выборке: 97.143\n"
          ],
          "name": "stdout"
        }
      ]
    },
    {
      "cell_type": "code",
      "metadata": {
        "id": "OD1moauCbIX-",
        "colab_type": "code",
        "outputId": "4c23394f-b0cd-45ca-f477-198e9c9d4846",
        "colab": {
          "base_uri": "https://localhost:8080/",
          "height": 35
        }
      },
      "source": [
        "# Точность на тестовой выборке\n",
        "test_accuracy = accuracy_metric(test_labels, test_answers_3)\n",
        "print(f'Точность случайного леса из {n_trees} деревьев на тестовой выборке: {test_accuracy:.3f}')"
      ],
      "execution_count": 28,
      "outputs": [
        {
          "output_type": "stream",
          "text": [
            "Точность случайного леса из 3 деревьев на тестовой выборке: 80.000\n"
          ],
          "name": "stdout"
        }
      ]
    },
    {
      "cell_type": "markdown",
      "metadata": {
        "id": "CfcvqNmabIYA",
        "colab_type": "text"
      },
      "source": [
        "Построим лес из десяти деревьев"
      ]
    },
    {
      "cell_type": "code",
      "metadata": {
        "id": "J4W9ZyefbIYB",
        "colab_type": "code",
        "colab": {}
      },
      "source": [
        "n_trees = 10\n",
        "my_forest_10 = random_forest(train_data, train_labels, n_trees)"
      ],
      "execution_count": 0,
      "outputs": []
    },
    {
      "cell_type": "code",
      "metadata": {
        "id": "Z_aF8gd-bIYC",
        "colab_type": "code",
        "colab": {}
      },
      "source": [
        "# Получим ответы для обучающей выборки \n",
        "train_answers_10 = tree_vote(my_forest_10, train_data)"
      ],
      "execution_count": 0,
      "outputs": []
    },
    {
      "cell_type": "code",
      "metadata": {
        "id": "5D5_gy33bIYG",
        "colab_type": "code",
        "colab": {}
      },
      "source": [
        "# И получим ответы для тестовой выборки\n",
        "test_answers_10 = tree_vote(my_forest_10, test_data)"
      ],
      "execution_count": 0,
      "outputs": []
    },
    {
      "cell_type": "code",
      "metadata": {
        "id": "7Fsqi2OdbIYI",
        "colab_type": "code",
        "outputId": "d1cfda28-8998-4d01-b3fd-03e53c76d119",
        "colab": {
          "base_uri": "https://localhost:8080/",
          "height": 35
        }
      },
      "source": [
        "# Точность на обучающей выборке\n",
        "train_accuracy = accuracy_metric(train_labels, train_answers_10)\n",
        "print(f'Точность случайного леса из {n_trees} деревьев на обучающей выборке: {train_accuracy:.3f}')"
      ],
      "execution_count": 32,
      "outputs": [
        {
          "output_type": "stream",
          "text": [
            "Точность случайного леса из 10 деревьев на обучающей выборке: 100.000\n"
          ],
          "name": "stdout"
        }
      ]
    },
    {
      "cell_type": "code",
      "metadata": {
        "id": "KHKepYGPbIYK",
        "colab_type": "code",
        "outputId": "02bab47b-2af7-462c-f933-b1428e8256cc",
        "colab": {
          "base_uri": "https://localhost:8080/",
          "height": 35
        }
      },
      "source": [
        "# Точность на тестовой выборке\n",
        "test_accuracy = accuracy_metric(test_labels, test_answers_10)\n",
        "print(f'Точность случайного леса из {n_trees} деревьев на тестовой выборке: {test_accuracy:.3f}')"
      ],
      "execution_count": 33,
      "outputs": [
        {
          "output_type": "stream",
          "text": [
            "Точность случайного леса из 10 деревьев на тестовой выборке: 86.667\n"
          ],
          "name": "stdout"
        }
      ]
    },
    {
      "cell_type": "markdown",
      "metadata": {
        "id": "Fa3cUkrLbIYP",
        "colab_type": "text"
      },
      "source": [
        "Построим лес из пятидесяти деревьев"
      ]
    },
    {
      "cell_type": "code",
      "metadata": {
        "id": "DNvHGqmLbIYQ",
        "colab_type": "code",
        "colab": {}
      },
      "source": [
        "n_trees = 50\n",
        "my_forest_50 = random_forest(train_data, train_labels, n_trees)"
      ],
      "execution_count": 0,
      "outputs": []
    },
    {
      "cell_type": "code",
      "metadata": {
        "id": "SgvItR0gbIYR",
        "colab_type": "code",
        "colab": {}
      },
      "source": [
        "# Получим ответы для обучающей выборки \n",
        "train_answers_50 = tree_vote(my_forest_50, train_data)"
      ],
      "execution_count": 0,
      "outputs": []
    },
    {
      "cell_type": "code",
      "metadata": {
        "id": "ZlGAMHlibIYT",
        "colab_type": "code",
        "colab": {}
      },
      "source": [
        "# И получим ответы для тестовой выборки\n",
        "test_answers_50 = tree_vote(my_forest_50, test_data)"
      ],
      "execution_count": 0,
      "outputs": []
    },
    {
      "cell_type": "code",
      "metadata": {
        "id": "vXbLxcn7bIYV",
        "colab_type": "code",
        "outputId": "1779b03a-6a97-46e4-d003-6df7bffe7665",
        "colab": {
          "base_uri": "https://localhost:8080/",
          "height": 35
        }
      },
      "source": [
        "# Точность на обучающей выборке\n",
        "train_accuracy = accuracy_metric(train_labels, train_answers_50)\n",
        "print(f'Точность случайного леса из {n_trees} деревьев на обучающей выборке: {train_accuracy:.3f}')"
      ],
      "execution_count": 37,
      "outputs": [
        {
          "output_type": "stream",
          "text": [
            "Точность случайного леса из 50 деревьев на обучающей выборке: 100.000\n"
          ],
          "name": "stdout"
        }
      ]
    },
    {
      "cell_type": "code",
      "metadata": {
        "id": "yz0HSUgsbIYY",
        "colab_type": "code",
        "outputId": "369160cf-9647-4f38-c927-6bacf4496bdc",
        "colab": {
          "base_uri": "https://localhost:8080/",
          "height": 35
        }
      },
      "source": [
        "# Точность на тестовой выборке\n",
        "test_accuracy = accuracy_metric(test_labels, test_answers_50)\n",
        "print(f'Точность случайного леса из {n_trees} деревьев на тестовой выборке: {test_accuracy:.3f}')"
      ],
      "execution_count": 38,
      "outputs": [
        {
          "output_type": "stream",
          "text": [
            "Точность случайного леса из 50 деревьев на тестовой выборке: 86.667\n"
          ],
          "name": "stdout"
        }
      ]
    },
    {
      "cell_type": "code",
      "metadata": {
        "id": "k8jp4oS8oN4D",
        "colab_type": "code",
        "colab": {
          "base_uri": "https://localhost:8080/",
          "height": 461
        },
        "outputId": "ddf5d52f-38ad-4834-afd2-0d928d70da26"
      },
      "source": [
        "# Визуализируем леса на графике\n",
        "\n",
        "def get_meshgrid(data, step=.05, border=1.2):\n",
        "    x_min, x_max = data[:, 0].min() - border, data[:, 0].max() + border\n",
        "    y_min, y_max = data[:, 1].min() - border, data[:, 1].max() + border\n",
        "    return np.meshgrid(np.arange(x_min, x_max, step), np.arange(y_min, y_max, step))\n",
        "\n",
        "plt.figure(figsize = (16, 7))\n",
        "\n",
        "# график леса из одного дерева\n",
        "plt.subplot(2,2,1)\n",
        "xx, yy = get_meshgrid(train_data)\n",
        "mesh_predictions = np.array(tree_vote(my_forest_1, np.c_[xx.ravel(), yy.ravel()])).reshape(xx.shape)\n",
        "plt.pcolormesh(xx, yy, mesh_predictions, cmap = light_colors)\n",
        "plt.scatter(train_data[:, 0], train_data[:, 1], c = train_labels, cmap = colors)\n",
        "plt.title(f'1 tree random forest')\n",
        "\n",
        "# график леса из трёх деревьев\n",
        "plt.subplot(2,2,2)\n",
        "mesh_predictions = np.array(tree_vote(my_forest_3, np.c_[xx.ravel(), yy.ravel()])).reshape(xx.shape)\n",
        "plt.pcolormesh(xx, yy, mesh_predictions, cmap = light_colors)\n",
        "plt.scatter(train_data[:, 0], train_data[:, 1], c = train_labels, cmap = colors)\n",
        "plt.title(f'3 tree random forest')\n",
        "\n",
        "# график леса из десяти деревьев\n",
        "plt.subplot(2,2,3)\n",
        "mesh_predictions = np.array(tree_vote(my_forest_10, np.c_[xx.ravel(), yy.ravel()])).reshape(xx.shape)\n",
        "plt.pcolormesh(xx, yy, mesh_predictions, cmap = light_colors)\n",
        "plt.scatter(train_data[:, 0], train_data[:, 1], c = train_labels, cmap = colors)\n",
        "plt.title(f'10 tree random forest')\n",
        "\n",
        "# график леса из пятидесяти деревьев\n",
        "plt.subplot(2,2,4)\n",
        "mesh_predictions = np.array(tree_vote(my_forest_50, np.c_[xx.ravel(), yy.ravel()])).reshape(xx.shape)\n",
        "plt.pcolormesh(xx, yy, mesh_predictions, cmap = light_colors)\n",
        "plt.scatter(train_data[:, 0], train_data[:, 1], c = train_labels, cmap = colors)\n",
        "plt.title(f'50 tree random forest')"
      ],
      "execution_count": 47,
      "outputs": [
        {
          "output_type": "execute_result",
          "data": {
            "text/plain": [
              "Text(0.5, 1.0, '50 tree random forest')"
            ]
          },
          "metadata": {
            "tags": []
          },
          "execution_count": 47
        },
        {
          "output_type": "display_data",
          "data": {
            "image/png": "[encoded data removed]",
            "text/plain": [
              "<Figure size 1152x504 with 4 Axes>"
            ]
          },
          "metadata": {
            "tags": []
          }
        }
      ]
    },
    {
      "cell_type": "markdown",
      "metadata": {
        "id": "jpGFfH9W3BcM",
        "colab_type": "text"
      },
      "source": [
        "Как видно из графиков, приведённых выше, случайные леса из 10 и 50 деревьев слегка переобучены, и подстроены под синий класс, который находится вглубине красного, и скорее всего является выбросом. Однако, не смотря на это, они будут лучше обобщать генеральную совокупность.\n",
        "\n"
      ]
    }
  ]
}