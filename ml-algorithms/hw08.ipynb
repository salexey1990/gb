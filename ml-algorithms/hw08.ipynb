{
  "nbformat": 4,
  "nbformat_minor": 0,
  "metadata": {
    "kernelspec": {
      "display_name": "Python 3",
      "language": "python",
      "name": "python3"
    },
    "language_info": {
      "codemirror_mode": {
        "name": "ipython",
        "version": 3
      },
      "file_extension": ".py",
      "mimetype": "text/x-python",
      "name": "python",
      "nbconvert_exporter": "python",
      "pygments_lexer": "ipython3",
      "version": "3.7.1"
    },
    "colab": {
      "name": "hw08.ipynb",
      "provenance": [],
      "collapsed_sections": [],
      "include_colab_link": true
    }
  },
  "cells": [
    {
      "cell_type": "markdown",
      "metadata": {
        "id": "view-in-github",
        "colab_type": "text"
      },
      "source": [
        "<a href=\"https://colab.research.google.com/github/salexey1990/gb/blob/master/ml-algorithms/hw08.ipynb\" target=\"_parent\"><img src=\"https://colab.research.google.com/assets/colab-badge.svg\" alt=\"Open In Colab\"/></a>"
      ]
    },
    {
      "cell_type": "markdown",
      "metadata": {
        "id": "dWEQalcAdfJ1",
        "colab_type": "text"
      },
      "source": [
        "# 1\n",
        "Отобрать наиболее значимые признаки с помощью PCA невозможно, поскольку компоненты, полученные с его помощью более не являются признаками."
      ]
    },
    {
      "cell_type": "markdown",
      "metadata": {
        "id": "AH64TWeBAOgG",
        "colab_type": "text"
      },
      "source": [
        "# 3"
      ]
    },
    {
      "cell_type": "code",
      "metadata": {
        "id": "kSmUQy4ZdfJ2",
        "colab_type": "code",
        "colab": {}
      },
      "source": [
        "import numpy as np\n",
        "from sklearn import datasets\n",
        "import matplotlib.pyplot as plt\n",
        "\n",
        "from sklearn.linear_model import LogisticRegression\n",
        "from sklearn.metrics import accuracy_score\n",
        "from sklearn import model_selection"
      ],
      "execution_count": 0,
      "outputs": []
    },
    {
      "cell_type": "code",
      "metadata": {
        "id": "m3d93Gx2dfJ6",
        "colab_type": "code",
        "outputId": "e99b052a-da4e-4e4c-e7dc-e7ed897454aa",
        "colab": {
          "base_uri": "https://localhost:8080/",
          "height": 34
        }
      },
      "source": [
        "# Загрузим игрушечный датасет из sklearn\n",
        "X, y = datasets.load_iris(return_X_y=True)\n",
        "X.shape"
      ],
      "execution_count": 2,
      "outputs": [
        {
          "output_type": "execute_result",
          "data": {
            "text/plain": [
              "(150, 4)"
            ]
          },
          "metadata": {
            "tags": []
          },
          "execution_count": 2
        }
      ]
    },
    {
      "cell_type": "code",
      "metadata": {
        "id": "XCqa7QWqEO9v",
        "colab_type": "code",
        "colab": {}
      },
      "source": [
        "# Функция стандартизации признаков\n",
        "def calc_std_feat(x):\n",
        "  res = (x - x.mean()) / x.std()\n",
        "  return res"
      ],
      "execution_count": 0,
      "outputs": []
    },
    {
      "cell_type": "code",
      "metadata": {
        "id": "eE6X-RyIdfJ-",
        "colab_type": "code",
        "colab": {}
      },
      "source": [
        "# Для начала отмасштабируем выборку\n",
        "X_st = X.copy().astype(np.float64)\n",
        "\n",
        "X_st[1] = calc_std_feat(X[1])\n",
        "X_st[2] = calc_std_feat(X[2])\n",
        "X_st[3] = calc_std_feat(X[3])\n",
        "X_st[4] = calc_std_feat(X[4])"
      ],
      "execution_count": 0,
      "outputs": []
    },
    {
      "cell_type": "code",
      "metadata": {
        "id": "ItFOmLW9dfKB",
        "colab_type": "code",
        "outputId": "52017928-928e-4cfd-8167-b487ad057a6d",
        "colab": {
          "base_uri": "https://localhost:8080/",
          "height": 104
        }
      },
      "source": [
        "# Сделаем сингулярное разложение матрицы признаков\n",
        "\n",
        "u, s, vh = np.linalg.svd(X_st, full_matrices=True)\n",
        "\n",
        "# В качестве вектора весов возьмём два собственных вектора, соответствующих наибольшим собственным числам\n",
        "\n",
        "W = vh[:2].T\n",
        "print(f'Матрица весов W:\\n', W)"
      ],
      "execution_count": 5,
      "outputs": [
        {
          "output_type": "stream",
          "text": [
            "Матрица весов W:\n",
            " [[-0.74981919 -0.2958979 ]\n",
            " [-0.37733502 -0.53655644]\n",
            " [-0.51643778  0.70371602]\n",
            " [-0.16935608  0.35963229]]\n"
          ],
          "name": "stdout"
        }
      ]
    },
    {
      "cell_type": "code",
      "metadata": {
        "id": "n04tyd6xdfKL",
        "colab_type": "code",
        "colab": {}
      },
      "source": [
        "# Сформируем новую матрицу \"объекты-признаки\"\n",
        "Z = X_st.dot(W)"
      ],
      "execution_count": 0,
      "outputs": []
    },
    {
      "cell_type": "markdown",
      "metadata": {
        "id": "OCOJUkDVJyhe",
        "colab_type": "text"
      },
      "source": [
        "# 4"
      ]
    },
    {
      "cell_type": "markdown",
      "metadata": {
        "id": "pgT2NuaFJ4bL",
        "colab_type": "text"
      },
      "source": [
        "Сравним качество предсказания сначала для оригинальных признаков, затем для двух выбранных компонент"
      ]
    },
    {
      "cell_type": "code",
      "metadata": {
        "id": "RBsBmkQ7H31G",
        "colab_type": "code",
        "colab": {}
      },
      "source": [
        "# Разобъём данные на обучающую и валидационную выборки\n",
        "\n",
        "train_data, test_data, train_labels, test_labels = model_selection.train_test_split(X, \n",
        "                                                                                     y, \n",
        "                                                                                     test_size = 0.3,\n",
        "                                                                                     random_state = 1)"
      ],
      "execution_count": 0,
      "outputs": []
    },
    {
      "cell_type": "code",
      "metadata": {
        "id": "gUx79lzGxT91",
        "colab_type": "code",
        "colab": {
          "base_uri": "https://localhost:8080/",
          "height": 34
        },
        "outputId": "92fafc2a-ff0d-41ee-ac70-62ceeb67017c"
      },
      "source": [
        "# Обучим на обучающей выборке модель линейной регрессии и оценим её качество с помощью accuracy метрики\n",
        "\n",
        "clf = LogisticRegression(random_state=42, multi_class=\"multinomial\", solver=\"lbfgs\").fit(train_data, train_labels)\n",
        "predictions_1 = clf.predict(test_data)\n",
        "\n",
        "accuracy_score(test_labels, predictions_1)"
      ],
      "execution_count": 8,
      "outputs": [
        {
          "output_type": "execute_result",
          "data": {
            "text/plain": [
              "0.9777777777777777"
            ]
          },
          "metadata": {
            "tags": []
          },
          "execution_count": 8
        }
      ]
    },
    {
      "cell_type": "code",
      "metadata": {
        "id": "8hnPhrjhJfnC",
        "colab_type": "code",
        "colab": {}
      },
      "source": [
        "# Теперь разобъём на обучающую и валидационную выборку новое признаковое пространство, полученное метом PCA\n",
        "\n",
        "train_data, test_data, train_labels, test_labels = model_selection.train_test_split(Z, \n",
        "                                                                                     y, \n",
        "                                                                                     test_size = 0.3,\n",
        "                                                                                     random_state = 1)"
      ],
      "execution_count": 0,
      "outputs": []
    },
    {
      "cell_type": "code",
      "metadata": {
        "id": "Mctj1shtJiNN",
        "colab_type": "code",
        "colab": {
          "base_uri": "https://localhost:8080/",
          "height": 34
        },
        "outputId": "fafa1661-6043-4cc2-d945-a0dcc7033b99"
      },
      "source": [
        "# И проверим качество предсказания по первым двум компонентам\n",
        "\n",
        "clf = LogisticRegression(random_state=42, multi_class=\"multinomial\", solver=\"lbfgs\").fit(train_data, train_labels)\n",
        "predictions_2 = clf.predict(test_data)\n",
        "\n",
        "accuracy_score(test_labels, predictions_2)"
      ],
      "execution_count": 11,
      "outputs": [
        {
          "output_type": "execute_result",
          "data": {
            "text/plain": [
              "0.9777777777777777"
            ]
          },
          "metadata": {
            "tags": []
          },
          "execution_count": 11
        }
      ]
    },
    {
      "cell_type": "markdown",
      "metadata": {
        "id": "rU2-DfxPLeUo",
        "colab_type": "text"
      },
      "source": [
        "Как видим в нашем случае снижение размерности признакового пространства никак ни сказалось на качестве предсказания"
      ]
    }
  ]
}