{
 "cells": [
  {
   "cell_type": "code",
   "execution_count": 1,
   "metadata": {},
   "outputs": [],
   "source": [
    "import numpy as np\n",
    "import matplotlib.pyplot as plt"
   ]
  },
  {
   "cell_type": "code",
   "execution_count": 2,
   "metadata": {},
   "outputs": [],
   "source": [
    "X = np.array([[1, 1, 1, 1, 1, 1, 1, 1, 1, 1],\n",
    "              [1, 1, 2, 1, 3, 0, 5, 10, 1, 2],\n",
    "              [500, 700, 750, 600, 1450,\n",
    "               800, 1500, 2000, 450, 1000],\n",
    "              [1, 1, 2, 1, 2, \n",
    "               1, 3, 3, 1, 2]], dtype = np.float64)\n",
    "y = np.array([0, 0, 1, 0, 1, 0, 1, 0, 1, 1], dtype = np.float64)"
   ]
  },
  {
   "cell_type": "code",
   "execution_count": 3,
   "metadata": {},
   "outputs": [],
   "source": [
    "def calc_std_feat(x):\n",
    "  res = (x - x.mean()) / x.std()\n",
    "  return res"
   ]
  },
  {
   "cell_type": "code",
   "execution_count": 4,
   "metadata": {},
   "outputs": [],
   "source": [
    "def calc_logloss(y, y_pred):\n",
    "  err = - np.mean(y * np.log(y_pred) + (1.0 - y) * np.log(1.0 - y_pred))\n",
    "  err = np.sum(err)\n",
    "  return err"
   ]
  },
  {
   "cell_type": "code",
   "execution_count": 5,
   "metadata": {},
   "outputs": [],
   "source": [
    "def sigmoid(z):\n",
    "  res = 1 / (1 + np.exp(-z))\n",
    "  return res"
   ]
  },
  {
   "cell_type": "code",
   "execution_count": 6,
   "metadata": {},
   "outputs": [],
   "source": [
    "X_st = X.copy()\n",
    "X_st[2, :] = calc_std_feat(X[2, :])"
   ]
  },
  {
   "cell_type": "code",
   "execution_count": 7,
   "metadata": {},
   "outputs": [],
   "source": [
    "def eval_model(X, y, iterations, alpha=1e-4):\n",
    "  np.random.seed(42)\n",
    "  W = np.random.randn(X.shape[0])\n",
    "  n = X.shape[1]\n",
    "  for i in range(1, iterations+1):\n",
    "    z = np.dot(W, X)\n",
    "    y_pred = sigmoid(z)\n",
    "    err = calc_logloss(y, y_pred)\n",
    "    W -= alpha * (1/n * np.dot((y_pred - y), X.T))\n",
    "    if i % (iterations / 10) == 0:\n",
    "      print(i, W, err)\n",
    "  return W"
   ]
  },
  {
   "cell_type": "code",
   "execution_count": 8,
   "metadata": {},
   "outputs": [
    {
     "name": "stdout",
     "output_type": "stream",
     "text": [
      "1000 [-11.32397854  -1.45756231  -2.39926134   9.53555126] 0.2519101731375939\n",
      "2000 [-16.28128944  -1.87272109  -3.91638249  13.54030332] 0.2084814956798026\n",
      "3000 [-20.15246511  -2.20833679  -5.07286862  16.68110185] 0.18207622786745653\n",
      "4000 [-23.35679642  -2.48940661  -6.01748846  19.28007954] 0.1640334877571737\n",
      "5000 [-26.0937231   -2.7307529   -6.81720322  21.49765648] 0.15090120005015614\n",
      "6000 [-28.48580221  -2.9421046   -7.51185249  23.43332907] 0.14089008064344866\n",
      "7000 [-30.61428104  -3.13012873  -8.12726963  25.15324313] 0.13297822996386757\n",
      "8000 [-32.53553759  -3.29955247  -8.68108548  26.70335505] 0.12654277704639877\n",
      "9000 [-34.29010185  -3.45382824  -9.18580945  28.11672669] 0.12118409762460598\n",
      "10000 [-35.907977    -3.59554341  -9.65060282  29.4178451 ] 0.11663474835747886\n"
     ]
    }
   ],
   "source": [
    "W = eval_model(X_st, y, iterations=10000, alpha=1)"
   ]
  },
  {
   "cell_type": "code",
   "execution_count": 9,
   "metadata": {},
   "outputs": [],
   "source": [
    "def calc_pred_proba(X, W):\n",
    "    z = np.dot(W, X)\n",
    "    y_pred_proba = sigmoid(z)\n",
    "    return y_pred_proba"
   ]
  },
  {
   "cell_type": "code",
   "execution_count": 10,
   "metadata": {},
   "outputs": [
    {
     "data": {
      "text/plain": [
       "array([0.34704715, 0.00982919, 1.        , 0.06771806, 0.93628214,\n",
       "       0.04710098, 1.        , 0.01781364, 0.58978454, 0.99999976])"
      ]
     },
     "execution_count": 10,
     "metadata": {},
     "output_type": "execute_result"
    }
   ],
   "source": [
    "y_pred_proba = calc_pred_proba(X_st, W)\n",
    "y_pred_proba"
   ]
  },
  {
   "cell_type": "code",
   "execution_count": 11,
   "metadata": {},
   "outputs": [],
   "source": [
    "def calc_pred(X, W):\n",
    "    z = np.dot(W, X)\n",
    "    y_pred_proba = sigmoid(z)\n",
    "    y_pred = np.array([1. if i > 0.5 else 0. for i in y_pred_proba])\n",
    "    return y_pred"
   ]
  },
  {
   "cell_type": "code",
   "execution_count": 12,
   "metadata": {},
   "outputs": [
    {
     "data": {
      "text/plain": [
       "array([0., 0., 1., 0., 1., 0., 1., 0., 1., 1.])"
      ]
     },
     "execution_count": 12,
     "metadata": {},
     "output_type": "execute_result"
    }
   ],
   "source": [
    "y_pred = calc_pred(X_st, W)\n",
    "y_pred"
   ]
  },
  {
   "cell_type": "code",
   "execution_count": 13,
   "metadata": {},
   "outputs": [],
   "source": [
    "def confusion_matrix(y, y_pred):\n",
    "    TP = 0\n",
    "    TN = 0\n",
    "    FP = 0\n",
    "    FN = 0\n",
    "    for i in zip(y, y_pred):\n",
    "        if i[0] == i[1] and i[0] == 1:\n",
    "            TP +=1\n",
    "        elif i[0] == i[1] and i[0] == 0:\n",
    "            TN +=1\n",
    "        elif i[0] != i[1] and i[0] == 1:\n",
    "            FN +=1\n",
    "        elif i[0] != i[1] and i[0] == 0:\n",
    "            FP +=1\n",
    "    return(TP, TN, FP, FN)"
   ]
  },
  {
   "cell_type": "code",
   "execution_count": 14,
   "metadata": {},
   "outputs": [
    {
     "data": {
      "text/plain": [
       "(5, 5, 0, 0)"
      ]
     },
     "execution_count": 14,
     "metadata": {},
     "output_type": "execute_result"
    }
   ],
   "source": [
    "TP, TN, FP, FN = confusion_matrix(y, y_pred)\n",
    "TP, TN, FP, FN"
   ]
  },
  {
   "cell_type": "code",
   "execution_count": 15,
   "metadata": {},
   "outputs": [],
   "source": [
    "def accuracy(confusion_matrix):\n",
    "    TP, TN, FP, FN = confusion_matrix\n",
    "    return (TP + TN)/(TP + TN + FP + FN)"
   ]
  },
  {
   "cell_type": "code",
   "execution_count": 16,
   "metadata": {},
   "outputs": [
    {
     "data": {
      "text/plain": [
       "1.0"
      ]
     },
     "execution_count": 16,
     "metadata": {},
     "output_type": "execute_result"
    }
   ],
   "source": [
    "accuracy((TP, TN, FP, FN))"
   ]
  },
  {
   "cell_type": "code",
   "execution_count": 17,
   "metadata": {},
   "outputs": [],
   "source": [
    "def precision(confusion_matrix):\n",
    "    TP, TN, FP, FN = confusion_matrix\n",
    "    return TP/(TP + FP)"
   ]
  },
  {
   "cell_type": "code",
   "execution_count": 18,
   "metadata": {},
   "outputs": [
    {
     "data": {
      "text/plain": [
       "1.0"
      ]
     },
     "execution_count": 18,
     "metadata": {},
     "output_type": "execute_result"
    }
   ],
   "source": [
    "precision = precision((TP, TN, FP, FN))\n",
    "precision"
   ]
  },
  {
   "cell_type": "code",
   "execution_count": 19,
   "metadata": {},
   "outputs": [],
   "source": [
    "def recall(confusion_matrix):\n",
    "    TP, TN, FP, FN = confusion_matrix\n",
    "    return TP/(TP + FN)"
   ]
  },
  {
   "cell_type": "code",
   "execution_count": 20,
   "metadata": {},
   "outputs": [
    {
     "data": {
      "text/plain": [
       "1.0"
      ]
     },
     "execution_count": 20,
     "metadata": {},
     "output_type": "execute_result"
    }
   ],
   "source": [
    "recall = recall((TP, TN, FP, FN))\n",
    "recall"
   ]
  },
  {
   "cell_type": "code",
   "execution_count": 21,
   "metadata": {},
   "outputs": [],
   "source": [
    "def f1_score(precision, recall):\n",
    "    return (2*precision*recall)/(precision+recall)"
   ]
  },
  {
   "cell_type": "code",
   "execution_count": 22,
   "metadata": {},
   "outputs": [
    {
     "data": {
      "text/plain": [
       "1.0"
      ]
     },
     "execution_count": 22,
     "metadata": {},
     "output_type": "execute_result"
    }
   ],
   "source": [
    "f1_score(precision, recall)"
   ]
  },
  {
   "cell_type": "markdown",
   "metadata": {},
   "source": [
    "Из за столь маленького количества данных, модель могла переобучиться"
   ]
  },
  {
   "cell_type": "code",
   "execution_count": 23,
   "metadata": {},
   "outputs": [],
   "source": [
    "def eval_model_reg1(X, y, iterations, alpha=1e-4, lambda_=1e-2):\n",
    "  np.random.seed(42)\n",
    "  W = np.random.randn(X.shape[0])\n",
    "  n = X.shape[1]\n",
    "  for i in range(1, iterations+1):\n",
    "    z = np.dot(W, X)\n",
    "    y_pred = sigmoid(z)\n",
    "    err = calc_logloss(y, y_pred)\n",
    "    W -= alpha * (1/n * np.dot((y_pred - y), X.T) + lambda_ * 1/2 * np.sign(W)) \n",
    "    if i % (iterations / 10) == 0:\n",
    "      print(i, W, err)\n",
    "  return W"
   ]
  },
  {
   "cell_type": "code",
   "execution_count": 24,
   "metadata": {},
   "outputs": [],
   "source": [
    "def eval_model_reg2(X, y, iterations, alpha=1e-4, lambda_=1e-2):\n",
    "  np.random.seed(42)\n",
    "  W = np.random.randn(X.shape[0])\n",
    "  n = X.shape[1]\n",
    "  for i in range(1, iterations+1):\n",
    "    z = np.dot(W, X)\n",
    "    y_pred = sigmoid(z)\n",
    "    err = calc_logloss(y, y_pred)\n",
    "    W -= alpha * (1/n * np.dot((y_pred - y), X.T) + lambda_ * W) \n",
    "    if i % (iterations / 10) == 0:\n",
    "      print(i, W, err)\n",
    "  return W"
   ]
  },
  {
   "cell_type": "code",
   "execution_count": 27,
   "metadata": {},
   "outputs": [
    {
     "name": "stdout",
     "output_type": "stream",
     "text": [
      "1000 [0.27683963 0.79570597 0.3104758  0.77895882] 2.289204795831054\n",
      "2000 [ 0.22814493  0.74342407 -0.1328574   1.19068967] 1.9236953604532563\n",
      "3000 [0.11976224 0.64206102 0.46810941 0.55736412] 1.6675362738944646\n",
      "4000 [ 0.23646039  0.75971492 -0.0758334   1.17897973] 1.908191692429717\n",
      "5000 [0.13330121 0.65835749 0.53217607 0.55102183] 1.6428751843997909\n",
      "6000 [ 0.24861693  0.76463732 -0.02444959  1.16705072] 1.9074996666881916\n",
      "7000 [0.15305943 0.66794687 0.56868076 0.54332033] 1.6240445927744542\n",
      "8000 [0.25915452 0.77872118 0.04310443 1.16085154] 1.8867874197710506\n",
      "9000 [0.16882125 0.68222616 0.62509752 0.53789554] 1.5982113740659674\n",
      "10000 [0.27886482 0.78920835 0.08156675 1.15168751] 1.8689941117062923\n"
     ]
    }
   ],
   "source": [
    "W = eval_model_reg1(X_st, y, iterations=10000, alpha=1, lambda_=1)"
   ]
  },
  {
   "cell_type": "code",
   "execution_count": 28,
   "metadata": {},
   "outputs": [
    {
     "name": "stdout",
     "output_type": "stream",
     "text": [
      "1000 [0.43816634 1.25947376 0.09456381 0.93500609] 2.5839509397346796\n",
      "2000 [0.43816634 1.25947376 0.09456381 0.93500609] 2.5839509397346796\n",
      "3000 [0.43816634 1.25947376 0.09456381 0.93500609] 2.5839509397346796\n",
      "4000 [0.43816634 1.25947376 0.09456381 0.93500609] 2.5839509397346796\n",
      "5000 [0.43816634 1.25947376 0.09456381 0.93500609] 2.5839509397346796\n",
      "6000 [0.43816634 1.25947376 0.09456381 0.93500609] 2.5839509397346796\n",
      "7000 [0.43816634 1.25947376 0.09456381 0.93500609] 2.5839509397346796\n",
      "8000 [0.43816634 1.25947376 0.09456381 0.93500609] 2.5839509397346796\n",
      "9000 [0.43816634 1.25947376 0.09456381 0.93500609] 2.5839509397346796\n",
      "10000 [0.43816634 1.25947376 0.09456381 0.93500609] 2.5839509397346796\n"
     ]
    }
   ],
   "source": [
    "W = eval_model_reg2(X_st, y, iterations=10000, alpha=1, lambda_=1)"
   ]
  },
  {
   "cell_type": "code",
   "execution_count": null,
   "metadata": {},
   "outputs": [],
   "source": []
  }
 ],
 "metadata": {
  "kernelspec": {
   "display_name": "Python 3",
   "language": "python",
   "name": "python3"
  },
  "language_info": {
   "codemirror_mode": {
    "name": "ipython",
    "version": 3
   },
   "file_extension": ".py",
   "mimetype": "text/x-python",
   "name": "python",
   "nbconvert_exporter": "python",
   "pygments_lexer": "ipython3",
   "version": "3.7.3"
  }
 },
 "nbformat": 4,
 "nbformat_minor": 2
}
