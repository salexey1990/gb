{
  "nbformat": 4,
  "nbformat_minor": 0,
  "metadata": {
    "kernelspec": {
      "display_name": "Python 3",
      "language": "python",
      "name": "python3"
    },
    "language_info": {
      "codemirror_mode": {
        "name": "ipython",
        "version": 3
      },
      "file_extension": ".py",
      "mimetype": "text/x-python",
      "name": "python",
      "nbconvert_exporter": "python",
      "pygments_lexer": "ipython3",
      "version": "3.7.1"
    },
    "colab": {
      "name": "hw06.ipynb",
      "provenance": [],
      "collapsed_sections": [
        "Rg5ilDbTbshs",
        "Z2tMUhhXbsjK",
        "gKn5SRC2bsjr",
        "qBVboqCmbsjs"
      ],
      "include_colab_link": true
    }
  },
  "cells": [
    {
      "cell_type": "markdown",
      "metadata": {
        "id": "view-in-github",
        "colab_type": "text"
      },
      "source": [
        "<a href=\"https://colab.research.google.com/github/salexey1990/gb/blob/master/ml-algorithms/hw06.ipynb\" target=\"_parent\"><img src=\"https://colab.research.google.com/assets/colab-badge.svg\" alt=\"Open In Colab\"/></a>"
      ]
    },
    {
      "cell_type": "code",
      "metadata": {
        "id": "Qk-74OFhbshx",
        "colab_type": "code",
        "colab": {}
      },
      "source": [
        "from sklearn.tree import DecisionTreeRegressor\n",
        "\n",
        "from sklearn import model_selection\n",
        "import numpy as np\n",
        "import math"
      ],
      "execution_count": 0,
      "outputs": []
    },
    {
      "cell_type": "markdown",
      "metadata": {
        "id": "LYD1kLOibsh0",
        "colab_type": "text"
      },
      "source": [
        "Используем один из \"игрушечных\" датасетов из той же библиотеки."
      ]
    },
    {
      "cell_type": "code",
      "metadata": {
        "id": "eDZbSvqMbsh1",
        "colab_type": "code",
        "colab": {}
      },
      "source": [
        "from sklearn.datasets import load_diabetes"
      ],
      "execution_count": 0,
      "outputs": []
    },
    {
      "cell_type": "code",
      "metadata": {
        "id": "leu8bBI7bsh6",
        "colab_type": "code",
        "colab": {}
      },
      "source": [
        "X, y = load_diabetes(return_X_y=True)"
      ],
      "execution_count": 0,
      "outputs": []
    },
    {
      "cell_type": "markdown",
      "metadata": {
        "id": "cz_JhiIpbsh8",
        "colab_type": "text"
      },
      "source": [
        "Разделим выборку на обучающую и тестовую в соотношении 75/25."
      ]
    },
    {
      "cell_type": "code",
      "metadata": {
        "id": "ExZPR9FLbsh9",
        "colab_type": "code",
        "colab": {}
      },
      "source": [
        "X_train, X_test, y_train, y_test = model_selection.train_test_split(X, y, test_size=0.25)"
      ],
      "execution_count": 0,
      "outputs": []
    },
    {
      "cell_type": "markdown",
      "metadata": {
        "id": "7xJCdggZbsh_",
        "colab_type": "text"
      },
      "source": [
        "Напишем функцию, реализующую предсказание в градиентном бустинге."
      ]
    },
    {
      "cell_type": "code",
      "metadata": {
        "id": "wU_Rkc63bsiA",
        "colab_type": "code",
        "colab": {}
      },
      "source": [
        "def gb_predict(X, trees_list, coef_list, eta):\n",
        "    # Реализуемый алгоритм градиентного бустинга будет инициализироваться нулевыми значениями,\n",
        "    # поэтому все деревья из списка trees_list уже являются дополнительными и при предсказании прибавляются с шагом eta\n",
        "    return np.array([sum([eta* coef * alg.predict([x])[0] for alg, coef in zip(trees_list, coef_list)]) for x in X])"
      ],
      "execution_count": 0,
      "outputs": []
    },
    {
      "cell_type": "markdown",
      "metadata": {
        "id": "6gZvsyfSbsiD",
        "colab_type": "text"
      },
      "source": [
        "В качестве функционала ошибки будем использовать среднеквадратичную ошибку. Реализуем соответствующую функцию."
      ]
    },
    {
      "cell_type": "code",
      "metadata": {
        "id": "0xbjFIEKbsiE",
        "colab_type": "code",
        "colab": {}
      },
      "source": [
        "def mean_squared_error(y_real, prediction):\n",
        "    return (sum((y_real - prediction)**2)) / len(y_real)"
      ],
      "execution_count": 0,
      "outputs": []
    },
    {
      "cell_type": "markdown",
      "metadata": {
        "id": "Qlr3KD6zbsiH",
        "colab_type": "text"
      },
      "source": [
        "Используем $L_{2}$ loss $L(y, z) = (y-z)^{2},$ ее производная по $z$ примет вид $L'(y, z) = 2(z-y)$. Реализуем ее также в виде функции (коэффициент 2 можно отбросить)."
      ]
    },
    {
      "cell_type": "code",
      "metadata": {
        "id": "WRaZEd3ebsiI",
        "colab_type": "code",
        "colab": {}
      },
      "source": [
        "def bias(y, z):\n",
        "    return (y - z)"
      ],
      "execution_count": 0,
      "outputs": []
    },
    {
      "cell_type": "markdown",
      "metadata": {
        "id": "ut-7dBgVbsiK",
        "colab_type": "text"
      },
      "source": [
        "Реализуем функцию обучения градиентного бустинга."
      ]
    },
    {
      "cell_type": "code",
      "metadata": {
        "id": "iESXlqgYVAk4",
        "colab_type": "code",
        "colab": {}
      },
      "source": [
        "def gb_fit(n_trees, max_depth, X_train, X_test, y_train, y_test, coefs, eta):\n",
        "    \n",
        "    # Деревья будем записывать в список\n",
        "    trees = []\n",
        "    \n",
        "    # Будем записывать ошибки на обучающей и тестовой выборке на каждой итерации в список\n",
        "    train_errors = []\n",
        "    test_errors = []\n",
        "    \n",
        "    for i in range(n_trees):\n",
        "        tree = DecisionTreeRegressor(max_depth=max_depth, random_state=42)\n",
        "\n",
        "        # инициализируем бустинг начальным алгоритмом, возвращающим ноль, \n",
        "        # поэтому первый алгоритм просто обучаем на выборке и добавляем в список\n",
        "        if len(trees) == 0:\n",
        "            # обучаем первое дерево на обучающей выборке\n",
        "            tree.fit(X_train, y_train)\n",
        "            \n",
        "            train_errors.append(mean_squared_error(y_train, gb_predict(X_train, trees, coefs, eta)))\n",
        "            test_errors.append(mean_squared_error(y_test, gb_predict(X_test, trees, coefs, eta)))\n",
        "        else:\n",
        "            # Получим ответы на текущей композиции\n",
        "            target = gb_predict(X_train, trees, coefs, eta)\n",
        "            \n",
        "            # алгоритмы начиная со второго обучаем на сдвиг\n",
        "            tree.fit(X_train, bias(y_train, target))\n",
        "            \n",
        "            train_errors.append(mean_squared_error(y_train, gb_predict(X_train, trees, coefs, eta)))\n",
        "            test_errors.append(mean_squared_error(y_test, gb_predict(X_test, trees, coefs, eta)))\n",
        "\n",
        "        trees.append(tree)\n",
        "        \n",
        "    return trees, train_errors, test_errors"
      ],
      "execution_count": 0,
      "outputs": []
    },
    {
      "cell_type": "markdown",
      "metadata": {
        "id": "hAfyqKPgVEo4",
        "colab_type": "text"
      },
      "source": [
        "Реализуем функцию обучения стохастического градиентного бустинга"
      ]
    },
    {
      "cell_type": "code",
      "metadata": {
        "id": "HoIdAoPYbsiL",
        "colab_type": "code",
        "colab": {}
      },
      "source": [
        "def sgb_fit(n_trees, max_depth, X_train, X_test, y_train, y_test, coefs, eta, batch_size=0.5):\n",
        "    \n",
        "    # Деревья будем записывать в список\n",
        "    trees = []\n",
        "    \n",
        "    # Будем записывать ошибки на обучающей и тестовой выборке на каждой итерации в список\n",
        "    train_errors = []\n",
        "    test_errors = []\n",
        "\n",
        "    # Размеры тренировочной и тестовой выборок\n",
        "    n_train = X_train.shape[0]\n",
        "    n_test = X_test.shape[0]\n",
        "\n",
        "    # Выберем размер подвыборки для стохастического градиентного бустинга\n",
        "    n_batch = math.ceil(1 / batch_size)\n",
        "    qty_in_batch_train = math.ceil(n_train * batch_size)\n",
        "    qty_in_batch_test = math.ceil(n_test * batch_size)\n",
        "    \n",
        "    for i in range(n_trees//n_batch):\n",
        "        for b in range(n_batch):\n",
        "\n",
        "            # Найдём границы разбиения подвыборок на батчи для стохастического бустинга\n",
        "            start_train = int(qty_in_batch_train*b)\n",
        "            end_train = int(qty_in_batch_train*(b+1))\n",
        "\n",
        "            start_test = int(qty_in_batch_test*b)\n",
        "            end_test = int(qty_in_batch_test*(b+1))\n",
        "            \n",
        "            # Возьмём подвыборки для текущего шага стохастического бустинга\n",
        "            X_tmp_train = X_train[start_train : end_train, : ]\n",
        "            y_tmp_train = y_train[start_train : end_train]\n",
        "\n",
        "            X_tmp_test = X_test[start_test : end_test, : ]\n",
        "            y_tmp_test = y_test[start_test : end_test]\n",
        "\n",
        "            tree = DecisionTreeRegressor(max_depth=max_depth, random_state=42)\n",
        "\n",
        "            # инициализируем бустинг начальным алгоритмом, возвращающим ноль, \n",
        "            # поэтому первый алгоритм просто обучаем на выборке и добавляем в список\n",
        "            if len(trees) == 0:\n",
        "                # обучаем первое дерево на обучающей выборке\n",
        "                tree.fit(X_tmp_train, y_tmp_train)\n",
        "                \n",
        "                train_errors.append(mean_squared_error(y_tmp_train, gb_predict(X_tmp_train, trees, coefs, eta)))\n",
        "                test_errors.append(mean_squared_error(y_tmp_test, gb_predict(X_tmp_test, trees, coefs, eta)))\n",
        "            else:\n",
        "                # Получим ответы на текущей композиции\n",
        "                target = gb_predict(X_tmp_train, trees, coefs, eta)\n",
        "                \n",
        "                # алгоритмы начиная со второго обучаем на сдвиг\n",
        "                tree.fit(X_tmp_train, bias(y_tmp_train, target))\n",
        "                \n",
        "                train_errors.append(mean_squared_error(y_tmp_train, gb_predict(X_tmp_train, trees, coefs, eta)))\n",
        "                test_errors.append(mean_squared_error(y_tmp_test, gb_predict(X_tmp_test, trees, coefs, eta)))\n",
        "\n",
        "            trees.append(tree)\n",
        "            \n",
        "    return trees, train_errors, test_errors"
      ],
      "execution_count": 0,
      "outputs": []
    },
    {
      "cell_type": "markdown",
      "metadata": {
        "id": "0vkHFhhzbsiN",
        "colab_type": "text"
      },
      "source": [
        "Теперь обучим несколько моделей с разными параметрами и исследуем их поведение."
      ]
    },
    {
      "cell_type": "code",
      "metadata": {
        "id": "2WvxluSlbsiO",
        "colab_type": "code",
        "colab": {}
      },
      "source": [
        "# Число деревьев в ансамбле\n",
        "n_trees = 10\n",
        "n_trees_list = [3, 5, 10, 50]\n",
        "\n",
        "# для простоты примем коэффициенты равными 1\n",
        "coefs = [1] * n_trees\n",
        "\n",
        "# Максимальная глубина деревьев\n",
        "max_depth = 3\n",
        "max_depth_list = [1, 3, 5, 10]\n",
        "\n",
        "# Шаг\n",
        "eta = 0.1"
      ],
      "execution_count": 0,
      "outputs": []
    },
    {
      "cell_type": "code",
      "metadata": {
        "id": "Vj1t_IKFc5W-",
        "colab_type": "code",
        "colab": {}
      },
      "source": [
        "trees_1 = [(gb_fit(x, max_depth, X_train, X_test, y_train, y_test, coefs, eta)) for x in n_trees_list]\n",
        "\n",
        "trees_1_errors = [mean_squared_error(y_test, gb_predict(X_test, row[0], coefs, eta)) for row in trees_1]"
      ],
      "execution_count": 0,
      "outputs": []
    },
    {
      "cell_type": "code",
      "metadata": {
        "id": "QXrSdSgjbsic",
        "colab_type": "code",
        "colab": {}
      },
      "source": [
        "import matplotlib.pyplot as plt"
      ],
      "execution_count": 0,
      "outputs": []
    },
    {
      "cell_type": "code",
      "metadata": {
        "id": "gjDdKkgObsif",
        "colab_type": "code",
        "colab": {
          "base_uri": "https://localhost:8080/",
          "height": 279
        },
        "outputId": "d6d0a225-998b-4ed9-b213-b8c27660a993"
      },
      "source": [
        "plt.xlabel('Trees number')\n",
        "plt.ylabel('MSE')\n",
        "plt.xlim(0, 55)\n",
        "plt.plot(n_trees_list, trees_1_errors, label='test error')\n",
        "plt.legend(loc='upper right')\n",
        "plt.show()"
      ],
      "execution_count": 17,
      "outputs": [
        {
          "output_type": "display_data",
          "data": {
            "image/png": "[encoded data removed]",
            "text/plain": [
              "<Figure size 432x288 with 1 Axes>"
            ]
          },
          "metadata": {
            "tags": []
          }
        }
      ]
    },
    {
      "cell_type": "markdown",
      "metadata": {
        "id": "tswkSCYqgHDU",
        "colab_type": "text"
      },
      "source": [
        "Как мы видим, для текущей задачи, ошибка резка падает, пока мы не достигли 10 деревьев, дальше выходит на плато, и построение большего количества деревьев не имеет никакого смысла"
      ]
    },
    {
      "cell_type": "code",
      "metadata": {
        "id": "fh3JxnQ8fdUH",
        "colab_type": "code",
        "colab": {}
      },
      "source": [
        "trees_2 = [(gb_fit(n_trees, x, X_train, X_test, y_train, y_test, coefs, eta)) for x in max_depth_list]\n",
        "\n",
        "trees_2_errors = [mean_squared_error(y_test, gb_predict(X_test, row[0], coefs, eta)) for row in trees_2]"
      ],
      "execution_count": 0,
      "outputs": []
    },
    {
      "cell_type": "code",
      "metadata": {
        "id": "Peu6RpBDftr3",
        "colab_type": "code",
        "colab": {
          "base_uri": "https://localhost:8080/",
          "height": 279
        },
        "outputId": "a24f4150-f4c5-4c44-b11b-0741acfc6b53"
      },
      "source": [
        "plt.xlabel('Max Depth')\n",
        "plt.ylabel('MSE')\n",
        "plt.xlim(0, 11)\n",
        "plt.plot(max_depth_list, trees_2_errors, label='test error')\n",
        "plt.legend(loc='upper right')\n",
        "plt.show()"
      ],
      "execution_count": 19,
      "outputs": [
        {
          "output_type": "display_data",
          "data": {
            "image/png": "[encoded data removed]",
            "text/plain": [
              "<Figure size 432x288 with 1 Axes>"
            ]
          },
          "metadata": {
            "tags": []
          }
        }
      ]
    },
    {
      "cell_type": "markdown",
      "metadata": {
        "id": "h7-3blJNgkFP",
        "colab_type": "text"
      },
      "source": [
        "Как мы видим, оптимальной оказалась глубина дерева = 3, и при дальнейшем увеличении глубины ошибка только возрастает"
      ]
    },
    {
      "cell_type": "code",
      "metadata": {
        "id": "fH1iNo46VQ-g",
        "colab_type": "code",
        "colab": {}
      },
      "source": [
        "n_trees, max_depth = 50, 3\n",
        "trees, train_error, test_error = sgb_fit(n_trees, max_depth, X_train, X_test, y_train, y_test, coefs, eta)"
      ],
      "execution_count": 0,
      "outputs": []
    },
    {
      "cell_type": "code",
      "metadata": {
        "id": "eWJXzhezVWMR",
        "colab_type": "code",
        "colab": {}
      },
      "source": [
        "def get_error_plot(n_trees, train_err, test_err):\n",
        "    plt.xlabel('Iteration number')\n",
        "    plt.ylabel('MSE')\n",
        "    plt.xlim(0, n_trees)\n",
        "    plt.plot(list(range(n_trees)), train_err, label='train error')\n",
        "    plt.plot(list(range(n_trees)), test_err, label='test error')\n",
        "    plt.legend(loc='upper right')\n",
        "    plt.show()"
      ],
      "execution_count": 0,
      "outputs": []
    },
    {
      "cell_type": "code",
      "metadata": {
        "id": "RyV3RQhZVaFP",
        "colab_type": "code",
        "colab": {
          "base_uri": "https://localhost:8080/",
          "height": 279
        },
        "outputId": "94856a4a-833b-4a9f-f8c5-0f0fb7f7ec88"
      },
      "source": [
        "get_error_plot(n_trees, train_error, test_error)"
      ],
      "execution_count": 23,
      "outputs": [
        {
          "output_type": "display_data",
          "data": {
            "image/png": "[encoded data removed]",
            "text/plain": [
              "<Figure size 432x288 with 1 Axes>"
            ]
          },
          "metadata": {
            "tags": []
          }
        }
      ]
    }
  ]
}