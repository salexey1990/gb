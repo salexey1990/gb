{
 "cells": [
  {
   "cell_type": "code",
   "execution_count": 53,
   "metadata": {},
   "outputs": [],
   "source": [
    "import numpy as np\n",
    "import matplotlib.pyplot as plt\n",
    "import warnings\n",
    "warnings.filterwarnings(\"ignore\")"
   ]
  },
  {
   "cell_type": "code",
   "execution_count": 2,
   "metadata": {},
   "outputs": [],
   "source": [
    "X = np.array([[1, 1, 1, 1, 1, 1, 1, 1, 1, 1],\n",
    "              [1, 1, 2, 1, 3, 0, 5, 10, 1, 2],\n",
    "              [500, 700, 750, 600, 1450,\n",
    "               800, 1500, 2000, 450, 1000],\n",
    "              [1, 1, 2, 1, 2, \n",
    "               1, 3, 3, 1, 2]])"
   ]
  },
  {
   "cell_type": "code",
   "execution_count": 3,
   "metadata": {},
   "outputs": [],
   "source": [
    "y = [45, 55, 50, 59, 65,\n",
    "    35, 75, 80, 50, 60]"
   ]
  },
  {
   "cell_type": "code",
   "execution_count": 4,
   "metadata": {},
   "outputs": [],
   "source": [
    "def calc_std_feat(x):\n",
    "  res = (x - x.mean()) / x.std()\n",
    "  return res"
   ]
  },
  {
   "cell_type": "code",
   "execution_count": 9,
   "metadata": {},
   "outputs": [],
   "source": [
    "def calc_mse(y, y_pred):\n",
    "  err = np.mean((y - y_pred)**2)\n",
    "  return err"
   ]
  },
  {
   "cell_type": "code",
   "execution_count": 6,
   "metadata": {},
   "outputs": [],
   "source": [
    "X_st = X.copy().astype(np.float64)\n",
    "\n",
    "X_st[1] = calc_std_feat(X[1])\n",
    "X_st[2] = calc_std_feat(X[2])\n",
    "X_st[3] = calc_std_feat(X[3])"
   ]
  },
  {
   "cell_type": "code",
   "execution_count": 27,
   "metadata": {},
   "outputs": [],
   "source": [
    "def eval_model_reg2(X, y, iterations, alpha=1e-4, lambda_=1e-8, show_results=True):\n",
    "  np.random.seed(42)\n",
    "  W = np.random.randn(X.shape[0])\n",
    "  n = X.shape[1]\n",
    "  for i in range(1, iterations+1):\n",
    "    y_pred = np.dot(W, X)\n",
    "    err = calc_mse(y, y_pred)\n",
    "    W -= alpha * (1/n * 2 * np.dot((y_pred - y), X.T) + lambda_ * W) \n",
    "    if i % (iterations / 10) == 0 and show_results:\n",
    "      print(i, W, err)\n",
    "  return W"
   ]
  },
  {
   "cell_type": "code",
   "execution_count": 28,
   "metadata": {},
   "outputs": [
    {
     "name": "stdout",
     "output_type": "stream",
     "text": [
      "500 [1.1254902  0.20774643 0.20104868 0.2018609 ] 3319.883623678966\n",
      "1000 [1.1254902  0.20774643 0.20104868 0.2018609 ] 3319.883623678966\n",
      "1500 [1.1254902  0.20774643 0.20104868 0.2018609 ] 3319.883623678966\n",
      "2000 [1.1254902  0.20774643 0.20104868 0.2018609 ] 3319.883623678966\n",
      "2500 [1.1254902  0.20774643 0.20104868 0.2018609 ] 3319.883623678966\n",
      "3000 [1.1254902  0.20774643 0.20104868 0.2018609 ] 3319.883623678966\n",
      "3500 [1.1254902  0.20774643 0.20104868 0.2018609 ] 3319.883623678966\n",
      "4000 [1.1254902  0.20774643 0.20104868 0.2018609 ] 3319.883623678966\n",
      "4500 [1.1254902  0.20774643 0.20104868 0.2018609 ] 3319.883623678966\n",
      "5000 [1.1254902  0.20774643 0.20104868 0.2018609 ] 3319.883623678966\n"
     ]
    },
    {
     "data": {
      "text/plain": [
       "array([1.1254902 , 0.20774643, 0.20104868, 0.2018609 ])"
      ]
     },
     "execution_count": 28,
     "metadata": {},
     "output_type": "execute_result"
    }
   ],
   "source": [
    "eval_model_reg2(X_st, y, iterations=5000, alpha=1e-2, lambda_=100)"
   ]
  },
  {
   "cell_type": "code",
   "execution_count": 37,
   "metadata": {},
   "outputs": [],
   "source": [
    "lambdas = [1e-5, 1e-4, 1e-3, 1e-2, 1e-1, 1, 10, 100]\n",
    "weights = np.array(list(map(lambda x : eval_model_reg2(X_st, y, iterations=5000,\n",
    "                                              alpha=1e-2, lambda_=x, show_results=False), lambdas)))"
   ]
  },
  {
   "cell_type": "code",
   "execution_count": 38,
   "metadata": {},
   "outputs": [
    {
     "data": {
      "text/plain": [
       "array([[57.399713  ,  6.12209394,  1.42892499,  4.11620609],\n",
       "       [57.39713014,  6.12102515,  1.4301203 ,  4.11587451],\n",
       "       [57.37131434,  6.11038803,  1.44200443,  4.11257825],\n",
       "       [57.11442786,  6.0088442 ,  1.55430443,  4.08144793],\n",
       "       [54.66666667,  5.3118901 ,  2.25660813,  3.88109191],\n",
       "       [38.26666667,  3.66557478,  2.94352608,  3.25219037],\n",
       "       [ 9.56666667,  1.42530532,  1.35226504,  1.37037873],\n",
       "       [ 1.1254902 ,  0.20774643,  0.20104868,  0.2018609 ]])"
      ]
     },
     "execution_count": 38,
     "metadata": {},
     "output_type": "execute_result"
    }
   ],
   "source": [
    "weights"
   ]
  },
  {
   "cell_type": "code",
   "execution_count": 59,
   "metadata": {},
   "outputs": [
    {
     "data": {
      "image/png": "[encoded data removed]",
      "text/plain": [
       "<Figure size 432x288 with 1 Axes>"
      ]
     },
     "metadata": {
      "needs_background": "light"
     },
     "output_type": "display_data"
    }
   ],
   "source": [
    "fig = plt.figure()\n",
    "ax = fig.add_subplot(1, 1, 1)\n",
    "ax.plot(lambdas, weights)\n",
    "ax.set_yscale('log')\n",
    "fig.show()"
   ]
  },
  {
   "cell_type": "markdown",
   "metadata": {},
   "source": [
    "## 2"
   ]
  },
  {
   "cell_type": "markdown",
   "metadata": {},
   "source": [
    "К одному признаку можно применить и стандартизацию и нормализацию. При этом разброс параметров будет таким же, как если бы мы применили один только метод (применённый последним)"
   ]
  },
  {
   "cell_type": "markdown",
   "metadata": {},
   "source": [
    "## 3"
   ]
  },
  {
   "cell_type": "code",
   "execution_count": 63,
   "metadata": {},
   "outputs": [],
   "source": [
    "def eval_model_reg1(X, y, iterations, alpha=1e-4, lambda_=1e-8):\n",
    "  np.random.seed(42)\n",
    "  W = np.random.randn(X.shape[0])\n",
    "  n = X.shape[1]\n",
    "  for i in range(1, iterations+1):\n",
    "    y_pred = np.dot(W, X)\n",
    "    err = calc_mse(y, y_pred)\n",
    "    W -= alpha * (1/n * 2 * np.dot((y_pred - y), X.T) + lambda_ * 1/2 * W/np.abs(W)) \n",
    "    if i % (iterations / 10) == 0:\n",
    "      print(i, W, err)\n",
    "  return W"
   ]
  },
  {
   "cell_type": "code",
   "execution_count": 64,
   "metadata": {},
   "outputs": [
    {
     "name": "stdout",
     "output_type": "stream",
     "text": [
      "500 [57.14767586  5.01486022  2.38254469  3.98654809] 40.11569148619949\n",
      "1000 [57.1499999   5.66939706  1.78547695  3.93587196] 39.939510219943195\n",
      "1500 [57.15        5.89273148  1.53635592  3.96470614] 39.91367383859274\n",
      "2000 [57.15        5.97309429  1.43356454  3.9884427 ] 39.90924524014682\n",
      "2500 [57.15        6.00321609  1.39142405  4.00100972] 39.90836215720107\n",
      "3000 [57.15        6.01483732  1.37421346  4.00682594] 39.90814899185787\n",
      "3500 [57.15        6.01940815  1.36720024  4.00936147] 39.90808596426352\n",
      "4000 [57.15        6.02122829  1.36434621  4.01043345] 39.90806419349087\n",
      "4500 [57.15        6.0219587   1.36318569  4.01087909] 39.9080559720862\n",
      "5000 [57.15        6.0222532   1.36271402  4.01106258] 39.908052732975804\n"
     ]
    },
    {
     "data": {
      "text/plain": [
       "array([57.15      ,  6.0222532 ,  1.36271402,  4.01106258])"
      ]
     },
     "execution_count": 64,
     "metadata": {},
     "output_type": "execute_result"
    }
   ],
   "source": [
    "eval_model_reg1(X_st, y, iterations=5000, alpha=1e-2, lambda_=1)"
   ]
  }
 ],
 "metadata": {
  "kernelspec": {
   "display_name": "Python 3",
   "language": "python",
   "name": "python3"
  },
  "language_info": {
   "codemirror_mode": {
    "name": "ipython",
    "version": 3
   },
   "file_extension": ".py",
   "mimetype": "text/x-python",
   "name": "python",
   "nbconvert_exporter": "python",
   "pygments_lexer": "ipython3",
   "version": "3.7.3"
  }
 },
 "nbformat": 4,
 "nbformat_minor": 2
}
