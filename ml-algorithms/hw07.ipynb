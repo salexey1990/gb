{
  "nbformat": 4,
  "nbformat_minor": 0,
  "metadata": {
    "kernelspec": {
      "display_name": "Python 3",
      "language": "python",
      "name": "python3"
    },
    "language_info": {
      "codemirror_mode": {
        "name": "ipython",
        "version": 3
      },
      "file_extension": ".py",
      "mimetype": "text/x-python",
      "name": "python",
      "nbconvert_exporter": "python",
      "pygments_lexer": "ipython3",
      "version": "3.7.1"
    },
    "colab": {
      "name": "hw07.ipynb",
      "provenance": [],
      "collapsed_sections": [],
      "include_colab_link": true
    }
  },
  "cells": [
    {
      "cell_type": "markdown",
      "metadata": {
        "id": "view-in-github",
        "colab_type": "text"
      },
      "source": [
        "<a href=\"https://colab.research.google.com/github/salexey1990/gb/blob/master/ml-algorithms/hw07.ipynb\" target=\"_parent\"><img src=\"https://colab.research.google.com/assets/colab-badge.svg\" alt=\"Open In Colab\"/></a>"
      ]
    },
    {
      "cell_type": "markdown",
      "metadata": {
        "id": "ANWmZgT2uf99",
        "colab_type": "text"
      },
      "source": [
        "Реализуем алгоритм kNN с помощью Python."
      ]
    },
    {
      "cell_type": "code",
      "metadata": {
        "id": "ChmkZ71kuf9-",
        "colab_type": "code",
        "colab": {}
      },
      "source": [
        "import numpy as np\n",
        "from sklearn import model_selection\n",
        "from sklearn import datasets\n",
        "import matplotlib.pyplot as plt\n",
        "from matplotlib.colors import ListedColormap\n",
        "from itertools import combinations\n",
        "from sklearn.metrics import r2_score"
      ],
      "execution_count": 0,
      "outputs": []
    },
    {
      "cell_type": "code",
      "metadata": {
        "id": "_49Y22E9uf-C",
        "colab_type": "code",
        "colab": {}
      },
      "source": [
        "# сгенерируем данные\n",
        "regression_data, regression_labels = datasets.make_regression(n_features = 2, n_informative = 2, random_state=5, n_samples=100)"
      ],
      "execution_count": 0,
      "outputs": []
    },
    {
      "cell_type": "code",
      "metadata": {
        "id": "ACYClLghuf-F",
        "colab_type": "code",
        "colab": {}
      },
      "source": [
        "# Разобьем выборку на обучающую и тестовую\n",
        "\n",
        "X_train, X_test, y_train, y_test = model_selection.train_test_split(regression_data, \n",
        "                                                                                     regression_labels, \n",
        "                                                                                     test_size = 0.3,\n",
        "                                                                                     random_state = 1)"
      ],
      "execution_count": 0,
      "outputs": []
    },
    {
      "cell_type": "markdown",
      "metadata": {
        "id": "59xP1kfUuf-O",
        "colab_type": "text"
      },
      "source": [
        "Используем евклидову метрику. Реализуем функцию для ее подсчета."
      ]
    },
    {
      "cell_type": "code",
      "metadata": {
        "id": "MKipIKeGuf-P",
        "colab_type": "code",
        "colab": {}
      },
      "source": [
        "def e_metrics(x1, x2):\n",
        "    \n",
        "    distance = 0\n",
        "    for i in range(len(x1)):\n",
        "        distance += np.square(x1[i] - x2[i])\n",
        "    \n",
        "    return np.sqrt(distance)"
      ],
      "execution_count": 0,
      "outputs": []
    },
    {
      "cell_type": "code",
      "metadata": {
        "id": "yROEz4aIzdE6",
        "colab_type": "code",
        "colab": {}
      },
      "source": [
        "# Реализуем функцию расчёта весов по дистанции между объектами\n",
        "\n",
        "def calc_weight(distance):\n",
        "  a = 1e-5\n",
        "  weight = 1 / (distance + a)\n",
        "  return weight"
      ],
      "execution_count": 0,
      "outputs": []
    },
    {
      "cell_type": "code",
      "metadata": {
        "id": "ymoe0UsODrFF",
        "colab_type": "code",
        "colab": {}
      },
      "source": [
        "# Реализуем функцию предсказания значения, с учётом весов\n",
        "\n",
        "def calc_prediction(weights):\n",
        "  weighted_sum = 0\n",
        "  weight_product = 1\n",
        "  combination_sum = 0\n",
        "\n",
        "  for value, weight in weights.items():\n",
        "    weighted_sum += value/weight\n",
        "    weight_product *= weight\n",
        "\n",
        "  for x in list(combinations(weights.values(), len(weights.values())-1)):\n",
        "    combination_sum += np.prod(x)\n",
        "\n",
        "  prediction = (weight_product/combination_sum) * weighted_sum\n",
        "\n",
        "  return prediction"
      ],
      "execution_count": 0,
      "outputs": []
    },
    {
      "cell_type": "markdown",
      "metadata": {
        "id": "1tvFJ8-ouf-T",
        "colab_type": "text"
      },
      "source": [
        "Реализуем алгоритм поиска k ближайших соседей."
      ]
    },
    {
      "cell_type": "code",
      "metadata": {
        "id": "LIKuDr9huf-V",
        "colab_type": "code",
        "colab": {}
      },
      "source": [
        "def knn(x_train, y_train, x_test, k):\n",
        "    \n",
        "    answers = []\n",
        "    for x in x_test:\n",
        "        test_distances = []\n",
        "            \n",
        "        for i in range(len(x_train)):\n",
        "            \n",
        "            # расчет расстояния от классифицируемого объекта до\n",
        "            # объекта обучающей выборки\n",
        "            distance = e_metrics(x, x_train[i])\n",
        "            \n",
        "            # Записываем в список значение расстояния и ответа на объекте обучающей выборки\n",
        "            test_distances.append((distance, y_train[i]))\n",
        "        \n",
        "\n",
        "        # Сортируем список и среди первых k элементов подсчитаем веса этих элементов, основанные на дистанции до них\n",
        "        weights = {}\n",
        "        for d in sorted(test_distances)[0:k]:\n",
        "            weights[d[1]] = calc_weight(d[0])\n",
        "            \n",
        "        answers.append(calc_prediction(weights))\n",
        "        \n",
        "    return answers"
      ],
      "execution_count": 0,
      "outputs": []
    },
    {
      "cell_type": "markdown",
      "metadata": {
        "id": "7DVrbUPyuf-X",
        "colab_type": "text"
      },
      "source": [
        "Напишем функцию для вычисления точности"
      ]
    },
    {
      "cell_type": "code",
      "metadata": {
        "id": "eK2Bn_7ouf-Y",
        "colab_type": "code",
        "colab": {}
      },
      "source": [
        "# Введем функцию подсчета точности как среднюю квадратичную ошибку\n",
        "def mse_metric(actual, predicted):\n",
        "    return np.average((actual - predicted) ** 2, axis=0)"
      ],
      "execution_count": 0,
      "outputs": []
    },
    {
      "cell_type": "markdown",
      "metadata": {
        "id": "SprqYVBQuf-a",
        "colab_type": "text"
      },
      "source": [
        "Проверим работу алгоритма при различных k"
      ]
    },
    {
      "cell_type": "code",
      "metadata": {
        "id": "8K98g57quf-a",
        "colab_type": "code",
        "outputId": "867ee2fe-4ea4-4fdd-dca9-052d7935eb86",
        "colab": {
          "base_uri": "https://localhost:8080/",
          "height": 34
        }
      },
      "source": [
        "k = 3\n",
        "\n",
        "y_pred = knn(X_train, y_train, X_test, k)\n",
        "\n",
        "print(f'Точность алгоритма при k = {k}: {mse_metric(y_test, y_pred):.3f}')\n"
      ],
      "execution_count": 9,
      "outputs": [
        {
          "output_type": "stream",
          "text": [
            "Точность алгоритма при k = 3: 296.436\n"
          ],
          "name": "stdout"
        }
      ]
    },
    {
      "cell_type": "markdown",
      "metadata": {
        "id": "xDbkTkTYuf_F",
        "colab_type": "text"
      },
      "source": [
        "# 2"
      ]
    },
    {
      "cell_type": "code",
      "metadata": {
        "id": "qRhCTQdZuf_G",
        "colab_type": "code",
        "colab": {}
      },
      "source": [
        "from sklearn.datasets import make_blobs\n",
        "import random\n",
        "\n",
        "X, y = make_blobs(n_samples=100, random_state=1)"
      ],
      "execution_count": 0,
      "outputs": []
    },
    {
      "cell_type": "markdown",
      "metadata": {
        "id": "Vv0J1xcDuf_H",
        "colab_type": "text"
      },
      "source": [
        "Изобразим точки на графике."
      ]
    },
    {
      "cell_type": "code",
      "metadata": {
        "id": "I6VqFOARuf_I",
        "colab_type": "code",
        "outputId": "5c43fc9e-e915-4a23-9a15-d660f00834a3",
        "colab": {
          "base_uri": "https://localhost:8080/",
          "height": 446
        }
      },
      "source": [
        "plt.figure(figsize=(7,7))\n",
        "plt.scatter(X[:, 0], X[:, 1])"
      ],
      "execution_count": 11,
      "outputs": [
        {
          "output_type": "execute_result",
          "data": {
            "text/plain": [
              "<matplotlib.collections.PathCollection at 0x7f966ff23828>"
            ]
          },
          "metadata": {
            "tags": []
          },
          "execution_count": 11
        },
        {
          "output_type": "display_data",
          "data": {
            "image/png": "[encoded data removed]",
            "text/plain": [
              "<Figure size 504x504 with 1 Axes>"
            ]
          },
          "metadata": {
            "tags": []
          }
        }
      ]
    },
    {
      "cell_type": "markdown",
      "metadata": {
        "id": "a421abi0uf_L",
        "colab_type": "text"
      },
      "source": [
        "В качестве метрики расстояния будем использовать евклидово расстояние, функция для которого была написана ранее. В качестве центроидов выберем первые k элементов датасета. Реализуем основной цикл алгоритма."
      ]
    },
    {
      "cell_type": "code",
      "metadata": {
        "id": "7LSTomiyuf_L",
        "colab_type": "code",
        "colab": {}
      },
      "source": [
        "def kmeans(data, k, max_iterations, min_distance):\n",
        "    # Создадим словарь для классификации\n",
        "    classes = {i: [] for i in range(k)}\n",
        "    \n",
        "    # инициализируем центроиды как первые k элементов датасета\n",
        "    centroids = [data[i] for i in range(k)]\n",
        "    \n",
        "    for _ in range(max_iterations):\n",
        "        # классифицируем объекты по центроидам\n",
        "        for x in data:\n",
        "            # определим расстояния от объекта до каждого центроида\n",
        "            distances = [e_metrics(x, centroid) for centroid in centroids]\n",
        "            # отнесем объект к кластеру, до центроида которого наименьшее расстояние\n",
        "            classification = distances.index(min(distances))\n",
        "            classes[classification].append(x)\n",
        "        \n",
        "        # сохраним предыдущие центроиды в отдельный список для последующего сравнения сновыми\n",
        "        old_centroids = centroids.copy()\n",
        "        \n",
        "        # пересчитаем центроиды как среднее по кластерам\n",
        "        for classification in classes:\n",
        "            centroids[classification] = np.average(classes[classification], axis=0)\n",
        "            \n",
        "        # сравним величину смещения центроидов с минимальной\n",
        "        optimal = True\n",
        "        for centroid in range(len(centroids)):\n",
        "            if np.sum(abs((centroids[centroid] - old_centroids[centroid]) / old_centroids * 100)) > min_distance:\n",
        "                optimal = False\n",
        "                \n",
        "        # если все смещения меньше минимального, останавливаем алгоритм  \n",
        "        if optimal:\n",
        "            break\n",
        "    \n",
        "    return old_centroids, classes"
      ],
      "execution_count": 0,
      "outputs": []
    },
    {
      "cell_type": "markdown",
      "metadata": {
        "id": "hF5nlCxFuf_O",
        "colab_type": "text"
      },
      "source": [
        "Напишем функцию для визуализации кластеров"
      ]
    },
    {
      "cell_type": "code",
      "metadata": {
        "id": "D5RysDcPuf_O",
        "colab_type": "code",
        "colab": {}
      },
      "source": [
        "def visualize(centroids, classes):\n",
        "    colors = ['r', 'g', 'b', 'c', 'm']\n",
        "    \n",
        "    plt.figure(figsize=(7,7))\n",
        "    \n",
        "    # нанесем на график центроиды\n",
        "    for centroid in centroids:\n",
        "        plt.scatter(centroid[0], centroid[1], marker='x', s=130, c='black')\n",
        "        \n",
        "    # нанесем объекты раскрашенные по классам\n",
        "    for class_item in classes:\n",
        "        for x in classes[class_item]:\n",
        "            plt.scatter(x[0], x[1], color=colors[class_item])\n",
        "            \n",
        "    plt.show()"
      ],
      "execution_count": 0,
      "outputs": []
    },
    {
      "cell_type": "code",
      "metadata": {
        "id": "Hsy8q0FOuf_Q",
        "colab_type": "code",
        "outputId": "37a96350-0e76-49a8-b8da-4dde1029a455",
        "colab": {
          "base_uri": "https://localhost:8080/",
          "height": 432
        }
      },
      "source": [
        "# определим максимальное количество итераций\n",
        "max_iterations = 3\n",
        "\n",
        "# и минимальное расстояние между центроидами до пересчета и после него, при котором нужно остановить алгоритм\n",
        "min_distance = 1e-4\n",
        "\n",
        "# сразу определим известное нам количество кластеров\n",
        "k = 5\n",
        "\n",
        "centroids, clusters = kmeans(X, k, max_iterations, min_distance)\n",
        "\n",
        "visualize(centroids, clusters)"
      ],
      "execution_count": 14,
      "outputs": [
        {
          "output_type": "display_data",
          "data": {
            "image/png": "[encoded data removed]",
            "text/plain": [
              "<Figure size 504x504 with 1 Axes>"
            ]
          },
          "metadata": {
            "tags": []
          }
        }
      ]
    },
    {
      "cell_type": "code",
      "metadata": {
        "id": "5wsNfTaZ4or-",
        "colab_type": "code",
        "colab": {}
      },
      "source": [
        "# Реализуем функцию вычисления среднего квадратичного внутриклассового расстояния\n",
        "def calc_inner_distance(centroids, clusters):\n",
        "  distances = np.zeros(len(centroids))\n",
        "  result = 0\n",
        "\n",
        "  for i, centroid in enumerate(centroids):\n",
        "    for x in clusters[i]:\n",
        "      distances[i] += e_metrics(x, centroid)**2\n",
        "    result += distances[i] / len(clusters[i])\n",
        "  return result"
      ],
      "execution_count": 0,
      "outputs": []
    },
    {
      "cell_type": "code",
      "metadata": {
        "id": "TgVJkEAM8mGR",
        "colab_type": "code",
        "colab": {}
      },
      "source": [
        "# Построим несколько моделей с разным количество кластеров\n",
        "clusters_count_list = list(range(1,11))\n",
        "cls = [kmeans(X, k, max_iterations, min_distance) for k in clusters_count_list]\n",
        "inner_distances = [calc_inner_distance(centroids, clusters) for centroids, clusters in cls]"
      ],
      "execution_count": 0,
      "outputs": []
    },
    {
      "cell_type": "code",
      "metadata": {
        "id": "wufUaRC28l1m",
        "colab_type": "code",
        "colab": {
          "base_uri": "https://localhost:8080/",
          "height": 279
        },
        "outputId": "a4d9e715-6a07-4fbd-b85f-5b134557ffcb"
      },
      "source": [
        "# Построим на графике зависимость среднеквадратичного внутрикластерного рассотояния от количества кластеров\n",
        "plt.xlabel('ClustersNumber')\n",
        "plt.ylabel('Inner cluster distance')\n",
        "plt.plot(clusters_count_list, inner_distances, label='distance')\n",
        "plt.legend(loc='upper right')\n",
        "plt.show()"
      ],
      "execution_count": 17,
      "outputs": [
        {
          "output_type": "display_data",
          "data": {
            "image/png": "[encoded data removed]",
            "text/plain": [
              "<Figure size 432x288 with 1 Axes>"
            ]
          },
          "metadata": {
            "tags": []
          }
        }
      ]
    },
    {
      "cell_type": "code",
      "metadata": {
        "id": "wQ7Pkajp8lfj",
        "colab_type": "code",
        "colab": {}
      },
      "source": [
        ""
      ],
      "execution_count": 0,
      "outputs": []
    }
  ]
}