{
  "nbformat": 4,
  "nbformat_minor": 0,
  "metadata": {
    "colab": {
      "name": "Untitled7.ipynb",
      "provenance": [],
      "authorship_tag": "ABX9TyMU1/8Qp7r0smMEkokqPa60",
      "include_colab_link": true
    },
    "kernelspec": {
      "name": "python3",
      "display_name": "Python 3"
    }
  },
  "cells": [
    {
      "cell_type": "markdown",
      "metadata": {
        "id": "view-in-github",
        "colab_type": "text"
      },
      "source": [
        "<a href=\"https://colab.research.google.com/github/salexey1990/gb/blob/master/cv/cv06.ipynb\" target=\"_parent\"><img src=\"https://colab.research.google.com/assets/colab-badge.svg\" alt=\"Open In Colab\"/></a>"
      ]
    },
    {
      "cell_type": "code",
      "metadata": {
        "id": "7rQPMxpD9kMC",
        "colab_type": "code",
        "colab": {}
      },
      "source": [
        "from __future__ import absolute_import\n",
        "from __future__ import print_function\n",
        "import numpy as np\n",
        "\n",
        "import random\n",
        "from keras.datasets import mnist\n",
        "from keras.models import Model\n",
        "from keras.layers import Input, Flatten, Dense, Dropout, Lambda, Conv2D, MaxPool2D\n",
        "from keras.optimizers import RMSprop\n",
        "from keras import backend as K\n",
        "import tensorflow as tf"
      ],
      "execution_count": 0,
      "outputs": []
    },
    {
      "cell_type": "code",
      "metadata": {
        "id": "xUYv6ROU9j8j",
        "colab_type": "code",
        "colab": {
          "base_uri": "https://localhost:8080/",
          "height": 34
        },
        "outputId": "0c9229df-b517-4bad-f6f7-dd3bbbe46d1d"
      },
      "source": [
        "# Для нашей задачи скачаем датасет с sklearn, поскольку он имеет удобное разбиение на пары одинаковых/разных людей\n",
        "from sklearn.datasets import fetch_lfw_pairs\n",
        "lfw_pairs_train = fetch_lfw_pairs(subset='train', color=True, resize=1.)\n",
        "\n",
        "lfw_pairs_train.pairs.shape"
      ],
      "execution_count": 2,
      "outputs": [
        {
          "output_type": "execute_result",
          "data": {
            "text/plain": [
              "(2200, 2, 125, 94, 3)"
            ]
          },
          "metadata": {
            "tags": []
          },
          "execution_count": 2
        }
      ]
    },
    {
      "cell_type": "code",
      "metadata": {
        "id": "ATz6pvA0-V5N",
        "colab_type": "code",
        "colab": {
          "base_uri": "https://localhost:8080/",
          "height": 34
        },
        "outputId": "cce10fe3-54fa-4826-88d9-4b12bdb72f18"
      },
      "source": [
        "lfw_pairs_test = fetch_lfw_pairs(subset='test', color=True, resize=1.)\n",
        "\n",
        "lfw_pairs_test.pairs.shape"
      ],
      "execution_count": 3,
      "outputs": [
        {
          "output_type": "execute_result",
          "data": {
            "text/plain": [
              "(1000, 2, 125, 94, 3)"
            ]
          },
          "metadata": {
            "tags": []
          },
          "execution_count": 3
        }
      ]
    },
    {
      "cell_type": "code",
      "metadata": {
        "id": "V2x-AUYt974_",
        "colab_type": "code",
        "colab": {}
      },
      "source": [
        "lfw_pairs_test.pairs = lfw_pairs_test.pairs.astype('float32')\n",
        "lfw_pairs_train.pairs = lfw_pairs_train.pairs.astype('float32')\n",
        "lfw_pairs_test.pairs /= 255\n",
        "lfw_pairs_train.pairs /= 255"
      ],
      "execution_count": 0,
      "outputs": []
    },
    {
      "cell_type": "code",
      "metadata": {
        "id": "FzCpwTSs_bhJ",
        "colab_type": "code",
        "colab": {}
      },
      "source": [
        "input_shape = 125, 94, 3"
      ],
      "execution_count": 0,
      "outputs": []
    },
    {
      "cell_type": "code",
      "metadata": {
        "id": "8OkFxPFO8f8S",
        "colab_type": "code",
        "colab": {
          "base_uri": "https://localhost:8080/",
          "height": 419
        },
        "outputId": "ae2de060-485b-416b-c1cb-4f0972ab7e5a"
      },
      "source": [
        "\n",
        "epochs = 10\n",
        "\n",
        "\n",
        "def euclidean_distance(vects):\n",
        "    x, y = vects\n",
        "    sum_square = K.sum(K.square(x - y), axis=1, keepdims=True)\n",
        "    return K.sqrt(K.maximum(sum_square, K.epsilon()))\n",
        "\n",
        "\n",
        "def eucl_dist_output_shape(shapes):\n",
        "    shape1, shape2 = shapes\n",
        "    return (shape1[0], 1)\n",
        "\n",
        "\n",
        "def contrastive_loss(y_true, y_pred):\n",
        "    '''Contrastive loss from Hadsell-et-al.'06\n",
        "    http://yann.lecun.com/exdb/publis/pdf/hadsell-chopra-lecun-06.pdf\n",
        "    '''\n",
        "    margin = 1\n",
        "    square_pred = K.square(y_pred)\n",
        "    margin_square = K.square(K.maximum(margin - y_pred, 0))\n",
        "    return K.mean(y_true * square_pred + (1 - y_true) * margin_square)\n",
        "\n",
        "\n",
        "def create_base_network(input_shape):\n",
        "    '''Base network to be shared (eq. to feature extraction).\n",
        "    '''\n",
        "    input = Input(shape=input_shape)\n",
        "    x = Conv2D(32, (5, 5), padding='same', activation='relu')(input)\n",
        "    x = MaxPool2D((2, 2), (2, 2))(x)\n",
        "    x = Conv2D(64, (5, 5), padding='same', activation='relu')(x)\n",
        "    x = MaxPool2D((2, 2), (2, 2))(x)\n",
        "    x = Flatten()(x)\n",
        "    x = Dense(128, activation='relu')(x)\n",
        "    x = Dropout(0.1)(x)\n",
        "    x = Dense(128, activation='relu')(x)\n",
        "    x = Dropout(0.1)(x)\n",
        "    x = Dense(128, activation='relu')(x)\n",
        "    return Model(input, x)\n",
        "\n",
        "\n",
        "def compute_accuracy(y_true, y_pred):\n",
        "    '''Compute classification accuracy with a fixed threshold on distances.\n",
        "    '''\n",
        "    pred = y_pred.ravel() < 0.5\n",
        "    return np.mean(pred == y_true)\n",
        "\n",
        "\n",
        "def accuracy(y_true, y_pred):\n",
        "    '''Compute classification accuracy with a fixed threshold on distances.\n",
        "    '''\n",
        "    return K.mean(K.equal(y_true, K.cast(y_pred < 0.5, y_true.dtype)))\n",
        "\n",
        "\n",
        "\n",
        "# network definition\n",
        "base_network = create_base_network(input_shape)\n",
        "\n",
        "input_a = Input(shape=input_shape)\n",
        "input_b = Input(shape=input_shape)\n",
        "\n",
        "# because we re-use the same instance `base_network`,\n",
        "# the weights of the network\n",
        "# will be shared across the two branches\n",
        "processed_a = base_network(input_a)\n",
        "processed_b = base_network(input_b)\n",
        "\n",
        "distance = Lambda(euclidean_distance,\n",
        "                  output_shape=eucl_dist_output_shape)([processed_a, processed_b])\n",
        "\n",
        "model = Model([input_a, input_b], distance)\n",
        "\n",
        "# train\n",
        "rms = RMSprop()\n",
        "model.compile(loss=contrastive_loss, optimizer=rms, metrics=[accuracy])\n",
        "model.fit([lfw_pairs_train.pairs[:, 0], lfw_pairs_train.pairs[:, 1]], lfw_pairs_train.target,\n",
        "          batch_size=128,\n",
        "          epochs=epochs,\n",
        "          validation_data=([lfw_pairs_test.pairs[:, 0], lfw_pairs_test.pairs[:, 1]], lfw_pairs_test.target))\n",
        "\n",
        "# compute final accuracy on training and test sets\n",
        "y_pred = model.predict([lfw_pairs_train.pairs[:, 0], lfw_pairs_train.pairs[:, 1]])\n",
        "tr_acc = compute_accuracy(lfw_pairs_train.target, y_pred)\n",
        "y_pred = model.predict([lfw_pairs_test.pairs[:, 0], lfw_pairs_test.pairs[:, 1]])\n",
        "te_acc = compute_accuracy(lfw_pairs_test.target, y_pred)\n",
        "\n",
        "print('* Accuracy on training set: %0.2f%%' % (100 * tr_acc))\n",
        "print('* Accuracy on test set: %0.2f%%' % (100 * te_acc))"
      ],
      "execution_count": 8,
      "outputs": [
        {
          "output_type": "stream",
          "text": [
            "Train on 2200 samples, validate on 1000 samples\n",
            "Epoch 1/10\n",
            "2200/2200 [==============================] - 177s 80ms/step - loss: 2.2110 - accuracy: 0.5043 - val_loss: 0.4291 - val_accuracy: 0.4883\n",
            "Epoch 2/10\n",
            "2200/2200 [==============================] - 178s 81ms/step - loss: 0.2728 - accuracy: 0.4978 - val_loss: 0.3713 - val_accuracy: 0.4883\n",
            "Epoch 3/10\n",
            "2200/2200 [==============================] - 178s 81ms/step - loss: 0.3118 - accuracy: 0.5052 - val_loss: 0.4171 - val_accuracy: 0.4883\n",
            "Epoch 4/10\n",
            "2200/2200 [==============================] - 180s 82ms/step - loss: 0.3257 - accuracy: 0.5130 - val_loss: 0.3048 - val_accuracy: 0.5267\n",
            "Epoch 5/10\n",
            "2200/2200 [==============================] - 177s 80ms/step - loss: 0.4420 - accuracy: 0.5198 - val_loss: 0.3061 - val_accuracy: 0.5007\n",
            "Epoch 6/10\n",
            "2200/2200 [==============================] - 176s 80ms/step - loss: 0.2512 - accuracy: 0.5621 - val_loss: 0.2781 - val_accuracy: 0.5223\n",
            "Epoch 7/10\n",
            "2200/2200 [==============================] - 180s 82ms/step - loss: 0.2366 - accuracy: 0.6010 - val_loss: 0.3290 - val_accuracy: 0.4883\n",
            "Epoch 8/10\n",
            "2200/2200 [==============================] - 179s 81ms/step - loss: 0.2451 - accuracy: 0.5913 - val_loss: 0.2293 - val_accuracy: 0.6190\n",
            "Epoch 9/10\n",
            "2200/2200 [==============================] - 178s 81ms/step - loss: 0.2022 - accuracy: 0.6807 - val_loss: 0.2093 - val_accuracy: 0.6659\n",
            "Epoch 10/10\n",
            "2200/2200 [==============================] - 181s 82ms/step - loss: 0.2046 - accuracy: 0.6869 - val_loss: 0.2203 - val_accuracy: 0.6504\n",
            "* Accuracy on training set: 75.59%\n",
            "* Accuracy on test set: 65.70%\n"
          ],
          "name": "stdout"
        }
      ]
    }
  ]
}