{
  "nbformat": 4,
  "nbformat_minor": 0,
  "metadata": {
    "colab": {
      "name": "mnist.ipynb",
      "provenance": [],
      "authorship_tag": "ABX9TyPS1T5+Tbx/hpIT8hg4Kwwa",
      "include_colab_link": true
    },
    "kernelspec": {
      "name": "python3",
      "display_name": "Python 3"
    }
  },
  "cells": [
    {
      "cell_type": "markdown",
      "metadata": {
        "id": "view-in-github",
        "colab_type": "text"
      },
      "source": [
        "<a href=\"https://colab.research.google.com/github/salexey1990/gb/blob/master/mnist.ipynb\" target=\"_parent\"><img src=\"https://colab.research.google.com/assets/colab-badge.svg\" alt=\"Open In Colab\"/></a>"
      ]
    },
    {
      "cell_type": "code",
      "metadata": {
        "id": "dY2bJA0jnHsp",
        "colab_type": "code",
        "colab": {}
      },
      "source": [
        "import numpy as np\n",
        "import matplotlib.pyplot\n",
        "import scipy.special as sp\n",
        "import pandas as pd\n",
        "\n",
        "%matplotlib inline"
      ],
      "execution_count": 0,
      "outputs": []
    },
    {
      "cell_type": "code",
      "metadata": {
        "id": "zYeyG73-ndU4",
        "colab_type": "code",
        "colab": {
          "base_uri": "https://localhost:8080/",
          "height": 124
        },
        "outputId": "a814dcb6-f5a3-44bb-c20e-fae1fa773638"
      },
      "source": [
        "\n",
        "# Подключение к Google drive\n",
        "\n",
        "from google.colab import drive\n",
        "drive.mount('/content/drive')"
      ],
      "execution_count": 2,
      "outputs": [
        {
          "output_type": "stream",
          "text": [
            "Go to this URL in a browser: https://accounts.google.com/o/oauth2/auth?client_id=947318989803-6bn6qk8qdgf4n4g3pfee6491hc0brc4i.apps.googleusercontent.com&redirect_uri=urn%3aietf%3awg%3aoauth%3a2.0%3aoob&response_type=code&scope=email%20https%3a%2f%2fwww.googleapis.com%2fauth%2fdocs.test%20https%3a%2f%2fwww.googleapis.com%2fauth%2fdrive%20https%3a%2f%2fwww.googleapis.com%2fauth%2fdrive.photos.readonly%20https%3a%2f%2fwww.googleapis.com%2fauth%2fpeopleapi.readonly\n",
            "\n",
            "Enter your authorization code:\n",
            "··········\n",
            "Mounted at /content/drive\n"
          ],
          "name": "stdout"
        }
      ]
    },
    {
      "cell_type": "code",
      "metadata": {
        "id": "9llJ0CfJn_-c",
        "colab_type": "code",
        "colab": {}
      },
      "source": [
        "\n",
        "df = pd.read_csv('/content/drive/My Drive/mnist_train_100.csv', low_memory=False)"
      ],
      "execution_count": 0,
      "outputs": []
    },
    {
      "cell_type": "code",
      "metadata": {
        "id": "nXS6cfu5LLzi",
        "colab_type": "code",
        "colab": {}
      },
      "source": [
        "def prepare_data(df):\n",
        "  output_nodes = 10\n",
        "\n",
        "  data = df.values\n",
        "  scaled_inputs = (data[:,1:] / 255 * 0.99) + 0.01\n",
        "  targets = np.zeros((data.shape[0], output_nodes)) + 0.01\n",
        "  for i, target in enumerate(data[:,0:1]):\n",
        "    targets[i, target] = 0.99\n",
        "  return zip(scaled_inputs, targets)"
      ],
      "execution_count": 0,
      "outputs": []
    },
    {
      "cell_type": "code",
      "metadata": {
        "id": "QDDteYrtH7s7",
        "colab_type": "code",
        "colab": {}
      },
      "source": [
        "class NeuralNetwork:\n",
        "  def __init__(self, inputnodes, hiddennodes, outputnodes, learningrate):\n",
        "    self.i_nodes = inputnodes\n",
        "    self.h_nodes = hiddennodes\n",
        "    self.o_nodes = outputnodes\n",
        "\n",
        "    self.l_rate = learningrate\n",
        "\n",
        "    self.w_i_h = np.random.normal(0.0, pow(self.h_nodes, -0.5), (self.h_nodes, self.i_nodes))\n",
        "    self.w_h_o = np.random.normal(0.0, pow(self.o_nodes, -0.5), (self.o_nodes, self.h_nodes))\n",
        "\n",
        "    self.activation_function = lambda x: sp.expit(x)\n",
        "\n",
        "  def train(self, X_train, y_train):\n",
        "    inputs = np.array(X_train, ndmin=2).T\n",
        "    target = np.array(y_train, ndmin=2).T\n",
        "\n",
        "    h_inputs = np.dot(self.w_i_h, inputs)\n",
        "    h_outputs = self.activation_function(h_inputs)\n",
        "\n",
        "    o_inputs = np.dot(self.w_h_o, h_outputs)\n",
        "    o_outputs = self.activation_function(o_inputs)\n",
        "\n",
        "    o_error = target - o_outputs\n",
        "    h_error = np.dot(self.w_h_o.T, o_error)\n",
        "\n",
        "    self.w_h_o += self.l_rate * np.dot((o_error * o_outputs * (1 - o_outputs)), h_outputs.T)\n",
        "    self.w_i_h += self.l_rate * np.dot((h_error * h_outputs * (1 - h_outputs)), inputs.T)\n",
        "\n",
        "  def query(self, nn_input):\n",
        "    inputs = np.array(nn_input, dtype=float,).T\n",
        "\n",
        "    h_inputs = np.dot(self.w_i_h, nn_input)\n",
        "    h_outputs = self.activation_function(h_inputs)\n",
        "\n",
        "    o_inputs = np.dot(self.w_h_o, h_outputs)\n",
        "    o_outputs = self.activation_function(o_inputs)\n",
        "\n",
        "    return o_outputs\n"
      ],
      "execution_count": 0,
      "outputs": []
    },
    {
      "cell_type": "code",
      "metadata": {
        "id": "AwuvLrG7IBQA",
        "colab_type": "code",
        "colab": {}
      },
      "source": [
        "input_nodes = 784\n",
        "hidden_nodes = 100\n",
        "output_nodes = 10\n",
        "\n",
        "learning_rate = 0.3\n",
        "\n",
        "nn = NeuralNetwork(input_nodes, hidden_nodes, output_nodes, learning_rate)"
      ],
      "execution_count": 0,
      "outputs": []
    },
    {
      "cell_type": "code",
      "metadata": {
        "id": "Zfaqb1MUIQB4",
        "colab_type": "code",
        "colab": {}
      },
      "source": [
        "for inputs, target in prepare_data(df):\n",
        "  nn.train(inputs, target)"
      ],
      "execution_count": 0,
      "outputs": []
    },
    {
      "cell_type": "code",
      "metadata": {
        "id": "l7bXEpkWJHdk",
        "colab_type": "code",
        "colab": {}
      },
      "source": [
        "df_test = pd.read_csv('/content/drive/My Drive/mnist_test_10.csv', low_memory=False)"
      ],
      "execution_count": 0,
      "outputs": []
    },
    {
      "cell_type": "code",
      "metadata": {
        "id": "qRe0KGXTMdhH",
        "colab_type": "code",
        "colab": {
          "base_uri": "https://localhost:8080/",
          "height": 282
        },
        "outputId": "faccb53e-0868-42f7-caea-8e1ec569752d"
      },
      "source": [
        "image = list(prepare_data(df_test))[5][0].reshape((28,28))\n",
        "matplotlib.pyplot.imshow(image, cmap='Greys', interpolation='None')"
      ],
      "execution_count": 93,
      "outputs": [
        {
          "output_type": "execute_result",
          "data": {
            "text/plain": [
              "<matplotlib.image.AxesImage at 0x7fa98d48a4a8>"
            ]
          },
          "metadata": {
            "tags": []
          },
          "execution_count": 93
        },
        {
          "output_type": "display_data",
          "data": {
            "image/png": "[encoded data removed]",
            "text/plain": [
              "<Figure size 432x288 with 1 Axes>"
            ]
          },
          "metadata": {
            "tags": [],
            "needs_background": "light"
          }
        }
      ]
    },
    {
      "cell_type": "code",
      "metadata": {
        "id": "NBByli1lNQxN",
        "colab_type": "code",
        "colab": {
          "base_uri": "https://localhost:8080/",
          "height": 52
        },
        "outputId": "f7676dc1-1963-4e04-f56e-4973cc52f909"
      },
      "source": [
        "nn.query(list(prepare_data(df_test))[5][0])"
      ],
      "execution_count": 100,
      "outputs": [
        {
          "output_type": "execute_result",
          "data": {
            "text/plain": [
              "array([0.02174206, 0.0045232 , 0.00828052, 0.11371603, 0.55481536,\n",
              "       0.1141902 , 0.01457938, 0.3073045 , 0.09131564, 0.05449081])"
            ]
          },
          "metadata": {
            "tags": []
          },
          "execution_count": 100
        }
      ]
    },
    {
      "cell_type": "code",
      "metadata": {
        "id": "JCKca36bNY53",
        "colab_type": "code",
        "colab": {
          "base_uri": "https://localhost:8080/",
          "height": 52
        },
        "outputId": "0c1d2311-0d21-4948-f714-af290a9659b5"
      },
      "source": [
        "correct = 0\n",
        "for X, y in prepare_data(df_test):\n",
        "  correct += np.argmax(nn.query(X)) == np.argmax(y)\n",
        "\n",
        "print(correct, 'correct answers')\n",
        "print(correct/df_test.shape[0] * 100, ' %')"
      ],
      "execution_count": 105,
      "outputs": [
        {
          "output_type": "stream",
          "text": [
            "5 correct answers\n",
            "55.55555555555556  %\n"
          ],
          "name": "stdout"
        }
      ]
    },
    {
      "cell_type": "code",
      "metadata": {
        "id": "sY74peo1T8lO",
        "colab_type": "code",
        "colab": {
          "base_uri": "https://localhost:8080/",
          "height": 367
        },
        "outputId": "2d68b9e4-20d5-4609-c704-29e9b89f34b4"
      },
      "source": [
        "df_full = pd.read_csv('/content/drive/My Drive/mnist_train.csv', low_memory=False)\n",
        "df_test_full = pd.read_csv('/content/drive/My Drive/mnist_test.csv', low_memory=False)\n",
        "\n",
        "learning_rate = 0.1\n",
        "hidden_nodes = 200\n",
        "epochs = 5\n",
        "\n",
        "nn_final = NeuralNetwork(input_nodes, hidden_nodes, output_nodes, learning_rate)\n",
        "for epoch in range(epochs):\n",
        "  for inputs, target in prepare_data(df_full):\n",
        "    nn_final.train(inputs, target)\n",
        "\n",
        "  correct = 0\n",
        "  for X, y in prepare_data(df_test_full):\n",
        "    correct += np.argmax(nn_final.query(X)) == np.argmax(y)\n",
        "\n",
        "  print('epoch #', epoch)\n",
        "  print(correct, 'correct answers')\n",
        "  print(correct/df_test_full.shape[0] * 100, ' %')\n",
        "  print()"
      ],
      "execution_count": 112,
      "outputs": [
        {
          "output_type": "stream",
          "text": [
            "epoch # 0\n",
            "9552 correct answers\n",
            "95.52955295529553  %\n",
            "\n",
            "epoch # 1\n",
            "9676 correct answers\n",
            "96.76967696769677  %\n",
            "\n",
            "epoch # 2\n",
            "9706 correct answers\n",
            "97.06970697069707  %\n",
            "\n",
            "epoch # 3\n",
            "9720 correct answers\n",
            "97.20972097209722  %\n",
            "\n",
            "epoch # 4\n",
            "9721 correct answers\n",
            "97.21972197219722  %\n",
            "\n"
          ],
          "name": "stdout"
        }
      ]
    },
    {
      "cell_type": "code",
      "metadata": {
        "id": "8UhnRb5eVzfB",
        "colab_type": "code",
        "colab": {}
      },
      "source": [
        ""
      ],
      "execution_count": 0,
      "outputs": []
    }
  ]
}