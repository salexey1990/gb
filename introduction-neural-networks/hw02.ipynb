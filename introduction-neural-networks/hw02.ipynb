{
  "nbformat": 4,
  "nbformat_minor": 0,
  "metadata": {
    "colab": {
      "name": "hw02.ipynb",
      "provenance": [],
      "authorship_tag": "ABX9TyNK/ykwBxJUwBKmidLg/qLl",
      "include_colab_link": true
    },
    "kernelspec": {
      "name": "python3",
      "display_name": "Python 3"
    }
  },
  "cells": [
    {
      "cell_type": "markdown",
      "metadata": {
        "id": "view-in-github",
        "colab_type": "text"
      },
      "source": [
        "<a href=\"https://colab.research.google.com/github/salexey1990/gb/blob/master/introduction-neural-networks/hw02.ipynb\" target=\"_parent\"><img src=\"https://colab.research.google.com/assets/colab-badge.svg\" alt=\"Open In Colab\"/></a>"
      ]
    },
    {
      "cell_type": "code",
      "metadata": {
        "id": "5glTHTr3zmHW",
        "colab_type": "code",
        "colab": {}
      },
      "source": [
        "import numpy as np\n",
        "import mnist\n",
        "from keras.models import Sequential\n",
        "from keras.layers import Dense\n",
        "from keras.utils import to_categorical\n",
        "from keras import optimizers"
      ],
      "execution_count": 0,
      "outputs": []
    },
    {
      "cell_type": "code",
      "metadata": {
        "id": "ZvpR5s43z-9F",
        "colab_type": "code",
        "colab": {}
      },
      "source": [
        "train_images = mnist.train_images()\n",
        "train_labels = mnist.train_labels()\n",
        "test_images = mnist.test_images()\n",
        "test_labels = mnist.test_labels()"
      ],
      "execution_count": 0,
      "outputs": []
    },
    {
      "cell_type": "code",
      "metadata": {
        "id": "G6XW6IPWz_rh",
        "colab_type": "code",
        "colab": {}
      },
      "source": [
        "# Normalize the images.\n",
        "train_images = (train_images / 255) - 0.5\n",
        "test_images = (test_images / 255) - 0.5\n",
        "\n",
        "# Flatten the images.\n",
        "train_images = train_images.reshape((-1, 784))\n",
        "test_images = test_images.reshape((-1, 784))"
      ],
      "execution_count": 0,
      "outputs": []
    },
    {
      "cell_type": "code",
      "metadata": {
        "id": "FdnqeKpK0H04",
        "colab_type": "code",
        "colab": {}
      },
      "source": [
        "# Build the model.\n",
        "model = Sequential([\n",
        "  Dense(64, activation='relu', input_shape=(784,)),\n",
        "  Dense(150, activation='relu'),\n",
        "  Dense(150, activation='relu'),\n",
        "  Dense(10, activation='softmax'),\n",
        "])\n",
        "\n",
        "sgd = optimizers.SGD(learning_rate=0.001, momentum=0.0, nesterov=False)\n",
        "\n",
        "# Compile the model.\n",
        "model.compile(\n",
        "  optimizer=sgd,\n",
        "  loss='categorical_crossentropy',\n",
        "  metrics=['accuracy'],\n",
        ")"
      ],
      "execution_count": 0,
      "outputs": []
    },
    {
      "cell_type": "code",
      "metadata": {
        "id": "GhrOjU300L6I",
        "colab_type": "code",
        "colab": {
          "base_uri": "https://localhost:8080/",
          "height": 279
        },
        "outputId": "b98720cf-062e-43d8-8b4e-aad24d74d5d0"
      },
      "source": [
        "# Train the model.\n",
        "model.fit(\n",
        "  train_images,\n",
        "  to_categorical(train_labels),\n",
        "  epochs=7,\n",
        "  batch_size=32,\n",
        ")"
      ],
      "execution_count": 67,
      "outputs": [
        {
          "output_type": "stream",
          "text": [
            "Epoch 1/7\n",
            "60000/60000 [==============================] - 4s 61us/step - loss: 2.0608 - accuracy: 0.3734\n",
            "Epoch 2/7\n",
            "60000/60000 [==============================] - 4s 61us/step - loss: 1.2299 - accuracy: 0.6751\n",
            "Epoch 3/7\n",
            "60000/60000 [==============================] - 4s 60us/step - loss: 0.7551 - accuracy: 0.7949\n",
            "Epoch 4/7\n",
            "60000/60000 [==============================] - 3s 56us/step - loss: 0.5768 - accuracy: 0.8408\n",
            "Epoch 5/7\n",
            "60000/60000 [==============================] - 3s 57us/step - loss: 0.4822 - accuracy: 0.8655\n",
            "Epoch 6/7\n",
            "60000/60000 [==============================] - 3s 56us/step - loss: 0.4247 - accuracy: 0.8804\n",
            "Epoch 7/7\n",
            "60000/60000 [==============================] - 3s 56us/step - loss: 0.3893 - accuracy: 0.8898\n"
          ],
          "name": "stdout"
        },
        {
          "output_type": "execute_result",
          "data": {
            "text/plain": [
              "<keras.callbacks.callbacks.History at 0x7f7634ef7908>"
            ]
          },
          "metadata": {
            "tags": []
          },
          "execution_count": 67
        }
      ]
    },
    {
      "cell_type": "code",
      "metadata": {
        "id": "Q3m5Y2cv0OrF",
        "colab_type": "code",
        "colab": {
          "base_uri": "https://localhost:8080/",
          "height": 52
        },
        "outputId": "786a5635-c131-4991-c61d-e9d927329de3"
      },
      "source": [
        "# Evaluate the model.\n",
        "model.evaluate(\n",
        "  test_images,\n",
        "  to_categorical(test_labels)\n",
        ")"
      ],
      "execution_count": 68,
      "outputs": [
        {
          "output_type": "stream",
          "text": [
            "10000/10000 [==============================] - 0s 27us/step\n"
          ],
          "name": "stdout"
        },
        {
          "output_type": "execute_result",
          "data": {
            "text/plain": [
              "[0.35978612225055695, 0.8973000049591064]"
            ]
          },
          "metadata": {
            "tags": []
          },
          "execution_count": 68
        }
      ]
    },
    {
      "cell_type": "markdown",
      "metadata": {
        "id": "1UoPhoeA_ksU",
        "colab_type": "text"
      },
      "source": [
        "Увеличение количества узлов в промежуточном слое нейронной сети дало незначительную прибавку к её точности. Ещё немного точности прибавилось благодаря добавлению дополнительного промежуточного слоя. Применение других функций активации только снизили качество модели. Оптимальное количество эпох равно 7, после этого модель переобучается и её качество на тестовой выборке падает. Применение других optimizers с настройкой их параметров наугад=) тоже не привело ни к чему хорошему."
      ]
    },
    {
      "cell_type": "code",
      "metadata": {
        "id": "lIjCDhdy3dDr",
        "colab_type": "code",
        "colab": {}
      },
      "source": [
        ""
      ],
      "execution_count": 0,
      "outputs": []
    }
  ]
}