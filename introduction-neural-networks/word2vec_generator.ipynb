{
 "cells": [
  {
   "cell_type": "code",
   "execution_count": 1,
   "metadata": {},
   "outputs": [
    {
     "name": "stderr",
     "output_type": "stream",
     "text": [
      "Using TensorFlow backend.\n"
     ]
    }
   ],
   "source": [
    "from __future__ import print_function\n",
    "\n",
    "import numpy as np\n",
    "import gensim\n",
    "import string\n",
    "\n",
    "from keras.callbacks import LambdaCallback\n",
    "from keras.layers.recurrent import LSTM\n",
    "from keras.layers.embeddings import Embedding\n",
    "from keras.layers import Dense, Activation\n",
    "from keras.models import Sequential\n",
    "from keras.utils.data_utils import get_file\n"
   ]
  },
  {
   "cell_type": "code",
   "execution_count": 2,
   "metadata": {},
   "outputs": [
    {
     "name": "stdout",
     "output_type": "stream",
     "text": [
      "Количество предложений: 3091\n"
     ]
    }
   ],
   "source": [
    "# Загрузка текста и разбиение его на предложения\n",
    "\n",
    "max_sentence_len = 40\n",
    "translator = str.maketrans('', '', string.punctuation)\n",
    "with open('/home/alex/Downloads/avidreaders.ru__voyna-i-mir-tom-1.txt') as file_:\n",
    "  docs = file_.readlines()\n",
    "sentences = [[word for word in doc.lower().translate(translator).split()[:max_sentence_len]] for doc in docs]\n",
    "sentences = [sentence for sentence in sentences if len(sentence)]\n",
    "print('Количество предложений:', len(sentences))"
   ]
  },
  {
   "cell_type": "code",
   "execution_count": 3,
   "metadata": {},
   "outputs": [
    {
     "name": "stdout",
     "output_type": "stream",
     "text": [
      "Result embedding shape: (15303, 100)\n",
      "Checking similar words:\n",
      "  княжна -> дмитриевна (0.81), львовна (0.73), называла (0.66), наташа (0.65), марья (0.60), соня (0.58), prié (0.57), tâcherai (0.57)\n",
      "  наполеон -> разумея (0.60), штабофицер (0.59), законный (0.59), жив (0.57), гденибудь (0.53), зажечь (0.52), петров (0.51), заметить (0.51)\n",
      "  дочь -> манера (0.55), милая (0.54), заехавшая (0.51), особа (0.51), сказала (0.50), оскорбление (0.50), красавица (0.50), старшая (0.50)\n"
     ]
    },
    {
     "name": "stderr",
     "output_type": "stream",
     "text": [
      "/home/alex/anaconda3/lib/python3.7/site-packages/ipykernel_launcher.py:4: DeprecationWarning: Call to deprecated `syn0` (Attribute will be removed in 4.0.0, use self.vectors instead).\n",
      "  after removing the cwd from sys.path.\n",
      "/home/alex/anaconda3/lib/python3.7/site-packages/ipykernel_launcher.py:9: DeprecationWarning: Call to deprecated `most_similar` (Method will be removed in 4.0.0, use self.wv.most_similar() instead).\n",
      "  if __name__ == '__main__':\n"
     ]
    }
   ],
   "source": [
    "# Тренировка Word2vec\n",
    "\n",
    "word_model = gensim.models.Word2Vec(sentences, size=100, min_count=1, window=5, iter=100)\n",
    "pretrained_weights = word_model.wv.syn0\n",
    "vocab_size, emdedding_size = pretrained_weights.shape\n",
    "print('Result embedding shape:', pretrained_weights.shape)\n",
    "print('Checking similar words:')\n",
    "for word in ['княжна', 'наполеон', 'дочь']:\n",
    "  most_similar = ', '.join('%s (%.2f)' % (similar, dist) for similar, dist in word_model.most_similar(word)[:8])\n",
    "  print('  %s -> %s' % (word, most_similar))"
   ]
  },
  {
   "cell_type": "code",
   "execution_count": 4,
   "metadata": {},
   "outputs": [],
   "source": [
    "def word2idx(word):\n",
    "  return word_model.wv.vocab[word].index\n",
    "def idx2word(idx):\n",
    "  return word_model.wv.index2word[idx]"
   ]
  },
  {
   "cell_type": "code",
   "execution_count": 5,
   "metadata": {},
   "outputs": [
    {
     "name": "stdout",
     "output_type": "stream",
     "text": [
      "train_x shape: (3091, 40)\n",
      "train_y shape: (3091,)\n"
     ]
    }
   ],
   "source": [
    "# Подготовка данных для тренировки модели\n",
    "\n",
    "train_x = np.zeros([len(sentences), max_sentence_len], dtype=np.int32)\n",
    "train_y = np.zeros([len(sentences)], dtype=np.int32)\n",
    "for i, sentence in enumerate(sentences):\n",
    "  for t, word in enumerate(sentence[:-1]):\n",
    "    train_x[i, t] = word2idx(word)\n",
    "  train_y[i] = word2idx(sentence[-1])\n",
    "print('train_x shape:', train_x.shape)\n",
    "print('train_y shape:', train_y.shape)"
   ]
  },
  {
   "cell_type": "code",
   "execution_count": 6,
   "metadata": {},
   "outputs": [],
   "source": [
    "# Построение модели\n",
    "\n",
    "model = Sequential()\n",
    "model.add(Embedding(input_dim=vocab_size, output_dim=emdedding_size, weights=[pretrained_weights]))\n",
    "model.add(LSTM(units=emdedding_size))\n",
    "model.add(Dense(units=vocab_size))\n",
    "model.add(Activation('softmax'))\n",
    "model.compile(optimizer='adam', loss='sparse_categorical_crossentropy')\n",
    "\n",
    "def sample(preds, temperature=1.0):\n",
    "  if temperature <= 0:\n",
    "    return np.argmax(preds)\n",
    "  preds = np.asarray(preds).astype('float64')\n",
    "  preds = np.log(preds) / temperature\n",
    "  exp_preds = np.exp(preds)\n",
    "  preds = exp_preds / np.sum(exp_preds)\n",
    "  probas = np.random.multinomial(1, preds, 1)\n",
    "  return np.argmax(probas)\n",
    "\n",
    "def generate_next(text, num_generated=10):\n",
    "  word_idxs = [word2idx(word) for word in text.lower().split()]\n",
    "  for i in range(num_generated):\n",
    "    prediction = model.predict(x=np.array(word_idxs))\n",
    "    idx = sample(prediction[-1], temperature=0.7)\n",
    "    word_idxs.append(idx)\n",
    "  return ' '.join(idx2word(idx) for idx in word_idxs)\n",
    "\n",
    "def on_epoch_end(epoch, _):\n",
    "  print('\\nGenerating text after epoch: %d' % epoch)\n",
    "  texts = [\n",
    "    'анна павловна',\n",
    "    'заклинаю вас',\n",
    "    'la donne',\n",
    "    'наполеон',\n",
    "  ]\n",
    "  for text in texts:\n",
    "    sample = generate_next(text)\n",
    "    print('%s... -> %s' % (text, sample))"
   ]
  },
  {
   "cell_type": "code",
   "execution_count": 7,
   "metadata": {},
   "outputs": [
    {
     "name": "stderr",
     "output_type": "stream",
     "text": [
      "/home/alex/anaconda3/lib/python3.7/site-packages/tensorflow_core/python/framework/indexed_slices.py:433: UserWarning: Converting sparse IndexedSlices to a dense Tensor of unknown shape. This may consume a large amount of memory.\n",
      "  \"Converting sparse IndexedSlices to a dense Tensor of unknown shape. \"\n"
     ]
    },
    {
     "name": "stdout",
     "output_type": "stream",
     "text": [
      "Epoch 1/20\n",
      "3091/3091 [==============================] - 3s 1ms/step - loss: 9.3646\n",
      "\n",
      "Generating text after epoch: 0\n",
      "анна павловна... -> анна павловна непреодолимоклонивший выбирать пьером проговорила спящим попрошусь путанице жестом двадцати fasse\n",
      "заклинаю вас... -> заклинаю вас трудно соборовать прогонял быстрым сорок исполнять конечно призыва сложного чулках\n",
      "la donne... -> la donne огромное хвастаясь военное через исполнил религиозная brillant трауне василию еmpereur\n",
      "наполеон... -> наполеон такими стояли перестаньте замирится отличали шиншиной оставив ящичному наступавшие фердинанд\n",
      "Epoch 2/20\n",
      "3091/3091 [==============================] - 3s 853us/step - loss: 7.6986\n",
      "\n",
      "Generating text after epoch: 1\n",
      "анна павловна... -> анна павловна грустных коровник толпе когданибудь бойся ours demandé женскою фуражки презрением\n",
      "заклинаю вас... -> заклинаю вас полосами заглянул пустил видим вделанного французскою сделаться задом déroge запачкались\n",
      "la donne... -> la donne встряхнулся задышала манифеста xv шалость маршрутов прерываясь выскакал гостиных приятным\n",
      "наполеон... -> наполеон собою сдержанная проникая неприятелем ниже буйному границу порох действие потеряно\n",
      "Epoch 3/20\n",
      "3091/3091 [==============================] - 3s 870us/step - loss: 7.3660\n",
      "\n",
      "Generating text after epoch: 2\n",
      "анна павловна... -> анна павловна плечу официантскую станешь князем начала княженплемянниц увидите дела… усмиряет cest\n",
      "заклинаю вас... -> заклинаю вас заключен серую серьезного некрасивое полководец лекаря веселым передавали expédiez употреблял\n",
      "la donne... -> la donne дом визгнули новостях кажется… бродить распустившегося cétait прусский немца книгой\n",
      "наполеон... -> наполеон нашло эманципации англичанам щелконуть победить такто frontière причиной спускаться багровый\n",
      "Epoch 4/20\n",
      "3091/3091 [==============================] - 3s 869us/step - loss: 7.3122\n",
      "\n",
      "Generating text after epoch: 3\n",
      "анна павловна... -> анна павловна смутился щелкнул russes причиной мадмуазель почувствовала мака переодеть принята bu\n",
      "заклинаю вас... -> заклинаю вас дорогих подождал восклицала придерживая конченный пунцовокрасному солдатскому петрушка подъехавшие опускаясь\n",
      "la donne... -> la donne вытягиваться direz потребности жениться связь поздравляя u покойника достойными место\n",
      "наполеон... -> наполеон шага соглашусь неприятную холодности брюнетка михайловне офицер толстому ташку кузина\n",
      "Epoch 5/20\n",
      "3091/3091 [==============================] - 3s 870us/step - loss: 7.2841\n",
      "\n",
      "Generating text after epoch: 4\n",
      "анна павловна... -> анна павловна счастливец горе возились ну пойдемте общественное пропел лекарскую бибилину слыхала\n",
      "заклинаю вас... -> заклинаю вас государем частного toucher блеском любимый оглядывался спора руководил vos года…\n",
      "la donne... -> la donne живой хотя времена посматривая странном треугольной откроется перед забавно видишь\n",
      "наполеон... -> наполеон жены plus порция толще губами давали человеческом тимохина гуще снимаю\n",
      "Epoch 6/20\n",
      "3091/3091 [==============================] - 3s 867us/step - loss: 7.2675\n",
      "\n",
      "Generating text after epoch: 5\n",
      "анна павловна... -> анна павловна заеду прекраснее повиноваться пристыженный слезами seule страданием кивнул покрытым бледным\n",
      "заклинаю вас... -> заклинаю вас приезде командуете пазвольте опасаясь отменили разгорячилась испугался aujourdhui проигравший остановившейся\n",
      "la donne... -> la donne осеннего моро знаменитой разговаривают гостем поровнявшись отталкивая отхлебывая deau вере\n",
      "наполеон... -> наполеон встрепенулась состоянии волосы австрийцев бледнея съесть хватаясь разным выговорит naiv\n",
      "Epoch 7/20\n",
      "3091/3091 [==============================] - 3s 871us/step - loss: 7.2433\n",
      "\n",
      "Generating text after epoch: 6\n",
      "анна павловна... -> анна павловна parfaitement посмелее гусарами бледное победе точил pavlograd царю одеться писала\n",
      "заклинаю вас... -> заклинаю вас я обращался зеркало вскопанною разглядеть ловкости рукою venir черневшимися молодцом\n",
      "la donne... -> la donne внешний tasse полоса милое ah остаться выехал пробывшие кузины bâton\n",
      "наполеон... -> наполеон могущественны голые потому спасенье христианина… твоя quel надел новость мысленно\n",
      "Epoch 8/20\n",
      "3091/3091 [==============================] - 3s 873us/step - loss: 7.2181\n",
      "\n",
      "Generating text after epoch: 7\n",
      "анна павловна... -> анна павловна жены бог невозможно потянула cette xvi листьям неизвестности darmistice билибин\n",
      "заклинаю вас... -> заклинаю вас тридцать милый… мебелью книгами guand побледнела приятным она неудаче бесстрастным\n",
      "la donne... -> la donne 8м невестки приезжайте разрывалась коляски plus… недавнего победоносно удается стукнув\n",
      "наполеон... -> наполеон сафи заметно знал же приговаривал возможным кивнул усталым troisième сердитых\n",
      "Epoch 9/20\n",
      "3091/3091 [==============================] - 3s 873us/step - loss: 7.1905\n",
      "\n",
      "Generating text after epoch: 8\n",
      "анна павловна... -> анна павловна герб залпом согласился посмотрела «мне кукла приняло решает оглушающих лопнула\n",
      "заклинаю вас... -> заклинаю вас поднял сторону… termes лаком вечный отъезжая торопливее голубая месту походом\n",
      "la donne... -> la donne традиридира посреди безухой приходить постороннем поворотился годовщина русскую решения мими…\n",
      "наполеон... -> наполеон слухах посылает тарелку энергичнее vii втыкая отправить парламентерским ножкой оставь\n",
      "Epoch 10/20\n",
      "3091/3091 [==============================] - 3s 877us/step - loss: 7.1569\n",
      "\n",
      "Generating text after epoch: 9\n",
      "анна павловна... -> анна павловна pouvoir déborder приятный larmes серьезно тронут камердинеру тучи поймал давая\n",
      "заклинаю вас... -> заклинаю вас объехать qui доме… ласковыми attendez пляшущего подсел орудий ланжероном подъехав\n",
      "la donne... -> la donne пржебышевского юлия крестилось значительный протянула последнее ругая счастливою упрек прочитано\n",
      "наполеон... -> наполеон платья история voyez фамильярно этом надеялся булонского сказал fera жалостным\n",
      "Epoch 11/20\n",
      "3091/3091 [==============================] - 3s 939us/step - loss: 7.1220\n",
      "\n",
      "Generating text after epoch: 10\n",
      "анна павловна... -> анна павловна чтото нашла коврами чужая устроил попался заклепку возбужденной прислушивался беречь\n",
      "заклинаю вас... -> заклинаю вас князю графа дамой доехав annoncer faudra выражения забрали отведена напротив\n",
      "la donne... -> la donne багрово огням русских… допивал одиночество x коврами потушил шинелей долгоруков\n",
      "наполеон... -> наполеон lassassinat тридцать опустившись лакея хороший прохор графов одинокое жилистою поторопилась\n",
      "Epoch 12/20\n",
      "3091/3091 [==============================] - 3s 889us/step - loss: 7.0833\n",
      "\n",
      "Generating text after epoch: 11\n",
      "анна павловна... -> анна павловна обойти неприлично взволнованной старательным экипажах возможности неподвижное assez прикладом огорчения\n",
      "заклинаю вас... -> заклинаю вас дана вопрос бледно губите скучают нерешительным zusammengehaltene графинюшка… campagne трудно\n",
      "la donne... -> la donne милая… передков кружка пропрем «вы» быстро седло отмстить честен выбирать\n",
      "наполеон... -> наполеон кошелек предел неизвестно быстрого приступить внушили женщинами сосредоточенное lhumanité frère\n",
      "Epoch 13/20\n",
      "3091/3091 [==============================] - 3s 894us/step - loss: 7.0438\n",
      "\n",
      "Generating text after epoch: 12\n",
      "анна павловна... -> анна павловна неблагодарности кавалерист извиниться пропустила гаврилу анна charitable главною помолчали канонада\n",
      "заклинаю вас... -> заклинаю вас анатоль родня покончено господина счастливом делом знамени притворность начальником court\n",
      "la donne... -> la donne веря давшее болтливым сделайте три сундуке фрунтовым официантской bien закашлялся\n",
      "наполеон... -> наполеон лондон пожала персидскими палить парило прибавлено четвертый поехал тогдашней sentira\n",
      "Epoch 14/20\n",
      "3091/3091 [==============================] - 3s 901us/step - loss: 7.0105\n",
      "\n",
      "Generating text after epoch: 13\n",
      "анна павловна... -> анна павловна брульоны выспаться минутного нужный вернейший страданий полям выпившие обращаясь полутемно\n",
      "заклинаю вас... -> заклинаю вас тоном… неловкость этих вызывающей воротник очнулся сбросила тряхнул лежавшим более\n",
      "la donne... -> la donne засмеявшись поддерживая сверху твоей представил зимы пригибая батальным состоит учтивой\n",
      "наполеон... -> наполеон гривой гофкригсрата махальные краснела лишний сидоров служим навсегда настоящее покрытым\n",
      "Epoch 15/20\n",
      "3091/3091 [==============================] - 3s 901us/step - loss: 6.9678\n",
      "\n",
      "Generating text after epoch: 14\n"
     ]
    },
    {
     "name": "stdout",
     "output_type": "stream",
     "text": [
      "анна павловна... -> анна павловна дымков напоминала третьего кризис провожать пей соскакивал père торопилась жалею\n",
      "заклинаю вас... -> заклинаю вас стрелял предвидя говоря видишь приехавшего ступая библиотеки перечитывала преобладающее peuvent\n",
      "la donne... -> la donne река свиста всякому планов размещавшейся подбито ветчина air укладываются акушером…\n",
      "наполеон... -> наполеон студент сочным неучтивость построиться взрывая загремела заедемте аббатом странный тут\n",
      "Epoch 16/20\n",
      "3091/3091 [==============================] - 3s 870us/step - loss: 6.9297\n",
      "\n",
      "Generating text after epoch: 15\n",
      "анна павловна... -> анна павловна алпатыч страстного эту раскаялся никогоникого brumaire тяжелую бунтует потребованы обращаешься\n",
      "заклинаю вас... -> заклинаю вас целый славу неприятностей darriver убирай вступить перекинул англез седьмой кораблем\n",
      "la donne... -> la donne долетев обычную кров племяннице рядов постой veux англичанам величеству расстегнутом\n",
      "наполеон... -> наполеон мгновений глянет заботься бегать трети рте исполнила voir чаем гордого\n",
      "Epoch 17/20\n",
      "3091/3091 [==============================] - 3s 882us/step - loss: 6.8867\n",
      "\n",
      "Generating text after epoch: 16\n",
      "анна павловна... -> анна павловна наперевес очарован потолстела тетрадью курившими тоном… около улыбнулся правления наградах\n",
      "заклинаю вас... -> заклинаю вас провожая темно положив австрийские брюнетка превосходительство» поглядывая сбирался обещайте обращении\n",
      "la donne... -> la donne моложавый… лишить ничтожны начали обязывающие наполняться приехавший свободен потерю тащут\n",
      "наполеон... -> наполеон видневшиеся поддает приставляя бранился возбужденный чаю немца забавнее таким можем\n",
      "Epoch 18/20\n",
      "3091/3091 [==============================] - 3s 871us/step - loss: 6.8404\n",
      "\n",
      "Generating text after epoch: 17\n",
      "анна павловна... -> анна павловна подойдет чувством научить настаивал наследства воздержен быстроприятным седой рубашки плечом\n",
      "заклинаю вас... -> заклинаю вас тоном… страшно on мосту хотел ответит невыражающими ульма… произведен сказал\n",
      "la donne... -> la donne выдвигая политический разных надеюсь пятидесятилетнюю разгорячиться кожи встряхнувшись les ленивый\n",
      "наполеон... -> наполеон долгоруков возбудила пляшущего бедностью боевая докторов остановившись испытывал челюсти ларионович\n",
      "Epoch 19/20\n",
      "3091/3091 [==============================] - 3s 873us/step - loss: 6.7932\n",
      "\n",
      "Generating text after epoch: 18\n",
      "анна павловна... -> анна павловна шинель толковать сhose бросившемуся заколебала гвардейские приближенные днем двигались словами\n",
      "заклинаю вас... -> заклинаю вас жерков продолжался clair натура короткое тимохину larmes холодный нижнею ядро\n",
      "la donne... -> la donne хорах огромном медлительно noublrai поляк преобладал переживет ordre положив перегоняя\n",
      "наполеон... -> наполеон покажет onaparte голубую бондаренко наташку… семпель «господи тупого послушают твоею\n",
      "Epoch 20/20\n",
      "3091/3091 [==============================] - 3s 867us/step - loss: 6.7399\n",
      "\n",
      "Generating text after epoch: 19\n",
      "анна павловна... -> анна павловна заглушалась одушевляясь отпуская философ ударом отворяющуюся отступали коридором речь благородный\n",
      "заклинаю вас... -> заклинаю вас отца ульма… близких неверно прешпекту участь козловского сутки бореньке высоты\n",
      "la donne... -> la donne помнишь потрепал приду колонна смелее пользуется ночевать заново отъезжали хмурился\n",
      "наполеон... -> наполеон лампадой кончите влажную любопытством michel нарочно офицере яблоко сражения надпись\n"
     ]
    },
    {
     "data": {
      "text/plain": [
       "<keras.callbacks.callbacks.History at 0x7f8045c9fbe0>"
      ]
     },
     "execution_count": 7,
     "metadata": {},
     "output_type": "execute_result"
    }
   ],
   "source": [
    "# Обучение модели\n",
    "\n",
    "model.fit(train_x, train_y,\n",
    "          batch_size=128,\n",
    "          epochs=20,\n",
    "          callbacks=[LambdaCallback(on_epoch_end=on_epoch_end)])"
   ]
  }
 ],
 "metadata": {
  "kernelspec": {
   "display_name": "Python 3",
   "language": "python",
   "name": "python3"
  },
  "language_info": {
   "codemirror_mode": {
    "name": "ipython",
    "version": 3
   },
   "file_extension": ".py",
   "mimetype": "text/x-python",
   "name": "python",
   "nbconvert_exporter": "python",
   "pygments_lexer": "ipython3",
   "version": "3.7.3"
  }
 },
 "nbformat": 4,
 "nbformat_minor": 2
}
