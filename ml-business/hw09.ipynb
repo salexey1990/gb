{
  "nbformat": 4,
  "nbformat_minor": 0,
  "metadata": {
    "colab": {
      "name": "65da18a7e5f98636e56be494e998fd8e.ipynb",
      "provenance": [],
      "collapsed_sections": [
        "Xljx8j0-_jXR"
      ],
      "include_colab_link": true
    },
    "kernelspec": {
      "name": "python3",
      "display_name": "Python 3"
    }
  },
  "cells": [
    {
      "cell_type": "markdown",
      "metadata": {
        "id": "view-in-github",
        "colab_type": "text"
      },
      "source": [
        "<a href=\"https://colab.research.google.com/github/salexey1990/gb/blob/master/ml-business/hw09.ipynb\" target=\"_parent\"><img src=\"https://colab.research.google.com/assets/colab-badge.svg\" alt=\"Open In Colab\"/></a>"
      ]
    },
    {
      "cell_type": "markdown",
      "metadata": {
        "colab_type": "text",
        "id": "Xljx8j0-_jXR"
      },
      "source": [
        "### * Домашнее задание: Многоклассовая классификация"
      ]
    },
    {
      "cell_type": "markdown",
      "metadata": {
        "id": "bVx_WNaKwibO",
        "colab_type": "text"
      },
      "source": [
        "В текущем домашнем задание предлагается построить модель многоклассовой классификации для показателя `RiskVar`. Воспользуемся другими частями датасета freMPL (1 и 2)."
      ]
    },
    {
      "cell_type": "code",
      "metadata": {
        "id": "EKe7ttRs4Cbt",
        "colab_type": "code",
        "outputId": "57950294-7b84-4124-cf71-a0007e027016",
        "colab": {
          "base_uri": "https://localhost:8080/",
          "height": 124
        }
      },
      "source": [
        "# Подключение к Google drive\n",
        "\n",
        "from google.colab import drive\n",
        "drive.mount('/content/drive')"
      ],
      "execution_count": 1,
      "outputs": [
        {
          "output_type": "stream",
          "text": [
            "Go to this URL in a browser: https://accounts.google.com/o/oauth2/auth?client_id=947318989803-6bn6qk8qdgf4n4g3pfee6491hc0brc4i.apps.googleusercontent.com&redirect_uri=urn%3aietf%3awg%3aoauth%3a2.0%3aoob&response_type=code&scope=email%20https%3a%2f%2fwww.googleapis.com%2fauth%2fdocs.test%20https%3a%2f%2fwww.googleapis.com%2fauth%2fdrive%20https%3a%2f%2fwww.googleapis.com%2fauth%2fdrive.photos.readonly%20https%3a%2f%2fwww.googleapis.com%2fauth%2fpeopleapi.readonly\n",
            "\n",
            "Enter your authorization code:\n",
            "··········\n",
            "Mounted at /content/drive\n"
          ],
          "name": "stdout"
        }
      ]
    },
    {
      "cell_type": "code",
      "metadata": {
        "id": "n98J3UNxSLUd",
        "colab_type": "code",
        "colab": {}
      },
      "source": [
        "import pandas as pd\n",
        "import numpy as np\n",
        "import xgboost as xgb\n",
        "import matplotlib.pyplot as plt\n",
        "from sklearn.model_selection import train_test_split\n",
        "from sklearn.metrics import f1_score, accuracy_score, confusion_matrix\n",
        "from hyperopt import hp, tpe, space_eval\n",
        "from hyperopt.fmin import fmin\n",
        "\n",
        "def SeriesFactorizer(series):\n",
        "    series, unique = pd.factorize(series)\n",
        "    reference = {x: i for x, i in enumerate(unique)}\n",
        "    print(reference)\n",
        "    return series, reference"
      ],
      "execution_count": 0,
      "outputs": []
    },
    {
      "cell_type": "code",
      "metadata": {
        "id": "cdgTw4I-7GdC",
        "colab_type": "code",
        "colab": {}
      },
      "source": [
        "df = pd.read_csv('/content/drive/My Drive/freMPL-R.csv', low_memory=False)"
      ],
      "execution_count": 0,
      "outputs": []
    },
    {
      "cell_type": "code",
      "metadata": {
        "id": "v__1kPsuSrVd",
        "colab_type": "code",
        "colab": {}
      },
      "source": [
        "df = df.loc[df.Dataset.isin([1, 2])]\n",
        "df.drop('Dataset', axis=1, inplace=True)\n",
        "df.dropna(axis=1, how='all', inplace=True)\n",
        "df.drop_duplicates(inplace=True)\n",
        "df.reset_index(drop=True, inplace=True)"
      ],
      "execution_count": 0,
      "outputs": []
    },
    {
      "cell_type": "code",
      "metadata": {
        "id": "cCKtHz0eBWEG",
        "colab_type": "code",
        "outputId": "a640cc42-8738-4029-d22d-41cf1ff040ae",
        "colab": {
          "base_uri": "https://localhost:8080/",
          "height": 351
        }
      },
      "source": [
        "df.head()"
      ],
      "execution_count": 5,
      "outputs": [
        {
          "output_type": "execute_result",
          "data": {
            "text/html": [
              "<div>\n",
              "<style scoped>\n",
              "    .dataframe tbody tr th:only-of-type {\n",
              "        vertical-align: middle;\n",
              "    }\n",
              "\n",
              "    .dataframe tbody tr th {\n",
              "        vertical-align: top;\n",
              "    }\n",
              "\n",
              "    .dataframe thead th {\n",
              "        text-align: right;\n",
              "    }\n",
              "</style>\n",
              "<table border=\"1\" class=\"dataframe\">\n",
              "  <thead>\n",
              "    <tr style=\"text-align: right;\">\n",
              "      <th></th>\n",
              "      <th>Exposure</th>\n",
              "      <th>LicAge</th>\n",
              "      <th>RecordBeg</th>\n",
              "      <th>RecordEnd</th>\n",
              "      <th>VehAge</th>\n",
              "      <th>Gender</th>\n",
              "      <th>MariStat</th>\n",
              "      <th>SocioCateg</th>\n",
              "      <th>VehUsage</th>\n",
              "      <th>DrivAge</th>\n",
              "      <th>HasKmLimit</th>\n",
              "      <th>BonusMalus</th>\n",
              "      <th>VehBody</th>\n",
              "      <th>VehPrice</th>\n",
              "      <th>VehEngine</th>\n",
              "      <th>VehEnergy</th>\n",
              "      <th>VehMaxSpeed</th>\n",
              "      <th>VehClass</th>\n",
              "      <th>ClaimAmount</th>\n",
              "      <th>RiskVar</th>\n",
              "      <th>Garage</th>\n",
              "      <th>ClaimInd</th>\n",
              "    </tr>\n",
              "  </thead>\n",
              "  <tbody>\n",
              "    <tr>\n",
              "      <th>0</th>\n",
              "      <td>0.583</td>\n",
              "      <td>366</td>\n",
              "      <td>2004-06-01</td>\n",
              "      <td>NaN</td>\n",
              "      <td>2</td>\n",
              "      <td>Female</td>\n",
              "      <td>Other</td>\n",
              "      <td>CSP1</td>\n",
              "      <td>Professional</td>\n",
              "      <td>55</td>\n",
              "      <td>0</td>\n",
              "      <td>72</td>\n",
              "      <td>sedan</td>\n",
              "      <td>D</td>\n",
              "      <td>injection</td>\n",
              "      <td>regular</td>\n",
              "      <td>160-170 km/h</td>\n",
              "      <td>B</td>\n",
              "      <td>0.000000</td>\n",
              "      <td>15.0</td>\n",
              "      <td>None</td>\n",
              "      <td>0</td>\n",
              "    </tr>\n",
              "    <tr>\n",
              "      <th>1</th>\n",
              "      <td>0.200</td>\n",
              "      <td>187</td>\n",
              "      <td>2004-10-19</td>\n",
              "      <td>NaN</td>\n",
              "      <td>0</td>\n",
              "      <td>Male</td>\n",
              "      <td>Alone</td>\n",
              "      <td>CSP55</td>\n",
              "      <td>Private+trip to office</td>\n",
              "      <td>34</td>\n",
              "      <td>0</td>\n",
              "      <td>80</td>\n",
              "      <td>microvan</td>\n",
              "      <td>K</td>\n",
              "      <td>direct injection overpowered</td>\n",
              "      <td>diesel</td>\n",
              "      <td>170-180 km/h</td>\n",
              "      <td>M1</td>\n",
              "      <td>0.000000</td>\n",
              "      <td>20.0</td>\n",
              "      <td>None</td>\n",
              "      <td>0</td>\n",
              "    </tr>\n",
              "    <tr>\n",
              "      <th>2</th>\n",
              "      <td>0.083</td>\n",
              "      <td>169</td>\n",
              "      <td>2004-07-16</td>\n",
              "      <td>2004-08-16</td>\n",
              "      <td>1</td>\n",
              "      <td>Female</td>\n",
              "      <td>Other</td>\n",
              "      <td>CSP1</td>\n",
              "      <td>Professional</td>\n",
              "      <td>33</td>\n",
              "      <td>0</td>\n",
              "      <td>63</td>\n",
              "      <td>other microvan</td>\n",
              "      <td>L</td>\n",
              "      <td>direct injection overpowered</td>\n",
              "      <td>diesel</td>\n",
              "      <td>170-180 km/h</td>\n",
              "      <td>M1</td>\n",
              "      <td>0.000000</td>\n",
              "      <td>17.0</td>\n",
              "      <td>None</td>\n",
              "      <td>0</td>\n",
              "    </tr>\n",
              "    <tr>\n",
              "      <th>3</th>\n",
              "      <td>0.375</td>\n",
              "      <td>170</td>\n",
              "      <td>2004-08-16</td>\n",
              "      <td>NaN</td>\n",
              "      <td>1</td>\n",
              "      <td>Female</td>\n",
              "      <td>Other</td>\n",
              "      <td>CSP1</td>\n",
              "      <td>Professional</td>\n",
              "      <td>34</td>\n",
              "      <td>0</td>\n",
              "      <td>63</td>\n",
              "      <td>other microvan</td>\n",
              "      <td>L</td>\n",
              "      <td>direct injection overpowered</td>\n",
              "      <td>diesel</td>\n",
              "      <td>170-180 km/h</td>\n",
              "      <td>M1</td>\n",
              "      <td>0.000000</td>\n",
              "      <td>17.0</td>\n",
              "      <td>Private garage</td>\n",
              "      <td>0</td>\n",
              "    </tr>\n",
              "    <tr>\n",
              "      <th>4</th>\n",
              "      <td>0.500</td>\n",
              "      <td>224</td>\n",
              "      <td>2004-01-01</td>\n",
              "      <td>2004-07-01</td>\n",
              "      <td>3</td>\n",
              "      <td>Male</td>\n",
              "      <td>Other</td>\n",
              "      <td>CSP47</td>\n",
              "      <td>Professional</td>\n",
              "      <td>53</td>\n",
              "      <td>0</td>\n",
              "      <td>72</td>\n",
              "      <td>van</td>\n",
              "      <td>L</td>\n",
              "      <td>direct injection overpowered</td>\n",
              "      <td>diesel</td>\n",
              "      <td>140-150 km/h</td>\n",
              "      <td>0</td>\n",
              "      <td>1418.610272</td>\n",
              "      <td>19.0</td>\n",
              "      <td>None</td>\n",
              "      <td>1</td>\n",
              "    </tr>\n",
              "  </tbody>\n",
              "</table>\n",
              "</div>"
            ],
            "text/plain": [
              "   Exposure  LicAge   RecordBeg  ... RiskVar          Garage ClaimInd\n",
              "0     0.583     366  2004-06-01  ...    15.0            None        0\n",
              "1     0.200     187  2004-10-19  ...    20.0            None        0\n",
              "2     0.083     169  2004-07-16  ...    17.0            None        0\n",
              "3     0.375     170  2004-08-16  ...    17.0  Private garage        0\n",
              "4     0.500     224  2004-01-01  ...    19.0            None        1\n",
              "\n",
              "[5 rows x 22 columns]"
            ]
          },
          "metadata": {
            "tags": []
          },
          "execution_count": 5
        }
      ]
    },
    {
      "cell_type": "markdown",
      "metadata": {
        "id": "r9dMlMh5QcXt",
        "colab_type": "text"
      },
      "source": [
        "Предобработайте данные"
      ]
    },
    {
      "cell_type": "code",
      "metadata": {
        "id": "WdtY7qDp8veM",
        "colab_type": "code",
        "outputId": "b3a75b5f-28ff-4f65-e828-c52bb6d407fe",
        "colab": {
          "base_uri": "https://localhost:8080/",
          "height": 215
        }
      },
      "source": [
        "NegClaimAmount = df.loc[df.ClaimAmount < 0, ['ClaimAmount','ClaimInd']]\n",
        "print('Unique values of ClaimInd:', NegClaimAmount.ClaimInd.unique())\n",
        "NegClaimAmount.head()"
      ],
      "execution_count": 6,
      "outputs": [
        {
          "output_type": "stream",
          "text": [
            "Unique values of ClaimInd: [0]\n"
          ],
          "name": "stdout"
        },
        {
          "output_type": "execute_result",
          "data": {
            "text/html": [
              "<div>\n",
              "<style scoped>\n",
              "    .dataframe tbody tr th:only-of-type {\n",
              "        vertical-align: middle;\n",
              "    }\n",
              "\n",
              "    .dataframe tbody tr th {\n",
              "        vertical-align: top;\n",
              "    }\n",
              "\n",
              "    .dataframe thead th {\n",
              "        text-align: right;\n",
              "    }\n",
              "</style>\n",
              "<table border=\"1\" class=\"dataframe\">\n",
              "  <thead>\n",
              "    <tr style=\"text-align: right;\">\n",
              "      <th></th>\n",
              "      <th>ClaimAmount</th>\n",
              "      <th>ClaimInd</th>\n",
              "    </tr>\n",
              "  </thead>\n",
              "  <tbody>\n",
              "    <tr>\n",
              "      <th>231</th>\n",
              "      <td>-200.867674</td>\n",
              "      <td>0</td>\n",
              "    </tr>\n",
              "    <tr>\n",
              "      <th>404</th>\n",
              "      <td>-381.646224</td>\n",
              "      <td>0</td>\n",
              "    </tr>\n",
              "    <tr>\n",
              "      <th>568</th>\n",
              "      <td>-289.837160</td>\n",
              "      <td>0</td>\n",
              "    </tr>\n",
              "    <tr>\n",
              "      <th>794</th>\n",
              "      <td>-528.762236</td>\n",
              "      <td>0</td>\n",
              "    </tr>\n",
              "    <tr>\n",
              "      <th>822</th>\n",
              "      <td>-27.029003</td>\n",
              "      <td>0</td>\n",
              "    </tr>\n",
              "  </tbody>\n",
              "</table>\n",
              "</div>"
            ],
            "text/plain": [
              "     ClaimAmount  ClaimInd\n",
              "231  -200.867674         0\n",
              "404  -381.646224         0\n",
              "568  -289.837160         0\n",
              "794  -528.762236         0\n",
              "822   -27.029003         0"
            ]
          },
          "metadata": {
            "tags": []
          },
          "execution_count": 6
        }
      ]
    },
    {
      "cell_type": "code",
      "metadata": {
        "id": "pvMwhrsQ4wvt",
        "colab_type": "code",
        "colab": {}
      },
      "source": [
        "df.loc[df.ClaimAmount < 0, 'ClaimAmount'] = 0"
      ],
      "execution_count": 0,
      "outputs": []
    },
    {
      "cell_type": "code",
      "metadata": {
        "id": "ypPtqSAY45Gz",
        "colab_type": "code",
        "outputId": "eda497a4-0c0f-4e79-8c08-2c91d9406548",
        "colab": {
          "base_uri": "https://localhost:8080/",
          "height": 34
        }
      },
      "source": [
        "df.Gender, GenderRef = SeriesFactorizer(df.Gender)"
      ],
      "execution_count": 8,
      "outputs": [
        {
          "output_type": "stream",
          "text": [
            "{0: 'Female', 1: 'Male'}\n"
          ],
          "name": "stdout"
        }
      ]
    },
    {
      "cell_type": "code",
      "metadata": {
        "id": "XlK_pnJW45En",
        "colab_type": "code",
        "outputId": "1f3e72c5-1f34-4184-cbfc-6758441e6e7c",
        "colab": {
          "base_uri": "https://localhost:8080/",
          "height": 34
        }
      },
      "source": [
        "df.MariStat, MariStatRef = SeriesFactorizer(df.MariStat)"
      ],
      "execution_count": 9,
      "outputs": [
        {
          "output_type": "stream",
          "text": [
            "{0: 'Other', 1: 'Alone'}\n"
          ],
          "name": "stdout"
        }
      ]
    },
    {
      "cell_type": "code",
      "metadata": {
        "id": "3zrTLYlx45CS",
        "colab_type": "code",
        "outputId": "68660a6e-6b10-4af1-c8dd-103b5c1602c4",
        "colab": {
          "base_uri": "https://localhost:8080/",
          "height": 34
        }
      },
      "source": [
        "list(df.VehUsage.unique())"
      ],
      "execution_count": 10,
      "outputs": [
        {
          "output_type": "execute_result",
          "data": {
            "text/plain": [
              "['Professional', 'Private+trip to office', 'Private', 'Professional run']"
            ]
          },
          "metadata": {
            "tags": []
          },
          "execution_count": 10
        }
      ]
    },
    {
      "cell_type": "code",
      "metadata": {
        "id": "ueZaSHXu44-z",
        "colab_type": "code",
        "outputId": "ac98c325-9076-4636-a90e-b5a932535219",
        "colab": {
          "base_uri": "https://localhost:8080/",
          "height": 197
        }
      },
      "source": [
        "\n",
        "VU_dummies = pd.get_dummies(df.VehUsage, prefix='VehUsg', drop_first=False)\n",
        "VU_dummies.head()"
      ],
      "execution_count": 11,
      "outputs": [
        {
          "output_type": "execute_result",
          "data": {
            "text/html": [
              "<div>\n",
              "<style scoped>\n",
              "    .dataframe tbody tr th:only-of-type {\n",
              "        vertical-align: middle;\n",
              "    }\n",
              "\n",
              "    .dataframe tbody tr th {\n",
              "        vertical-align: top;\n",
              "    }\n",
              "\n",
              "    .dataframe thead th {\n",
              "        text-align: right;\n",
              "    }\n",
              "</style>\n",
              "<table border=\"1\" class=\"dataframe\">\n",
              "  <thead>\n",
              "    <tr style=\"text-align: right;\">\n",
              "      <th></th>\n",
              "      <th>VehUsg_Private</th>\n",
              "      <th>VehUsg_Private+trip to office</th>\n",
              "      <th>VehUsg_Professional</th>\n",
              "      <th>VehUsg_Professional run</th>\n",
              "    </tr>\n",
              "  </thead>\n",
              "  <tbody>\n",
              "    <tr>\n",
              "      <th>0</th>\n",
              "      <td>0</td>\n",
              "      <td>0</td>\n",
              "      <td>1</td>\n",
              "      <td>0</td>\n",
              "    </tr>\n",
              "    <tr>\n",
              "      <th>1</th>\n",
              "      <td>0</td>\n",
              "      <td>1</td>\n",
              "      <td>0</td>\n",
              "      <td>0</td>\n",
              "    </tr>\n",
              "    <tr>\n",
              "      <th>2</th>\n",
              "      <td>0</td>\n",
              "      <td>0</td>\n",
              "      <td>1</td>\n",
              "      <td>0</td>\n",
              "    </tr>\n",
              "    <tr>\n",
              "      <th>3</th>\n",
              "      <td>0</td>\n",
              "      <td>0</td>\n",
              "      <td>1</td>\n",
              "      <td>0</td>\n",
              "    </tr>\n",
              "    <tr>\n",
              "      <th>4</th>\n",
              "      <td>0</td>\n",
              "      <td>0</td>\n",
              "      <td>1</td>\n",
              "      <td>0</td>\n",
              "    </tr>\n",
              "  </tbody>\n",
              "</table>\n",
              "</div>"
            ],
            "text/plain": [
              "   VehUsg_Private  ...  VehUsg_Professional run\n",
              "0               0  ...                        0\n",
              "1               0  ...                        0\n",
              "2               0  ...                        0\n",
              "3               0  ...                        0\n",
              "4               0  ...                        0\n",
              "\n",
              "[5 rows x 4 columns]"
            ]
          },
          "metadata": {
            "tags": []
          },
          "execution_count": 11
        }
      ]
    },
    {
      "cell_type": "code",
      "metadata": {
        "id": "hFty3SuN443e",
        "colab_type": "code",
        "outputId": "40192084-f8c7-4315-aa14-ce86699195ba",
        "colab": {
          "base_uri": "https://localhost:8080/",
          "height": 157
        }
      },
      "source": [
        "df['SocioCateg'].unique()"
      ],
      "execution_count": 12,
      "outputs": [
        {
          "output_type": "execute_result",
          "data": {
            "text/plain": [
              "array(['CSP1', 'CSP55', 'CSP47', 'CSP50', 'CSP60', 'CSP48', 'CSP46',\n",
              "       'CSP37', 'CSP26', 'CSP42', 'CSP66', 'CSP6', 'CSP49', 'CSP51',\n",
              "       'CSP22', 'CSP3', 'CSP7', 'CSP73', 'CSP74', 'CSP21', 'CSP16',\n",
              "       'CSP77', 'CSP40', 'CSP20', 'CSP57', 'CSP5', 'CSP62', 'CSP2',\n",
              "       'CSP19', 'CSP65', 'CSP70', 'CSP18', 'CSP38', 'CSP61', 'CSP56',\n",
              "       'CSP41', 'CSP91', 'CSP32', 'CSP35', 'CSP27', 'CSP59', 'CSP43',\n",
              "       'CSP33', 'CSP9', 'CSP39', 'CSP28', 'CSP36', 'CSP23', 'CSP25',\n",
              "       'CSP30', 'CSP31', 'CSP63'], dtype=object)"
            ]
          },
          "metadata": {
            "tags": []
          },
          "execution_count": 12
        }
      ]
    },
    {
      "cell_type": "code",
      "metadata": {
        "id": "yGJ9TiCY44zs",
        "colab_type": "code",
        "colab": {}
      },
      "source": [
        "df['SocioCateg'] = df.SocioCateg.str.slice(0,4)"
      ],
      "execution_count": 0,
      "outputs": []
    },
    {
      "cell_type": "code",
      "metadata": {
        "id": "wQet6Axb44r4",
        "colab_type": "code",
        "outputId": "3bdcc608-9c8d-4f1f-fe04-1cf920bc2cce",
        "colab": {
          "base_uri": "https://localhost:8080/",
          "height": 287
        }
      },
      "source": [
        "pd.DataFrame(df.SocioCateg.value_counts().sort_values()).rename({'SocioCateg': 'Frequency'}, axis=1)"
      ],
      "execution_count": 14,
      "outputs": [
        {
          "output_type": "execute_result",
          "data": {
            "text/html": [
              "<div>\n",
              "<style scoped>\n",
              "    .dataframe tbody tr th:only-of-type {\n",
              "        vertical-align: middle;\n",
              "    }\n",
              "\n",
              "    .dataframe tbody tr th {\n",
              "        vertical-align: top;\n",
              "    }\n",
              "\n",
              "    .dataframe thead th {\n",
              "        text-align: right;\n",
              "    }\n",
              "</style>\n",
              "<table border=\"1\" class=\"dataframe\">\n",
              "  <thead>\n",
              "    <tr style=\"text-align: right;\">\n",
              "      <th></th>\n",
              "      <th>Frequency</th>\n",
              "    </tr>\n",
              "  </thead>\n",
              "  <tbody>\n",
              "    <tr>\n",
              "      <th>CSP9</th>\n",
              "      <td>10</td>\n",
              "    </tr>\n",
              "    <tr>\n",
              "      <th>CSP7</th>\n",
              "      <td>55</td>\n",
              "    </tr>\n",
              "    <tr>\n",
              "      <th>CSP3</th>\n",
              "      <td>837</td>\n",
              "    </tr>\n",
              "    <tr>\n",
              "      <th>CSP2</th>\n",
              "      <td>1476</td>\n",
              "    </tr>\n",
              "    <tr>\n",
              "      <th>CSP1</th>\n",
              "      <td>1975</td>\n",
              "    </tr>\n",
              "    <tr>\n",
              "      <th>CSP4</th>\n",
              "      <td>3279</td>\n",
              "    </tr>\n",
              "    <tr>\n",
              "      <th>CSP6</th>\n",
              "      <td>4885</td>\n",
              "    </tr>\n",
              "    <tr>\n",
              "      <th>CSP5</th>\n",
              "      <td>28215</td>\n",
              "    </tr>\n",
              "  </tbody>\n",
              "</table>\n",
              "</div>"
            ],
            "text/plain": [
              "      Frequency\n",
              "CSP9         10\n",
              "CSP7         55\n",
              "CSP3        837\n",
              "CSP2       1476\n",
              "CSP1       1975\n",
              "CSP4       3279\n",
              "CSP6       4885\n",
              "CSP5      28215"
            ]
          },
          "metadata": {
            "tags": []
          },
          "execution_count": 14
        }
      ]
    },
    {
      "cell_type": "code",
      "metadata": {
        "id": "Rk8Buvri5iRd",
        "colab_type": "code",
        "colab": {}
      },
      "source": [
        "df = pd.get_dummies(df, columns=['VehUsage','SocioCateg'])"
      ],
      "execution_count": 0,
      "outputs": []
    },
    {
      "cell_type": "code",
      "metadata": {
        "id": "dcMSfQe-5iON",
        "colab_type": "code",
        "colab": {}
      },
      "source": [
        "df = df.select_dtypes(exclude=['object'])"
      ],
      "execution_count": 0,
      "outputs": []
    },
    {
      "cell_type": "code",
      "metadata": {
        "id": "MdW-OCgP5iMH",
        "colab_type": "code",
        "outputId": "9be1689e-ebc0-40a1-b7aa-55c5130c64c2",
        "colab": {
          "base_uri": "https://localhost:8080/",
          "height": 234
        }
      },
      "source": [
        "df['DrivAgeSq'] = df.DrivAge.apply(lambda x: x**2)\n",
        "df.head()"
      ],
      "execution_count": 17,
      "outputs": [
        {
          "output_type": "execute_result",
          "data": {
            "text/html": [
              "<div>\n",
              "<style scoped>\n",
              "    .dataframe tbody tr th:only-of-type {\n",
              "        vertical-align: middle;\n",
              "    }\n",
              "\n",
              "    .dataframe tbody tr th {\n",
              "        vertical-align: top;\n",
              "    }\n",
              "\n",
              "    .dataframe thead th {\n",
              "        text-align: right;\n",
              "    }\n",
              "</style>\n",
              "<table border=\"1\" class=\"dataframe\">\n",
              "  <thead>\n",
              "    <tr style=\"text-align: right;\">\n",
              "      <th></th>\n",
              "      <th>Exposure</th>\n",
              "      <th>LicAge</th>\n",
              "      <th>Gender</th>\n",
              "      <th>MariStat</th>\n",
              "      <th>DrivAge</th>\n",
              "      <th>HasKmLimit</th>\n",
              "      <th>BonusMalus</th>\n",
              "      <th>ClaimAmount</th>\n",
              "      <th>RiskVar</th>\n",
              "      <th>ClaimInd</th>\n",
              "      <th>VehUsage_Private</th>\n",
              "      <th>VehUsage_Private+trip to office</th>\n",
              "      <th>VehUsage_Professional</th>\n",
              "      <th>VehUsage_Professional run</th>\n",
              "      <th>SocioCateg_CSP1</th>\n",
              "      <th>SocioCateg_CSP2</th>\n",
              "      <th>SocioCateg_CSP3</th>\n",
              "      <th>SocioCateg_CSP4</th>\n",
              "      <th>SocioCateg_CSP5</th>\n",
              "      <th>SocioCateg_CSP6</th>\n",
              "      <th>SocioCateg_CSP7</th>\n",
              "      <th>SocioCateg_CSP9</th>\n",
              "      <th>DrivAgeSq</th>\n",
              "    </tr>\n",
              "  </thead>\n",
              "  <tbody>\n",
              "    <tr>\n",
              "      <th>0</th>\n",
              "      <td>0.583</td>\n",
              "      <td>366</td>\n",
              "      <td>0</td>\n",
              "      <td>0</td>\n",
              "      <td>55</td>\n",
              "      <td>0</td>\n",
              "      <td>72</td>\n",
              "      <td>0.000000</td>\n",
              "      <td>15.0</td>\n",
              "      <td>0</td>\n",
              "      <td>0</td>\n",
              "      <td>0</td>\n",
              "      <td>1</td>\n",
              "      <td>0</td>\n",
              "      <td>1</td>\n",
              "      <td>0</td>\n",
              "      <td>0</td>\n",
              "      <td>0</td>\n",
              "      <td>0</td>\n",
              "      <td>0</td>\n",
              "      <td>0</td>\n",
              "      <td>0</td>\n",
              "      <td>3025</td>\n",
              "    </tr>\n",
              "    <tr>\n",
              "      <th>1</th>\n",
              "      <td>0.200</td>\n",
              "      <td>187</td>\n",
              "      <td>1</td>\n",
              "      <td>1</td>\n",
              "      <td>34</td>\n",
              "      <td>0</td>\n",
              "      <td>80</td>\n",
              "      <td>0.000000</td>\n",
              "      <td>20.0</td>\n",
              "      <td>0</td>\n",
              "      <td>0</td>\n",
              "      <td>1</td>\n",
              "      <td>0</td>\n",
              "      <td>0</td>\n",
              "      <td>0</td>\n",
              "      <td>0</td>\n",
              "      <td>0</td>\n",
              "      <td>0</td>\n",
              "      <td>1</td>\n",
              "      <td>0</td>\n",
              "      <td>0</td>\n",
              "      <td>0</td>\n",
              "      <td>1156</td>\n",
              "    </tr>\n",
              "    <tr>\n",
              "      <th>2</th>\n",
              "      <td>0.083</td>\n",
              "      <td>169</td>\n",
              "      <td>0</td>\n",
              "      <td>0</td>\n",
              "      <td>33</td>\n",
              "      <td>0</td>\n",
              "      <td>63</td>\n",
              "      <td>0.000000</td>\n",
              "      <td>17.0</td>\n",
              "      <td>0</td>\n",
              "      <td>0</td>\n",
              "      <td>0</td>\n",
              "      <td>1</td>\n",
              "      <td>0</td>\n",
              "      <td>1</td>\n",
              "      <td>0</td>\n",
              "      <td>0</td>\n",
              "      <td>0</td>\n",
              "      <td>0</td>\n",
              "      <td>0</td>\n",
              "      <td>0</td>\n",
              "      <td>0</td>\n",
              "      <td>1089</td>\n",
              "    </tr>\n",
              "    <tr>\n",
              "      <th>3</th>\n",
              "      <td>0.375</td>\n",
              "      <td>170</td>\n",
              "      <td>0</td>\n",
              "      <td>0</td>\n",
              "      <td>34</td>\n",
              "      <td>0</td>\n",
              "      <td>63</td>\n",
              "      <td>0.000000</td>\n",
              "      <td>17.0</td>\n",
              "      <td>0</td>\n",
              "      <td>0</td>\n",
              "      <td>0</td>\n",
              "      <td>1</td>\n",
              "      <td>0</td>\n",
              "      <td>1</td>\n",
              "      <td>0</td>\n",
              "      <td>0</td>\n",
              "      <td>0</td>\n",
              "      <td>0</td>\n",
              "      <td>0</td>\n",
              "      <td>0</td>\n",
              "      <td>0</td>\n",
              "      <td>1156</td>\n",
              "    </tr>\n",
              "    <tr>\n",
              "      <th>4</th>\n",
              "      <td>0.500</td>\n",
              "      <td>224</td>\n",
              "      <td>1</td>\n",
              "      <td>0</td>\n",
              "      <td>53</td>\n",
              "      <td>0</td>\n",
              "      <td>72</td>\n",
              "      <td>1418.610272</td>\n",
              "      <td>19.0</td>\n",
              "      <td>1</td>\n",
              "      <td>0</td>\n",
              "      <td>0</td>\n",
              "      <td>1</td>\n",
              "      <td>0</td>\n",
              "      <td>0</td>\n",
              "      <td>0</td>\n",
              "      <td>0</td>\n",
              "      <td>1</td>\n",
              "      <td>0</td>\n",
              "      <td>0</td>\n",
              "      <td>0</td>\n",
              "      <td>0</td>\n",
              "      <td>2809</td>\n",
              "    </tr>\n",
              "  </tbody>\n",
              "</table>\n",
              "</div>"
            ],
            "text/plain": [
              "   Exposure  LicAge  Gender  ...  SocioCateg_CSP7  SocioCateg_CSP9  DrivAgeSq\n",
              "0     0.583     366       0  ...                0                0       3025\n",
              "1     0.200     187       1  ...                0                0       1156\n",
              "2     0.083     169       0  ...                0                0       1089\n",
              "3     0.375     170       0  ...                0                0       1156\n",
              "4     0.500     224       1  ...                0                0       2809\n",
              "\n",
              "[5 rows x 23 columns]"
            ]
          },
          "metadata": {
            "tags": []
          },
          "execution_count": 17
        }
      ]
    },
    {
      "cell_type": "code",
      "metadata": {
        "id": "S4g1U0-rdIZq",
        "colab_type": "code",
        "outputId": "fa8a0d6b-88f7-4763-f430-c5c9c9bc863e",
        "colab": {
          "base_uri": "https://localhost:8080/",
          "height": 507
        }
      },
      "source": [
        "df.info()"
      ],
      "execution_count": 18,
      "outputs": [
        {
          "output_type": "stream",
          "text": [
            "<class 'pandas.core.frame.DataFrame'>\n",
            "RangeIndex: 40732 entries, 0 to 40731\n",
            "Data columns (total 23 columns):\n",
            "Exposure                           40732 non-null float64\n",
            "LicAge                             40732 non-null int64\n",
            "Gender                             40732 non-null int64\n",
            "MariStat                           40732 non-null int64\n",
            "DrivAge                            40732 non-null int64\n",
            "HasKmLimit                         40732 non-null int64\n",
            "BonusMalus                         40732 non-null int64\n",
            "ClaimAmount                        40732 non-null float64\n",
            "RiskVar                            40732 non-null float64\n",
            "ClaimInd                           40732 non-null int64\n",
            "VehUsage_Private                   40732 non-null uint8\n",
            "VehUsage_Private+trip to office    40732 non-null uint8\n",
            "VehUsage_Professional              40732 non-null uint8\n",
            "VehUsage_Professional run          40732 non-null uint8\n",
            "SocioCateg_CSP1                    40732 non-null uint8\n",
            "SocioCateg_CSP2                    40732 non-null uint8\n",
            "SocioCateg_CSP3                    40732 non-null uint8\n",
            "SocioCateg_CSP4                    40732 non-null uint8\n",
            "SocioCateg_CSP5                    40732 non-null uint8\n",
            "SocioCateg_CSP6                    40732 non-null uint8\n",
            "SocioCateg_CSP7                    40732 non-null uint8\n",
            "SocioCateg_CSP9                    40732 non-null uint8\n",
            "DrivAgeSq                          40732 non-null int64\n",
            "dtypes: float64(3), int64(8), uint8(12)\n",
            "memory usage: 3.9 MB\n"
          ],
          "name": "stdout"
        }
      ]
    },
    {
      "cell_type": "markdown",
      "metadata": {
        "id": "2m1bibe9nMKp",
        "colab_type": "text"
      },
      "source": [
        "XGBoost для многоклассовой классификации принимает на вход значения меток классов в виде `[0, num_classes]`. Поэтому, вычтем из значений переменной `RiskVar` единицу."
      ]
    },
    {
      "cell_type": "code",
      "metadata": {
        "id": "6VLMcICSn3B7",
        "colab_type": "code",
        "outputId": "34350f23-218d-4ecc-84a1-71cce8ba8934",
        "colab": {
          "base_uri": "https://localhost:8080/",
          "height": 52
        }
      },
      "source": [
        "df['RiskVar'] = (df['RiskVar'] - 1).astype(int)\n",
        "df['RiskVar'].unique()"
      ],
      "execution_count": 19,
      "outputs": [
        {
          "output_type": "execute_result",
          "data": {
            "text/plain": [
              "array([14, 19, 16, 18,  9, 15,  0,  7, 17, 10, 13, 12, 11,  8,  5,  2,  6,\n",
              "        4,  3,  1])"
            ]
          },
          "metadata": {
            "tags": []
          },
          "execution_count": 19
        }
      ]
    },
    {
      "cell_type": "markdown",
      "metadata": {
        "id": "Nqre5rvZxL-N",
        "colab_type": "text"
      },
      "source": [
        "Данная переменная принимает значения от 1 до 20, которые, возможно, упорядочены. Посмотрим, сколько полисов соответствуют каждому из значений `RiskVar`, используя метод `groupby`. Для полученных значений также посчитаем нормированную частоту."
      ]
    },
    {
      "cell_type": "code",
      "metadata": {
        "id": "nHgg3kZJu8tX",
        "colab_type": "code",
        "colab": {}
      },
      "source": [
        "FreqCount = pd.DataFrame(df.groupby('RiskVar').size(), columns=['Count'])\n",
        "FreqCount['Freq'] = FreqCount['Count'] / FreqCount['Count'].sum()"
      ],
      "execution_count": 0,
      "outputs": []
    },
    {
      "cell_type": "code",
      "metadata": {
        "id": "UifKccwQYWiT",
        "colab_type": "code",
        "outputId": "145565fc-a69b-4ace-c0c6-6627498636c7",
        "colab": {
          "base_uri": "https://localhost:8080/",
          "height": 282
        }
      },
      "source": [
        "FreqCount.Freq.plot(kind='bar')\n",
        "plt.ylabel('Frequency')\n",
        "plt.show()"
      ],
      "execution_count": 21,
      "outputs": [
        {
          "output_type": "display_data",
          "data": {
            "image/png": "[encoded data removed]",
            "text/plain": [
              "<Figure size 432x288 with 1 Axes>"
            ]
          },
          "metadata": {
            "tags": []
          }
        }
      ]
    },
    {
      "cell_type": "code",
      "metadata": {
        "id": "4Gy10AzjXsT9",
        "colab_type": "code",
        "outputId": "3e490bb0-1874-4ad7-c66b-d82269778914",
        "colab": {
          "base_uri": "https://localhost:8080/",
          "height": 677
        }
      },
      "source": [
        "FreqCount"
      ],
      "execution_count": 22,
      "outputs": [
        {
          "output_type": "execute_result",
          "data": {
            "text/html": [
              "<div>\n",
              "<style scoped>\n",
              "    .dataframe tbody tr th:only-of-type {\n",
              "        vertical-align: middle;\n",
              "    }\n",
              "\n",
              "    .dataframe tbody tr th {\n",
              "        vertical-align: top;\n",
              "    }\n",
              "\n",
              "    .dataframe thead th {\n",
              "        text-align: right;\n",
              "    }\n",
              "</style>\n",
              "<table border=\"1\" class=\"dataframe\">\n",
              "  <thead>\n",
              "    <tr style=\"text-align: right;\">\n",
              "      <th></th>\n",
              "      <th>Count</th>\n",
              "      <th>Freq</th>\n",
              "    </tr>\n",
              "    <tr>\n",
              "      <th>RiskVar</th>\n",
              "      <th></th>\n",
              "      <th></th>\n",
              "    </tr>\n",
              "  </thead>\n",
              "  <tbody>\n",
              "    <tr>\n",
              "      <th>0</th>\n",
              "      <td>531</td>\n",
              "      <td>0.013036</td>\n",
              "    </tr>\n",
              "    <tr>\n",
              "      <th>1</th>\n",
              "      <td>451</td>\n",
              "      <td>0.011072</td>\n",
              "    </tr>\n",
              "    <tr>\n",
              "      <th>2</th>\n",
              "      <td>660</td>\n",
              "      <td>0.016203</td>\n",
              "    </tr>\n",
              "    <tr>\n",
              "      <th>3</th>\n",
              "      <td>603</td>\n",
              "      <td>0.014804</td>\n",
              "    </tr>\n",
              "    <tr>\n",
              "      <th>4</th>\n",
              "      <td>979</td>\n",
              "      <td>0.024035</td>\n",
              "    </tr>\n",
              "    <tr>\n",
              "      <th>5</th>\n",
              "      <td>902</td>\n",
              "      <td>0.022145</td>\n",
              "    </tr>\n",
              "    <tr>\n",
              "      <th>6</th>\n",
              "      <td>1634</td>\n",
              "      <td>0.040116</td>\n",
              "    </tr>\n",
              "    <tr>\n",
              "      <th>7</th>\n",
              "      <td>1439</td>\n",
              "      <td>0.035328</td>\n",
              "    </tr>\n",
              "    <tr>\n",
              "      <th>8</th>\n",
              "      <td>1170</td>\n",
              "      <td>0.028724</td>\n",
              "    </tr>\n",
              "    <tr>\n",
              "      <th>9</th>\n",
              "      <td>1314</td>\n",
              "      <td>0.032260</td>\n",
              "    </tr>\n",
              "    <tr>\n",
              "      <th>10</th>\n",
              "      <td>2533</td>\n",
              "      <td>0.062187</td>\n",
              "    </tr>\n",
              "    <tr>\n",
              "      <th>11</th>\n",
              "      <td>2445</td>\n",
              "      <td>0.060027</td>\n",
              "    </tr>\n",
              "    <tr>\n",
              "      <th>12</th>\n",
              "      <td>2719</td>\n",
              "      <td>0.066753</td>\n",
              "    </tr>\n",
              "    <tr>\n",
              "      <th>13</th>\n",
              "      <td>2096</td>\n",
              "      <td>0.051458</td>\n",
              "    </tr>\n",
              "    <tr>\n",
              "      <th>14</th>\n",
              "      <td>4625</td>\n",
              "      <td>0.113547</td>\n",
              "    </tr>\n",
              "    <tr>\n",
              "      <th>15</th>\n",
              "      <td>4906</td>\n",
              "      <td>0.120446</td>\n",
              "    </tr>\n",
              "    <tr>\n",
              "      <th>16</th>\n",
              "      <td>3444</td>\n",
              "      <td>0.084553</td>\n",
              "    </tr>\n",
              "    <tr>\n",
              "      <th>17</th>\n",
              "      <td>2614</td>\n",
              "      <td>0.064176</td>\n",
              "    </tr>\n",
              "    <tr>\n",
              "      <th>18</th>\n",
              "      <td>2773</td>\n",
              "      <td>0.068079</td>\n",
              "    </tr>\n",
              "    <tr>\n",
              "      <th>19</th>\n",
              "      <td>2894</td>\n",
              "      <td>0.071050</td>\n",
              "    </tr>\n",
              "  </tbody>\n",
              "</table>\n",
              "</div>"
            ],
            "text/plain": [
              "         Count      Freq\n",
              "RiskVar                 \n",
              "0          531  0.013036\n",
              "1          451  0.011072\n",
              "2          660  0.016203\n",
              "3          603  0.014804\n",
              "4          979  0.024035\n",
              "5          902  0.022145\n",
              "6         1634  0.040116\n",
              "7         1439  0.035328\n",
              "8         1170  0.028724\n",
              "9         1314  0.032260\n",
              "10        2533  0.062187\n",
              "11        2445  0.060027\n",
              "12        2719  0.066753\n",
              "13        2096  0.051458\n",
              "14        4625  0.113547\n",
              "15        4906  0.120446\n",
              "16        3444  0.084553\n",
              "17        2614  0.064176\n",
              "18        2773  0.068079\n",
              "19        2894  0.071050"
            ]
          },
          "metadata": {
            "tags": []
          },
          "execution_count": 22
        }
      ]
    },
    {
      "cell_type": "markdown",
      "metadata": {
        "id": "BzM1998TZDPm",
        "colab_type": "text"
      },
      "source": [
        "Заметим, что в данном случае присутствует проблема несбалансированности классов. Поэтому, для того, чтобы по возможности избежать ее, воспользуемся взвешиванием наблюдений для обучения модели. Для этого в исходном наборе данных создадим столбец `weight`. Присвоим ему некоторые значения, например, можно задать `0.5` для значений `RiskVar` 14 и 15, а для остальных - 1 (Для этого можем использовать функцию `np.where` и метод `isin` для `pandas.Series`). Также можно попробовать какой-либо другой способ задания весов."
      ]
    },
    {
      "cell_type": "code",
      "metadata": {
        "id": "IxVL5fPu_hY6",
        "colab_type": "code",
        "colab": {}
      },
      "source": [
        "from sklearn.utils import class_weight"
      ],
      "execution_count": 0,
      "outputs": []
    },
    {
      "cell_type": "code",
      "metadata": {
        "id": "8pO8GOTgByeG",
        "colab_type": "code",
        "colab": {}
      },
      "source": [
        "weights = class_weight.compute_class_weight('balanced',\n",
        "                                                 df.RiskVar.unique(),\n",
        "                                                 df.RiskVar)"
      ],
      "execution_count": 0,
      "outputs": []
    },
    {
      "cell_type": "code",
      "metadata": {
        "id": "s9MiPFpeDmRn",
        "colab_type": "code",
        "colab": {}
      },
      "source": [
        "def make_weight (row):\n",
        "   return weights[int(row['RiskVar'])]"
      ],
      "execution_count": 0,
      "outputs": []
    },
    {
      "cell_type": "code",
      "metadata": {
        "id": "dnL5LOi0i2oq",
        "colab_type": "code",
        "colab": {}
      },
      "source": [
        "df['weight'] = df.apply (lambda row: make_weight(row), axis=1)"
      ],
      "execution_count": 0,
      "outputs": []
    },
    {
      "cell_type": "code",
      "metadata": {
        "id": "3N8oCCKTDa5k",
        "colab_type": "code",
        "outputId": "ec9262a3-5f45-42d3-aeb4-cee0354f726d",
        "colab": {
          "base_uri": "https://localhost:8080/",
          "height": 234
        }
      },
      "source": [
        "df.head()"
      ],
      "execution_count": 27,
      "outputs": [
        {
          "output_type": "execute_result",
          "data": {
            "text/html": [
              "<div>\n",
              "<style scoped>\n",
              "    .dataframe tbody tr th:only-of-type {\n",
              "        vertical-align: middle;\n",
              "    }\n",
              "\n",
              "    .dataframe tbody tr th {\n",
              "        vertical-align: top;\n",
              "    }\n",
              "\n",
              "    .dataframe thead th {\n",
              "        text-align: right;\n",
              "    }\n",
              "</style>\n",
              "<table border=\"1\" class=\"dataframe\">\n",
              "  <thead>\n",
              "    <tr style=\"text-align: right;\">\n",
              "      <th></th>\n",
              "      <th>Exposure</th>\n",
              "      <th>LicAge</th>\n",
              "      <th>Gender</th>\n",
              "      <th>MariStat</th>\n",
              "      <th>DrivAge</th>\n",
              "      <th>HasKmLimit</th>\n",
              "      <th>BonusMalus</th>\n",
              "      <th>ClaimAmount</th>\n",
              "      <th>RiskVar</th>\n",
              "      <th>ClaimInd</th>\n",
              "      <th>VehUsage_Private</th>\n",
              "      <th>VehUsage_Private+trip to office</th>\n",
              "      <th>VehUsage_Professional</th>\n",
              "      <th>VehUsage_Professional run</th>\n",
              "      <th>SocioCateg_CSP1</th>\n",
              "      <th>SocioCateg_CSP2</th>\n",
              "      <th>SocioCateg_CSP3</th>\n",
              "      <th>SocioCateg_CSP4</th>\n",
              "      <th>SocioCateg_CSP5</th>\n",
              "      <th>SocioCateg_CSP6</th>\n",
              "      <th>SocioCateg_CSP7</th>\n",
              "      <th>SocioCateg_CSP9</th>\n",
              "      <th>DrivAgeSq</th>\n",
              "      <th>weight</th>\n",
              "    </tr>\n",
              "  </thead>\n",
              "  <tbody>\n",
              "    <tr>\n",
              "      <th>0</th>\n",
              "      <td>0.583</td>\n",
              "      <td>366</td>\n",
              "      <td>0</td>\n",
              "      <td>0</td>\n",
              "      <td>55</td>\n",
              "      <td>0</td>\n",
              "      <td>72</td>\n",
              "      <td>0.000000</td>\n",
              "      <td>14</td>\n",
              "      <td>0</td>\n",
              "      <td>0</td>\n",
              "      <td>0</td>\n",
              "      <td>1</td>\n",
              "      <td>0</td>\n",
              "      <td>1</td>\n",
              "      <td>0</td>\n",
              "      <td>0</td>\n",
              "      <td>0</td>\n",
              "      <td>0</td>\n",
              "      <td>0</td>\n",
              "      <td>0</td>\n",
              "      <td>0</td>\n",
              "      <td>3025</td>\n",
              "      <td>2.257871</td>\n",
              "    </tr>\n",
              "    <tr>\n",
              "      <th>1</th>\n",
              "      <td>0.200</td>\n",
              "      <td>187</td>\n",
              "      <td>1</td>\n",
              "      <td>1</td>\n",
              "      <td>34</td>\n",
              "      <td>0</td>\n",
              "      <td>80</td>\n",
              "      <td>0.000000</td>\n",
              "      <td>19</td>\n",
              "      <td>0</td>\n",
              "      <td>0</td>\n",
              "      <td>1</td>\n",
              "      <td>0</td>\n",
              "      <td>0</td>\n",
              "      <td>0</td>\n",
              "      <td>0</td>\n",
              "      <td>0</td>\n",
              "      <td>0</td>\n",
              "      <td>1</td>\n",
              "      <td>0</td>\n",
              "      <td>0</td>\n",
              "      <td>0</td>\n",
              "      <td>1156</td>\n",
              "      <td>4.515743</td>\n",
              "    </tr>\n",
              "    <tr>\n",
              "      <th>2</th>\n",
              "      <td>0.083</td>\n",
              "      <td>169</td>\n",
              "      <td>0</td>\n",
              "      <td>0</td>\n",
              "      <td>33</td>\n",
              "      <td>0</td>\n",
              "      <td>63</td>\n",
              "      <td>0.000000</td>\n",
              "      <td>16</td>\n",
              "      <td>0</td>\n",
              "      <td>0</td>\n",
              "      <td>0</td>\n",
              "      <td>1</td>\n",
              "      <td>0</td>\n",
              "      <td>1</td>\n",
              "      <td>0</td>\n",
              "      <td>0</td>\n",
              "      <td>0</td>\n",
              "      <td>0</td>\n",
              "      <td>0</td>\n",
              "      <td>0</td>\n",
              "      <td>0</td>\n",
              "      <td>1089</td>\n",
              "      <td>1.246389</td>\n",
              "    </tr>\n",
              "    <tr>\n",
              "      <th>3</th>\n",
              "      <td>0.375</td>\n",
              "      <td>170</td>\n",
              "      <td>0</td>\n",
              "      <td>0</td>\n",
              "      <td>34</td>\n",
              "      <td>0</td>\n",
              "      <td>63</td>\n",
              "      <td>0.000000</td>\n",
              "      <td>16</td>\n",
              "      <td>0</td>\n",
              "      <td>0</td>\n",
              "      <td>0</td>\n",
              "      <td>1</td>\n",
              "      <td>0</td>\n",
              "      <td>1</td>\n",
              "      <td>0</td>\n",
              "      <td>0</td>\n",
              "      <td>0</td>\n",
              "      <td>0</td>\n",
              "      <td>0</td>\n",
              "      <td>0</td>\n",
              "      <td>0</td>\n",
              "      <td>1156</td>\n",
              "      <td>1.246389</td>\n",
              "    </tr>\n",
              "    <tr>\n",
              "      <th>4</th>\n",
              "      <td>0.500</td>\n",
              "      <td>224</td>\n",
              "      <td>1</td>\n",
              "      <td>0</td>\n",
              "      <td>53</td>\n",
              "      <td>0</td>\n",
              "      <td>72</td>\n",
              "      <td>1418.610272</td>\n",
              "      <td>18</td>\n",
              "      <td>1</td>\n",
              "      <td>0</td>\n",
              "      <td>0</td>\n",
              "      <td>1</td>\n",
              "      <td>0</td>\n",
              "      <td>0</td>\n",
              "      <td>0</td>\n",
              "      <td>0</td>\n",
              "      <td>1</td>\n",
              "      <td>0</td>\n",
              "      <td>0</td>\n",
              "      <td>0</td>\n",
              "      <td>0</td>\n",
              "      <td>2809</td>\n",
              "      <td>3.377446</td>\n",
              "    </tr>\n",
              "  </tbody>\n",
              "</table>\n",
              "</div>"
            ],
            "text/plain": [
              "   Exposure  LicAge  Gender  ...  SocioCateg_CSP9  DrivAgeSq    weight\n",
              "0     0.583     366       0  ...                0       3025  2.257871\n",
              "1     0.200     187       1  ...                0       1156  4.515743\n",
              "2     0.083     169       0  ...                0       1089  1.246389\n",
              "3     0.375     170       0  ...                0       1156  1.246389\n",
              "4     0.500     224       1  ...                0       2809  3.377446\n",
              "\n",
              "[5 rows x 24 columns]"
            ]
          },
          "metadata": {
            "tags": []
          },
          "execution_count": 27
        }
      ]
    },
    {
      "cell_type": "markdown",
      "metadata": {
        "id": "sAlGTL0hBpNv",
        "colab_type": "text"
      },
      "source": [
        "Разобьем имеющийся набор данных на обучающую, валидационную и тестовую выборки в отношениях 70%/15%/15% соответственно. Зададим зерно для случайного разбиения равным 10."
      ]
    },
    {
      "cell_type": "code",
      "metadata": {
        "id": "0u45ocam8HCn",
        "colab_type": "code",
        "colab": {}
      },
      "source": [
        "x_train, x_test, y_train, y_test = train_test_split(df.drop(['RiskVar'], axis=1), df.RiskVar, test_size=0.3, random_state=10)\n",
        "x_valid, x_test, y_valid, y_test = train_test_split(x_test, y_test, test_size=0.5, random_state=10)\n"
      ],
      "execution_count": 0,
      "outputs": []
    },
    {
      "cell_type": "markdown",
      "metadata": {
        "id": "PCySK2zQKsUI",
        "colab_type": "text"
      },
      "source": [
        "Далее, создадим объекты `DMatrix` для обучающей, валидационной и тестовой выборок. Для обучающей выборки также укажем параметр `weight` равным полученному ранее столбцу весов. Данный столбец также нужно исключить из объекта передаваемого в параметр `data`."
      ]
    },
    {
      "cell_type": "code",
      "metadata": {
        "id": "_67FrNffDNu-",
        "colab_type": "code",
        "outputId": "3992775d-79bd-41f8-fc8a-fab59845671d",
        "colab": {
          "base_uri": "https://localhost:8080/",
          "height": 52
        }
      },
      "source": [
        "xgb_train = xgb.DMatrix(x_train.drop(['Exposure'], axis=1), (y_train))\n",
        "xgb_valid = xgb.DMatrix(x_valid.drop(['Exposure'], axis=1), (y_valid))\n",
        "xgb_test = xgb.DMatrix(x_test.drop(['Exposure'], axis=1), (y_test))"
      ],
      "execution_count": 29,
      "outputs": [
        {
          "output_type": "stream",
          "text": [
            "/usr/local/lib/python3.6/dist-packages/xgboost/core.py:587: FutureWarning: Series.base is deprecated and will be removed in a future version\n",
            "  if getattr(data, 'base', None) is not None and \\\n"
          ],
          "name": "stderr"
        }
      ]
    },
    {
      "cell_type": "markdown",
      "metadata": {
        "id": "N__wZRJLaMfs",
        "colab_type": "text"
      },
      "source": [
        "Для оптимизации гиперпараметров можно воспользоваться различными методами. Однако, в случае Hyperopt, на процесс подбора гиперпараметров может уйти немалое количество часов."
      ]
    },
    {
      "cell_type": "code",
      "metadata": {
        "id": "-CaHsl3sDPdx",
        "colab_type": "code",
        "outputId": "6c59edf3-d1d5-4e43-c49e-7f3719840a87",
        "colab": {
          "base_uri": "https://localhost:8080/",
          "height": 34
        }
      },
      "source": [
        "'<Ваш код здесь>'"
      ],
      "execution_count": 0,
      "outputs": [
        {
          "output_type": "execute_result",
          "data": {
            "text/plain": [
              "'<Ваш код здесь>'"
            ]
          },
          "metadata": {
            "tags": []
          },
          "execution_count": 110
        }
      ]
    },
    {
      "cell_type": "markdown",
      "metadata": {
        "id": "_3bTqctcR84Z",
        "colab_type": "text"
      },
      "source": [
        "Далее обучим нашу модель с оптимальными параметрами"
      ]
    },
    {
      "cell_type": "code",
      "metadata": {
        "id": "o82HnqLJCXaI",
        "colab_type": "code",
        "colab": {}
      },
      "source": [
        "params = {'alpha': 0.9421394125156006,\n",
        " 'eta': 0.25676315790889986,\n",
        " 'lambda': 0.5666526532577569,\n",
        " 'max_depth': 5,\n",
        " 'min_child_weight': 49.383294309320455,\n",
        " 'num_boost_round': 475.0,\n",
        " 'objective': 'multi:softmax',\n",
        " 'num_class': 20}"
      ],
      "execution_count": 0,
      "outputs": []
    },
    {
      "cell_type": "code",
      "metadata": {
        "id": "I-m6Ihq6hNJF",
        "colab_type": "code",
        "colab": {}
      },
      "source": [
        "progress = dict()\n",
        "xgb_model = xgb.train(params = params, dtrain=xgb_train, maximize=False, evals=[(xgb_train, \"train\"),(xgb_valid, \"valid\"), (xgb_test, \"test\")], early_stopping_rounds=10, evals_result=progress, verbose_eval=False)"
      ],
      "execution_count": 0,
      "outputs": []
    },
    {
      "cell_type": "code",
      "metadata": {
        "id": "IfY1D-D8MjDp",
        "colab_type": "code",
        "outputId": "28abb10b-9a38-410e-8c3e-8737a62fda78",
        "colab": {
          "base_uri": "https://localhost:8080/",
          "height": 34
        }
      },
      "source": [
        "xgb_model.predict(xgb_test)"
      ],
      "execution_count": 32,
      "outputs": [
        {
          "output_type": "execute_result",
          "data": {
            "text/plain": [
              "array([15.,  8., 16., ..., 14., 15., 18.], dtype=float32)"
            ]
          },
          "metadata": {
            "tags": []
          },
          "execution_count": 32
        }
      ]
    },
    {
      "cell_type": "markdown",
      "metadata": {
        "id": "x9151AtiSRtD",
        "colab_type": "text"
      },
      "source": [
        "Посчитаем метрики accuracy и f1 на наших наборах данных, также можем визуализировать confusion matrix, например, с помощью `plt.imshow()`. Можно использовать предложенный ниже код."
      ]
    },
    {
      "cell_type": "code",
      "metadata": {
        "id": "A6ByYuqwD27P",
        "colab_type": "code",
        "outputId": "24b66a97-2f14-4621-fce1-0a6418d3b444",
        "colab": {
          "base_uri": "https://localhost:8080/",
          "height": 69
        }
      },
      "source": [
        "dfsets = [{'set': 'train', 'dmat': xgb_train, 'target': y_train},\n",
        "          {'set': 'valid', 'dmat': xgb_valid, 'target': y_valid},\n",
        "          {'set': 'test', 'dmat': xgb_test, 'target': y_test}]\n",
        "for dfset in dfsets:\n",
        "    class_preds = xgb_model.predict(dfset['dmat']) # Посчитаем предсказанные значения\n",
        "    print('F1 Score on ' + str(dfset['set'])+':', f1_score(dfset['target'].values, class_preds, average='micro')) # Посчитаем F1 Score"
      ],
      "execution_count": 33,
      "outputs": [
        {
          "output_type": "stream",
          "text": [
            "F1 Score on train: 1.0\n",
            "F1 Score on valid: 1.0\n",
            "F1 Score on test: 1.0\n"
          ],
          "name": "stdout"
        }
      ]
    },
    {
      "cell_type": "code",
      "metadata": {
        "id": "36_p091I8Www",
        "colab_type": "code",
        "outputId": "1883c69a-ab90-453e-c0ed-8df4301b2784",
        "colab": {
          "base_uri": "https://localhost:8080/",
          "height": 225
        }
      },
      "source": [
        "plt.subplots(1,3, figsize=(15,3))\n",
        "for i in range(len(dfsets)):\n",
        "    confmatrix = confusion_matrix(dfsets[i]['target'], xgb_model.predict(dfsets[i]['dmat']))\n",
        "    plt.subplot(1,3,i+1)\n",
        "    plt.imshow(confmatrix, cmap='Greys')\n",
        "    plt.colorbar()\n",
        "    plt.ylabel('True')\n",
        "    plt.xlabel('Predicted')\n",
        "plt.show()"
      ],
      "execution_count": 34,
      "outputs": [
        {
          "output_type": "display_data",
          "data": {
            "image/png": "[encoded data removed]",
            "text/plain": [
              "<Figure size 1080x216 with 6 Axes>"
            ]
          },
          "metadata": {
            "tags": []
          }
        }
      ]
    },
    {
      "cell_type": "markdown",
      "metadata": {
        "id": "X7rFhBo3Tepd",
        "colab_type": "text"
      },
      "source": [
        "Похоже, модель хорошо справляется со своей задачей, теперь попробуем отправить её в production."
      ]
    },
    {
      "cell_type": "code",
      "metadata": {
        "id": "vmTYd1UxZELc",
        "colab_type": "code",
        "colab": {
          "base_uri": "https://localhost:8080/",
          "height": 279
        },
        "outputId": "d1294525-4672-4472-9eea-3c2222b317ad"
      },
      "source": [
        "!pip install flask-ngrok"
      ],
      "execution_count": 35,
      "outputs": [
        {
          "output_type": "stream",
          "text": [
            "Collecting flask-ngrok\n",
            "  Downloading https://files.pythonhosted.org/packages/af/6c/f54cb686ad1129e27d125d182f90f52b32f284e6c8df58c1bae54fa1adbc/flask_ngrok-0.0.25-py3-none-any.whl\n",
            "Requirement already satisfied: Flask>=0.8 in /usr/local/lib/python3.6/dist-packages (from flask-ngrok) (1.1.1)\n",
            "Requirement already satisfied: requests in /usr/local/lib/python3.6/dist-packages (from flask-ngrok) (2.21.0)\n",
            "Requirement already satisfied: click>=5.1 in /usr/local/lib/python3.6/dist-packages (from Flask>=0.8->flask-ngrok) (7.0)\n",
            "Requirement already satisfied: itsdangerous>=0.24 in /usr/local/lib/python3.6/dist-packages (from Flask>=0.8->flask-ngrok) (1.1.0)\n",
            "Requirement already satisfied: Werkzeug>=0.15 in /usr/local/lib/python3.6/dist-packages (from Flask>=0.8->flask-ngrok) (1.0.0)\n",
            "Requirement already satisfied: Jinja2>=2.10.1 in /usr/local/lib/python3.6/dist-packages (from Flask>=0.8->flask-ngrok) (2.11.1)\n",
            "Requirement already satisfied: chardet<3.1.0,>=3.0.2 in /usr/local/lib/python3.6/dist-packages (from requests->flask-ngrok) (3.0.4)\n",
            "Requirement already satisfied: urllib3<1.25,>=1.21.1 in /usr/local/lib/python3.6/dist-packages (from requests->flask-ngrok) (1.24.3)\n",
            "Requirement already satisfied: idna<2.9,>=2.5 in /usr/local/lib/python3.6/dist-packages (from requests->flask-ngrok) (2.8)\n",
            "Requirement already satisfied: certifi>=2017.4.17 in /usr/local/lib/python3.6/dist-packages (from requests->flask-ngrok) (2019.11.28)\n",
            "Requirement already satisfied: MarkupSafe>=0.23 in /usr/local/lib/python3.6/dist-packages (from Jinja2>=2.10.1->Flask>=0.8->flask-ngrok) (1.1.1)\n",
            "Installing collected packages: flask-ngrok\n",
            "Successfully installed flask-ngrok-0.0.25\n"
          ],
          "name": "stdout"
        }
      ]
    },
    {
      "cell_type": "code",
      "metadata": {
        "id": "ZDWX_AOGUthH",
        "colab_type": "code",
        "colab": {}
      },
      "source": [
        "from flask_ngrok import run_with_ngrok\n",
        "from flask import Flask, request, jsonify"
      ],
      "execution_count": 0,
      "outputs": []
    },
    {
      "cell_type": "code",
      "metadata": {
        "id": "h7ZB8OkmVhTy",
        "colab_type": "code",
        "colab": {
          "base_uri": "https://localhost:8080/",
          "height": 157
        },
        "outputId": "b0d0d8af-d8eb-4b8d-ad7a-8d405a7dfcb4"
      },
      "source": [
        "df.columns"
      ],
      "execution_count": 37,
      "outputs": [
        {
          "output_type": "execute_result",
          "data": {
            "text/plain": [
              "Index(['Exposure', 'LicAge', 'Gender', 'MariStat', 'DrivAge', 'HasKmLimit',\n",
              "       'BonusMalus', 'ClaimAmount', 'RiskVar', 'ClaimInd', 'VehUsage_Private',\n",
              "       'VehUsage_Private+trip to office', 'VehUsage_Professional',\n",
              "       'VehUsage_Professional run', 'SocioCateg_CSP1', 'SocioCateg_CSP2',\n",
              "       'SocioCateg_CSP3', 'SocioCateg_CSP4', 'SocioCateg_CSP5',\n",
              "       'SocioCateg_CSP6', 'SocioCateg_CSP7', 'SocioCateg_CSP9', 'DrivAgeSq',\n",
              "       'weight'],\n",
              "      dtype='object')"
            ]
          },
          "metadata": {
            "tags": []
          },
          "execution_count": 37
        }
      ]
    },
    {
      "cell_type": "code",
      "metadata": {
        "id": "b3KE4BkrUysq",
        "colab_type": "code",
        "colab": {
          "base_uri": "https://localhost:8080/",
          "height": 297
        },
        "outputId": "69296cdd-64fd-4479-81af-357a9a805cb0"
      },
      "source": [
        "# Обработчики и запуск Flask\n",
        "\n",
        "app = Flask(__name__)\n",
        "run_with_ngrok(app)  # Start ngrok when app is run\n",
        "\n",
        "def map_for_dict_Gender(Gender):\n",
        "  dict_Gender = {'Male':0, 'Female':1}\n",
        "  res = dict_Gender.get(Gender)\n",
        "  return res\n",
        "\n",
        "def map_for_dict_MariStat(MariStat):\n",
        "  dict_MariStat = {'Other':0, 'Alone':1}\n",
        "  res = dict_MariStat.get(MariStat)\n",
        "  return res\n",
        "\n",
        "def f_VehUsage_Professional(VehUsage):\n",
        "  if VehUsage == 'Professional':\n",
        "    VehUsage_Professional = 1\n",
        "  else:\n",
        "    VehUsage_Professional = 0\n",
        "  return(VehUsage_Professional)\n",
        "\n",
        "def f_VehUsage_Private_trip_to_office(VehUsage):\n",
        "  if VehUsage == 'Private+trip to office':\n",
        "    VehUsage_Private_trip_to_office = 1\n",
        "  else:\n",
        "    VehUsage_Private_trip_to_office = 0\n",
        "  return(VehUsage_Private_trip_to_office)\n",
        "\n",
        "def f_VehUsage_Private(VehUsage):\n",
        "  if VehUsage == 'Private':\n",
        "    VehUsage_Private = 1\n",
        "  else:\n",
        "    VehUsage_Privatel = 0\n",
        "  return(VehUsage_Private)\n",
        "\n",
        "def f_VehUsage_Professional_run(VehUsage):\n",
        "  if VehUsage == 'Professional run':\n",
        "    VehUsage_Professional_run = 1\n",
        "  else:\n",
        "    VehUsage_Professional_run = 0\n",
        "  return(VehUsage_Professional_run)\n",
        "\n",
        "\n",
        "@app.route('/predict', methods=['GET', 'POST'])\n",
        "def predict3():\n",
        "\n",
        "    try:\n",
        "\n",
        "      json_input = request.json\n",
        "\n",
        "      ID = json_input[\"ID\"]\n",
        "      LicAge = json_input[\"LicAge\"]\n",
        "      Gender = map_for_dict_Gender(json_input[\"Gender\"])\n",
        "      MariStat = map_for_dict_MariStat(json_input[\"MariStat\"])\n",
        "      DrivAge = json_input[\"DrivAge\"]\n",
        "      HasKmLimit = json_input[\"HasKmLimit\"]\n",
        "      BonusMalus = json_input[\"BonusMalus\"]\n",
        "      VehUsg_Private = f_VehUsage_Private(json_input[\"VehUsage\"])\n",
        "      VehUsg_Private_trip_to_office = f_VehUsage_Private_trip_to_office(json_input[\"VehUsage\"])\n",
        "      VehUsg_Professional = f_VehUsage_Professional(json_input[\"VehUsage\"])\n",
        "      VehUsg_Professional_run = f_VehUsage_Professional_run(json_input[\"VehUsage\"])\n",
        "      DrivAgeSq = DrivAge ** 2\n",
        "\n",
        "      X = np.array([[\n",
        "            LicAge,\n",
        "            Gender,\n",
        "            MariStat,\n",
        "            DrivAge,\n",
        "            HasKmLimit,\n",
        "            BonusMalus,\n",
        "            VehUsg_Private,\n",
        "            VehUsg_Private_trip_to_office,\n",
        "            VehUsg_Professional,\n",
        "            VehUsg_Professional_run,\n",
        "            0,\n",
        "            0,\n",
        "            0,\n",
        "            0,\n",
        "            0,\n",
        "            0,\n",
        "            0,\n",
        "            0,\n",
        "            0,\n",
        "            DrivAgeSq,\n",
        "            0,\n",
        "            0,\n",
        "            0\n",
        "      ]])\n",
        "\n",
        "\n",
        "      columns = [\n",
        "      'LicAge',\n",
        "      'Gender',\n",
        "      'MariStat',\n",
        "      'DrivAge',\n",
        "      'HasKmLimit',\n",
        "      'BonusMalus',\n",
        "      'VehUsg_Private',\n",
        "      'VehUsg_Private+trip to office',\n",
        "      'VehUsg_Professional',\n",
        "      'VehUsg_Professional run',\n",
        "      'SocioCateg_CSP1',\n",
        "      'SocioCateg_CSP2',\n",
        "      'SocioCateg_CSP3',\n",
        "      'SocioCateg_CSP4',\n",
        "      'SocioCateg_CSP5',\n",
        "      'SocioCateg_CSP6',\n",
        "      'SocioCateg_CSP7',\n",
        "      'SocioCateg_CSP8',\n",
        "      'SocioCateg_CSP9',\n",
        "      'DrivAgeSq',\n",
        "      'weight',\n",
        "      'ClaimAmount',\n",
        "      'ClaimInd'\n",
        "      ]\n",
        "\n",
        "      print(X)\n",
        "\n",
        "      dtest = xgb.DMatrix(pd.DataFrame(X, columns=columns))\n",
        "      print(dtest)\n",
        "\n",
        "      res = xgb_model.predict(dtest)\n",
        "\n",
        "      return jsonify({'prediction':res}) \n",
        "    \n",
        "    except:\n",
        "      \n",
        "      return \"Error\"\n",
        "\n",
        "\n",
        "\n",
        "if __name__ == '__main__':\n",
        "    app.run()"
      ],
      "execution_count": 59,
      "outputs": [
        {
          "output_type": "stream",
          "text": [
            " * Serving Flask app \"__main__\" (lazy loading)\n",
            " * Environment: production\n",
            "   WARNING: This is a development server. Do not use it in a production deployment.\n",
            "   Use a production WSGI server instead.\n",
            " * Debug mode: off\n"
          ],
          "name": "stdout"
        },
        {
          "output_type": "stream",
          "text": [
            " * Running on http://127.0.0.1:5000/ (Press CTRL+C to quit)\n"
          ],
          "name": "stderr"
        },
        {
          "output_type": "stream",
          "text": [
            " * Running on http://05a3207f.ngrok.io\n",
            " * Traffic stats available on http://127.0.0.1:4040\n"
          ],
          "name": "stdout"
        },
        {
          "output_type": "stream",
          "text": [
            "127.0.0.1 - - [16/Feb/2020 10:20:39] \"\u001b[37mPOST /predict HTTP/1.1\u001b[0m\" 200 -\n"
          ],
          "name": "stderr"
        },
        {
          "output_type": "stream",
          "text": [
            "[[ 468    0    0   67    0   50    1    0    0    0    0    0    0    0\n",
            "     0    0    0    0    0 4489    0    0    0]]\n",
            "<xgboost.core.DMatrix object at 0x7fa1ea710ac8>\n"
          ],
          "name": "stdout"
        },
        {
          "output_type": "stream",
          "text": [
            "127.0.0.1 - - [16/Feb/2020 10:20:50] \"\u001b[37mPOST /predict HTTP/1.1\u001b[0m\" 200 -\n"
          ],
          "name": "stderr"
        },
        {
          "output_type": "stream",
          "text": [
            "[[ 468    0    0   67    0   50    1    0    0    0    0    0    0    0\n",
            "     0    0    0    0    0 4489    0    0    0]]\n",
            "<xgboost.core.DMatrix object at 0x7fa1ea710940>\n"
          ],
          "name": "stdout"
        }
      ]
    }
  ]
}