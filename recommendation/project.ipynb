{
 "cells": [
  {
   "cell_type": "code",
   "execution_count": 1,
   "metadata": {},
   "outputs": [],
   "source": [
    "import pandas as pd\n",
    "import numpy as np\n",
    "import matplotlib.pyplot as plt\n",
    "%matplotlib inline\n",
    "\n",
    "# Для работы с матрицами\n",
    "from scipy.sparse import csr_matrix\n",
    "\n",
    "# Матричная факторизация\n",
    "from implicit import als\n",
    "\n",
    "import os, sys\n",
    "module_path = os.path.abspath(os.path.join(os.pardir))\n",
    "if module_path not in sys.path:\n",
    "    sys.path.append(module_path)\n",
    "\n",
    "# Написанные нами функции\n",
    "from src.metrics import precision_at_k, recall_at_k, money_precision_at_k\n",
    "from src.utils import prefilter_items, get_prices, postfilter_items\n",
    "from src.recommenders import MainRecommender"
   ]
  },
  {
   "cell_type": "code",
   "execution_count": 2,
   "metadata": {},
   "outputs": [
    {
     "name": "stdout",
     "output_type": "stream",
     "text": [
      "Decreased # items from 89051 to 301\n"
     ]
    }
   ],
   "source": [
    "data = pd.read_csv('/home/alex/Downloads/recsys/retail_train.csv')\n",
    "item_features = pd.read_csv('/home/alex/Downloads/recsys/product.csv')\n",
    "\n",
    "# column processing\n",
    "item_features.columns = [col.lower() for col in item_features.columns]\n",
    "\n",
    "item_features.rename(columns={'product_id': 'item_id'}, inplace=True)\n",
    "\n",
    "n_items_before = data['item_id'].nunique()\n",
    "\n",
    "data = prefilter_items(data, take_n_popular=300, item_features=item_features)\n",
    "data = data.merge(item_features, on='item_id', how='left')\n",
    "\n",
    "\n",
    "n_items_after = data['item_id'].nunique()\n",
    "print('Decreased # items from {} to {}'.format(n_items_before, n_items_after))"
   ]
  },
  {
   "cell_type": "code",
   "execution_count": 3,
   "metadata": {},
   "outputs": [
    {
     "data": {
      "text/html": [
       "<div>\n",
       "<style scoped>\n",
       "    .dataframe tbody tr th:only-of-type {\n",
       "        vertical-align: middle;\n",
       "    }\n",
       "\n",
       "    .dataframe tbody tr th {\n",
       "        vertical-align: top;\n",
       "    }\n",
       "\n",
       "    .dataframe thead th {\n",
       "        text-align: right;\n",
       "    }\n",
       "</style>\n",
       "<table border=\"1\" class=\"dataframe\">\n",
       "  <thead>\n",
       "    <tr style=\"text-align: right;\">\n",
       "      <th></th>\n",
       "      <th>user_id</th>\n",
       "      <th>basket_id</th>\n",
       "      <th>day</th>\n",
       "      <th>item_id</th>\n",
       "      <th>quantity</th>\n",
       "      <th>sales_value</th>\n",
       "      <th>store_id</th>\n",
       "      <th>retail_disc</th>\n",
       "      <th>trans_time</th>\n",
       "      <th>week_no</th>\n",
       "      <th>coupon_disc</th>\n",
       "      <th>coupon_match_disc</th>\n",
       "      <th>price</th>\n",
       "      <th>manufacturer</th>\n",
       "      <th>department</th>\n",
       "      <th>brand</th>\n",
       "      <th>commodity_desc</th>\n",
       "      <th>sub_commodity_desc</th>\n",
       "      <th>curr_size_of_product</th>\n",
       "    </tr>\n",
       "  </thead>\n",
       "  <tbody>\n",
       "    <tr>\n",
       "      <th>0</th>\n",
       "      <td>2295</td>\n",
       "      <td>31336488347</td>\n",
       "      <td>293</td>\n",
       "      <td>999999</td>\n",
       "      <td>2</td>\n",
       "      <td>3.0</td>\n",
       "      <td>403</td>\n",
       "      <td>-1.58</td>\n",
       "      <td>117</td>\n",
       "      <td>43</td>\n",
       "      <td>0.0</td>\n",
       "      <td>0.0</td>\n",
       "      <td>1.5</td>\n",
       "      <td>NaN</td>\n",
       "      <td>NaN</td>\n",
       "      <td>NaN</td>\n",
       "      <td>NaN</td>\n",
       "      <td>NaN</td>\n",
       "      <td>NaN</td>\n",
       "    </tr>\n",
       "    <tr>\n",
       "      <th>1</th>\n",
       "      <td>2295</td>\n",
       "      <td>31336488347</td>\n",
       "      <td>293</td>\n",
       "      <td>999999</td>\n",
       "      <td>1</td>\n",
       "      <td>2.5</td>\n",
       "      <td>403</td>\n",
       "      <td>-0.19</td>\n",
       "      <td>117</td>\n",
       "      <td>43</td>\n",
       "      <td>0.0</td>\n",
       "      <td>0.0</td>\n",
       "      <td>2.5</td>\n",
       "      <td>NaN</td>\n",
       "      <td>NaN</td>\n",
       "      <td>NaN</td>\n",
       "      <td>NaN</td>\n",
       "      <td>NaN</td>\n",
       "      <td>NaN</td>\n",
       "    </tr>\n",
       "  </tbody>\n",
       "</table>\n",
       "</div>"
      ],
      "text/plain": [
       "   user_id    basket_id  day  item_id  quantity  sales_value  store_id  \\\n",
       "0     2295  31336488347  293   999999         2          3.0       403   \n",
       "1     2295  31336488347  293   999999         1          2.5       403   \n",
       "\n",
       "   retail_disc  trans_time  week_no  coupon_disc  coupon_match_disc  price  \\\n",
       "0        -1.58         117       43          0.0                0.0    1.5   \n",
       "1        -0.19         117       43          0.0                0.0    2.5   \n",
       "\n",
       "   manufacturer department brand commodity_desc sub_commodity_desc  \\\n",
       "0           NaN        NaN   NaN            NaN                NaN   \n",
       "1           NaN        NaN   NaN            NaN                NaN   \n",
       "\n",
       "  curr_size_of_product  \n",
       "0                  NaN  \n",
       "1                  NaN  "
      ]
     },
     "execution_count": 3,
     "metadata": {},
     "output_type": "execute_result"
    }
   ],
   "source": [
    "test_size_weeks = 3\n",
    "\n",
    "data_train = data[data['week_no'] < data['week_no'].max() - test_size_weeks]\n",
    "data_test = data[data['week_no'] >= data['week_no'].max() - test_size_weeks]\n",
    "data_train.head(2)"
   ]
  },
  {
   "cell_type": "code",
   "execution_count": 4,
   "metadata": {},
   "outputs": [
    {
     "name": "stderr",
     "output_type": "stream",
     "text": [
      "WARNING:root:Intel MKL BLAS detected. Its highly recommend to set the environment variable 'export MKL_NUM_THREADS=1' to disable its internal multithreading\n"
     ]
    },
    {
     "data": {
      "application/vnd.jupyter.widget-view+json": {
       "model_id": "1e79528c18794f66b920b731c1340e1a",
       "version_major": 2,
       "version_minor": 0
      },
      "text/plain": [
       "HBox(children=(IntProgress(value=0, max=15), HTML(value='')))"
      ]
     },
     "metadata": {},
     "output_type": "display_data"
    },
    {
     "name": "stdout",
     "output_type": "stream",
     "text": [
      "\n"
     ]
    },
    {
     "data": {
      "application/vnd.jupyter.widget-view+json": {
       "model_id": "1a63c9a5ee2d4701b2054b9edf040c28",
       "version_major": 2,
       "version_minor": 0
      },
      "text/plain": [
       "HBox(children=(IntProgress(value=0, max=301), HTML(value='')))"
      ]
     },
     "metadata": {},
     "output_type": "display_data"
    },
    {
     "name": "stdout",
     "output_type": "stream",
     "text": [
      "\n"
     ]
    }
   ],
   "source": [
    "recommender = MainRecommender(data_train)"
   ]
  },
  {
   "cell_type": "code",
   "execution_count": 5,
   "metadata": {},
   "outputs": [
    {
     "data": {
      "text/html": [
       "<div>\n",
       "<style scoped>\n",
       "    .dataframe tbody tr th:only-of-type {\n",
       "        vertical-align: middle;\n",
       "    }\n",
       "\n",
       "    .dataframe tbody tr th {\n",
       "        vertical-align: top;\n",
       "    }\n",
       "\n",
       "    .dataframe thead th {\n",
       "        text-align: right;\n",
       "    }\n",
       "</style>\n",
       "<table border=\"1\" class=\"dataframe\">\n",
       "  <thead>\n",
       "    <tr style=\"text-align: right;\">\n",
       "      <th></th>\n",
       "      <th>user_id</th>\n",
       "      <th>actual</th>\n",
       "    </tr>\n",
       "  </thead>\n",
       "  <tbody>\n",
       "    <tr>\n",
       "      <th>0</th>\n",
       "      <td>1</td>\n",
       "      <td>[999999, 865456, 962568, 979707, 995242, 10049...</td>\n",
       "    </tr>\n",
       "    <tr>\n",
       "      <th>1</th>\n",
       "      <td>3</td>\n",
       "      <td>[999999, 1053690]</td>\n",
       "    </tr>\n",
       "  </tbody>\n",
       "</table>\n",
       "</div>"
      ],
      "text/plain": [
       "   user_id                                             actual\n",
       "0        1  [999999, 865456, 962568, 979707, 995242, 10049...\n",
       "1        3                                  [999999, 1053690]"
      ]
     },
     "execution_count": 5,
     "metadata": {},
     "output_type": "execute_result"
    }
   ],
   "source": [
    "result = data_test.groupby('user_id')['item_id'].unique().reset_index()\n",
    "result.columns=['user_id', 'actual']\n",
    "result.head(2)"
   ]
  },
  {
   "cell_type": "code",
   "execution_count": 6,
   "metadata": {},
   "outputs": [],
   "source": [
    "result['candidates_own'] = result['user_id'].apply(lambda x: recommender.get_own_recommendations(x, N=100))"
   ]
  },
  {
   "cell_type": "code",
   "execution_count": 7,
   "metadata": {},
   "outputs": [],
   "source": [
    "result['candidates_als'] = result['user_id'].apply(lambda x: recommender.get_als_recommendations(x, N=50))"
   ]
  },
  {
   "cell_type": "code",
   "execution_count": 8,
   "metadata": {},
   "outputs": [],
   "source": [
    "result['final_recommendations'] = result.apply(lambda row: postfilter_items(row['candidates_als'], row['candidates_own'], data), axis=1)"
   ]
  },
  {
   "cell_type": "code",
   "execution_count": 9,
   "metadata": {},
   "outputs": [
    {
     "data": {
      "text/html": [
       "<div>\n",
       "<style scoped>\n",
       "    .dataframe tbody tr th:only-of-type {\n",
       "        vertical-align: middle;\n",
       "    }\n",
       "\n",
       "    .dataframe tbody tr th {\n",
       "        vertical-align: top;\n",
       "    }\n",
       "\n",
       "    .dataframe thead th {\n",
       "        text-align: right;\n",
       "    }\n",
       "</style>\n",
       "<table border=\"1\" class=\"dataframe\">\n",
       "  <thead>\n",
       "    <tr style=\"text-align: right;\">\n",
       "      <th></th>\n",
       "      <th>user_id</th>\n",
       "      <th>actual</th>\n",
       "      <th>candidates_own</th>\n",
       "      <th>candidates_als</th>\n",
       "      <th>final_recommendations</th>\n",
       "    </tr>\n",
       "  </thead>\n",
       "  <tbody>\n",
       "    <tr>\n",
       "      <th>0</th>\n",
       "      <td>1</td>\n",
       "      <td>[999999, 865456, 962568, 979707, 995242, 10049...</td>\n",
       "      <td>[940947, 9527290, 995242, 1082212, 840361, 603...</td>\n",
       "      <td>[8090536, 1027569, 995242, 1082185, 1006184, 1...</td>\n",
       "      <td>[866211, 940947, 9527290, 8090536, 1027569]</td>\n",
       "    </tr>\n",
       "    <tr>\n",
       "      <th>1</th>\n",
       "      <td>3</td>\n",
       "      <td>[999999, 1053690]</td>\n",
       "      <td>[1053690, 1092026, 9527494, 910032, 951590, 91...</td>\n",
       "      <td>[1043751, 1056509, 1092026, 859075, 844179, 10...</td>\n",
       "      <td>[874972, 1053690, 9527494, 1043751, 1056509]</td>\n",
       "    </tr>\n",
       "    <tr>\n",
       "      <th>2</th>\n",
       "      <td>6</td>\n",
       "      <td>[999999, 840361, 845208, 995242, 1024306, 1037...</td>\n",
       "      <td>[1037863, 951412, 5569230, 965267, 1082185, 10...</td>\n",
       "      <td>[1082185, 866211, 916122, 934639, 878996, 1029...</td>\n",
       "      <td>[863447, 1037863, 951412, 1082185, 866211]</td>\n",
       "    </tr>\n",
       "    <tr>\n",
       "      <th>3</th>\n",
       "      <td>7</td>\n",
       "      <td>[999999, 898068, 909714, 1003188, 1082185, 110...</td>\n",
       "      <td>[1122358, 828867, 1110572, 1126899, 1106523, 1...</td>\n",
       "      <td>[1076056, 1082185, 909714, 1029743, 909894, 93...</td>\n",
       "      <td>[866211, 1122358, 828867, 1076056, 1082185]</td>\n",
       "    </tr>\n",
       "    <tr>\n",
       "      <th>4</th>\n",
       "      <td>8</td>\n",
       "      <td>[835098, 872137, 999999, 5569230, 5569471, 840...</td>\n",
       "      <td>[5569471, 862349, 1133018, 5569230, 12302069, ...</td>\n",
       "      <td>[844179, 8090536, 940766, 1076056, 840361, 868...</td>\n",
       "      <td>[866211, 5569471, 862349, 844179, 940766]</td>\n",
       "    </tr>\n",
       "  </tbody>\n",
       "</table>\n",
       "</div>"
      ],
      "text/plain": [
       "   user_id                                             actual  \\\n",
       "0        1  [999999, 865456, 962568, 979707, 995242, 10049...   \n",
       "1        3                                  [999999, 1053690]   \n",
       "2        6  [999999, 840361, 845208, 995242, 1024306, 1037...   \n",
       "3        7  [999999, 898068, 909714, 1003188, 1082185, 110...   \n",
       "4        8  [835098, 872137, 999999, 5569230, 5569471, 840...   \n",
       "\n",
       "                                      candidates_own  \\\n",
       "0  [940947, 9527290, 995242, 1082212, 840361, 603...   \n",
       "1  [1053690, 1092026, 9527494, 910032, 951590, 91...   \n",
       "2  [1037863, 951412, 5569230, 965267, 1082185, 10...   \n",
       "3  [1122358, 828867, 1110572, 1126899, 1106523, 1...   \n",
       "4  [5569471, 862349, 1133018, 5569230, 12302069, ...   \n",
       "\n",
       "                                      candidates_als  \\\n",
       "0  [8090536, 1027569, 995242, 1082185, 1006184, 1...   \n",
       "1  [1043751, 1056509, 1092026, 859075, 844179, 10...   \n",
       "2  [1082185, 866211, 916122, 934639, 878996, 1029...   \n",
       "3  [1076056, 1082185, 909714, 1029743, 909894, 93...   \n",
       "4  [844179, 8090536, 940766, 1076056, 840361, 868...   \n",
       "\n",
       "                          final_recommendations  \n",
       "0   [866211, 940947, 9527290, 8090536, 1027569]  \n",
       "1  [874972, 1053690, 9527494, 1043751, 1056509]  \n",
       "2    [863447, 1037863, 951412, 1082185, 866211]  \n",
       "3   [866211, 1122358, 828867, 1076056, 1082185]  \n",
       "4     [866211, 5569471, 862349, 844179, 940766]  "
      ]
     },
     "execution_count": 9,
     "metadata": {},
     "output_type": "execute_result"
    }
   ],
   "source": [
    "result.head()"
   ]
  },
  {
   "cell_type": "code",
   "execution_count": 10,
   "metadata": {},
   "outputs": [],
   "source": [
    "result['final_recommendations_prices'] = result['final_recommendations'].apply(lambda x: get_prices(x, data))"
   ]
  },
  {
   "cell_type": "code",
   "execution_count": 11,
   "metadata": {},
   "outputs": [
    {
     "data": {
      "text/plain": [
       "0.16259112246551174"
      ]
     },
     "execution_count": 11,
     "metadata": {},
     "output_type": "execute_result"
    }
   ],
   "source": [
    "result.apply(lambda row: money_precision_at_k(row['final_recommendations'], row['actual'], row['final_recommendations_prices'], 5), axis=1).mean()"
   ]
  },
  {
   "cell_type": "code",
   "execution_count": null,
   "metadata": {},
   "outputs": [],
   "source": []
  }
 ],
 "metadata": {
  "kernelspec": {
   "display_name": "Python 3",
   "language": "python",
   "name": "python3"
  },
  "language_info": {
   "codemirror_mode": {
    "name": "ipython",
    "version": 3
   },
   "file_extension": ".py",
   "mimetype": "text/x-python",
   "name": "python",
   "nbconvert_exporter": "python",
   "pygments_lexer": "ipython3",
   "version": "3.7.3"
  }
 },
 "nbformat": 4,
 "nbformat_minor": 2
}
