{
 "cells": [
  {
   "cell_type": "code",
   "execution_count": 1,
   "metadata": {},
   "outputs": [],
   "source": [
    "import pandas as pd\n",
    "import numpy as np\n",
    "import matplotlib.pyplot as plt\n",
    "%matplotlib inline\n",
    "\n",
    "# Для работы с матрицами\n",
    "from scipy.sparse import csr_matrix\n",
    "\n",
    "# Матричная факторизация\n",
    "from implicit import als\n",
    "\n",
    "import os, sys\n",
    "module_path = os.path.abspath(os.path.join(os.pardir))\n",
    "if module_path not in sys.path:\n",
    "    sys.path.append(module_path)\n",
    "\n",
    "# Написанные нами функции\n",
    "from src.metrics import precision_at_k, recall_at_k, money_precision_at_k\n",
    "from src.utils import prefilter_items, get_prices, postfilter_items\n",
    "from src.recommenders import MainRecommender"
   ]
  },
  {
   "cell_type": "code",
   "execution_count": 2,
   "metadata": {},
   "outputs": [
    {
     "name": "stdout",
     "output_type": "stream",
     "text": [
      "Decreased # items from 89051 to 301\n"
     ]
    }
   ],
   "source": [
    "data = pd.read_csv('/home/alex/Downloads/recsys/retail_train.csv')\n",
    "item_features = pd.read_csv('/home/alex/Downloads/recsys/product.csv')\n",
    "data_test = pd.read_csv('/home/alex/Downloads/recsys/retail_test1.csv')\n",
    "\n",
    "# column processing\n",
    "item_features.columns = [col.lower() for col in item_features.columns]\n",
    "\n",
    "item_features.rename(columns={'product_id': 'item_id'}, inplace=True)\n",
    "\n",
    "n_items_before = data['item_id'].nunique()\n",
    "\n",
    "data = prefilter_items(data, take_n_popular=300, item_features=item_features)\n",
    "data = data.merge(item_features, on='item_id', how='left')\n",
    "\n",
    "\n",
    "n_items_after = data['item_id'].nunique()\n",
    "print('Decreased # items from {} to {}'.format(n_items_before, n_items_after))"
   ]
  },
  {
   "cell_type": "code",
   "execution_count": 4,
   "metadata": {},
   "outputs": [
    {
     "name": "stderr",
     "output_type": "stream",
     "text": [
      "WARNING:root:Intel MKL BLAS detected. Its highly recommend to set the environment variable 'export MKL_NUM_THREADS=1' to disable its internal multithreading\n"
     ]
    },
    {
     "data": {
      "application/vnd.jupyter.widget-view+json": {
       "model_id": "9ceeaa1681d643f2b75b971ce34a27fe",
       "version_major": 2,
       "version_minor": 0
      },
      "text/plain": [
       "HBox(children=(IntProgress(value=0, max=5), HTML(value='')))"
      ]
     },
     "metadata": {},
     "output_type": "display_data"
    },
    {
     "name": "stdout",
     "output_type": "stream",
     "text": [
      "\n"
     ]
    },
    {
     "data": {
      "application/vnd.jupyter.widget-view+json": {
       "model_id": "e83ea05ca03b45358a0407c314ff9906",
       "version_major": 2,
       "version_minor": 0
      },
      "text/plain": [
       "HBox(children=(IntProgress(value=0, max=301), HTML(value='')))"
      ]
     },
     "metadata": {},
     "output_type": "display_data"
    },
    {
     "name": "stdout",
     "output_type": "stream",
     "text": [
      "\n"
     ]
    }
   ],
   "source": [
    "recommender = MainRecommender(data)"
   ]
  },
  {
   "cell_type": "code",
   "execution_count": 5,
   "metadata": {},
   "outputs": [
    {
     "data": {
      "text/html": [
       "<div>\n",
       "<style scoped>\n",
       "    .dataframe tbody tr th:only-of-type {\n",
       "        vertical-align: middle;\n",
       "    }\n",
       "\n",
       "    .dataframe tbody tr th {\n",
       "        vertical-align: top;\n",
       "    }\n",
       "\n",
       "    .dataframe thead th {\n",
       "        text-align: right;\n",
       "    }\n",
       "</style>\n",
       "<table border=\"1\" class=\"dataframe\">\n",
       "  <thead>\n",
       "    <tr style=\"text-align: right;\">\n",
       "      <th></th>\n",
       "      <th>user_id</th>\n",
       "      <th>actual</th>\n",
       "    </tr>\n",
       "  </thead>\n",
       "  <tbody>\n",
       "    <tr>\n",
       "      <th>0</th>\n",
       "      <td>1</td>\n",
       "      <td>[880007, 883616, 931136, 938004, 940947, 94726...</td>\n",
       "    </tr>\n",
       "    <tr>\n",
       "      <th>1</th>\n",
       "      <td>2</td>\n",
       "      <td>[820165, 820291, 826784, 826835, 829009, 85784...</td>\n",
       "    </tr>\n",
       "  </tbody>\n",
       "</table>\n",
       "</div>"
      ],
      "text/plain": [
       "   user_id                                             actual\n",
       "0        1  [880007, 883616, 931136, 938004, 940947, 94726...\n",
       "1        2  [820165, 820291, 826784, 826835, 829009, 85784..."
      ]
     },
     "execution_count": 5,
     "metadata": {},
     "output_type": "execute_result"
    }
   ],
   "source": [
    "result = data_test.groupby('user_id')['item_id'].unique().reset_index()\n",
    "result.columns=['user_id', 'actual']\n",
    "result.head(2)"
   ]
  },
  {
   "cell_type": "code",
   "execution_count": 6,
   "metadata": {},
   "outputs": [],
   "source": [
    "result['candidates_own'] = result['user_id'].apply(lambda x: recommender.get_own_recommendations(x, N=100))"
   ]
  },
  {
   "cell_type": "code",
   "execution_count": 7,
   "metadata": {},
   "outputs": [],
   "source": [
    "result['candidates_als'] = result['user_id'].apply(lambda x: recommender.get_als_recommendations(x, N=50))"
   ]
  },
  {
   "cell_type": "code",
   "execution_count": 8,
   "metadata": {},
   "outputs": [],
   "source": [
    "result['final_recommendations'] = result.apply(lambda row: postfilter_items(row['candidates_als'], row['candidates_own'], data), axis=1)"
   ]
  },
  {
   "cell_type": "code",
   "execution_count": 9,
   "metadata": {},
   "outputs": [],
   "source": [
    "result['final_recommendations_prices'] = result['final_recommendations'].apply(lambda x: get_prices(x, data))"
   ]
  },
  {
   "cell_type": "code",
   "execution_count": 10,
   "metadata": {},
   "outputs": [
    {
     "data": {
      "text/html": [
       "<div>\n",
       "<style scoped>\n",
       "    .dataframe tbody tr th:only-of-type {\n",
       "        vertical-align: middle;\n",
       "    }\n",
       "\n",
       "    .dataframe tbody tr th {\n",
       "        vertical-align: top;\n",
       "    }\n",
       "\n",
       "    .dataframe thead th {\n",
       "        text-align: right;\n",
       "    }\n",
       "</style>\n",
       "<table border=\"1\" class=\"dataframe\">\n",
       "  <thead>\n",
       "    <tr style=\"text-align: right;\">\n",
       "      <th></th>\n",
       "      <th>user_id</th>\n",
       "      <th>actual</th>\n",
       "      <th>candidates_own</th>\n",
       "      <th>candidates_als</th>\n",
       "      <th>final_recommendations</th>\n",
       "      <th>final_recommendations_prices</th>\n",
       "    </tr>\n",
       "  </thead>\n",
       "  <tbody>\n",
       "    <tr>\n",
       "      <th>0</th>\n",
       "      <td>1</td>\n",
       "      <td>[880007, 883616, 931136, 938004, 940947, 94726...</td>\n",
       "      <td>[1082185, 995242, 1004906, 840361, 961554, 603...</td>\n",
       "      <td>[962568, 961554, 9527290, 979707, 1081177, 100...</td>\n",
       "      <td>[866211, 1082185, 995242, 962568, 961554]</td>\n",
       "      <td>[3.3967356910190745, 1.3441046581705522, 1.624...</td>\n",
       "    </tr>\n",
       "    <tr>\n",
       "      <th>1</th>\n",
       "      <td>2</td>\n",
       "      <td>[820165, 820291, 826784, 826835, 829009, 85784...</td>\n",
       "      <td>[1106523, 916122, 5569230, 1133018, 866211, 10...</td>\n",
       "      <td>[961554, 866211, 1106523, 1053690, 1068719, 11...</td>\n",
       "      <td>[866211, 1106523, 916122, 961554, 1053690]</td>\n",
       "      <td>[3.3967356910190745, 2.4783331220571982, 4.268...</td>\n",
       "    </tr>\n",
       "    <tr>\n",
       "      <th>2</th>\n",
       "      <td>3</td>\n",
       "      <td>[827683, 908531, 989069, 1071377, 1080155, 109...</td>\n",
       "      <td>[1106523, 1053690, 951590, 5568378, 878996, 84...</td>\n",
       "      <td>[5568378, 965766, 951590, 8090521, 5569327, 10...</td>\n",
       "      <td>[874972, 1106523, 1053690, 5568378, 965766]</td>\n",
       "      <td>[8.559660340632604, 2.4783331220571982, 1.4088...</td>\n",
       "    </tr>\n",
       "    <tr>\n",
       "      <th>3</th>\n",
       "      <td>6</td>\n",
       "      <td>[956902, 960791, 1037863, 1119051, 1137688, 84...</td>\n",
       "      <td>[1082185, 1029743, 1127831, 995242, 878996, 86...</td>\n",
       "      <td>[845208, 832678, 930118, 860299, 995242, 87899...</td>\n",
       "      <td>[866211, 1082185, 1029743, 845208, 832678]</td>\n",
       "      <td>[3.3967356910190745, 1.3441046581705522, 2.475...</td>\n",
       "    </tr>\n",
       "    <tr>\n",
       "      <th>4</th>\n",
       "      <td>7</td>\n",
       "      <td>[847270, 855557, 859987, 863407, 895454, 90663...</td>\n",
       "      <td>[1082185, 1106523, 866211, 1127831, 961554, 55...</td>\n",
       "      <td>[1127831, 1029743, 986912, 1096036, 898068, 11...</td>\n",
       "      <td>[866211, 1082185, 1106523, 1127831, 986912]</td>\n",
       "      <td>[3.3967356910190745, 1.3441046581705522, 2.478...</td>\n",
       "    </tr>\n",
       "  </tbody>\n",
       "</table>\n",
       "</div>"
      ],
      "text/plain": [
       "   user_id                                             actual  \\\n",
       "0        1  [880007, 883616, 931136, 938004, 940947, 94726...   \n",
       "1        2  [820165, 820291, 826784, 826835, 829009, 85784...   \n",
       "2        3  [827683, 908531, 989069, 1071377, 1080155, 109...   \n",
       "3        6  [956902, 960791, 1037863, 1119051, 1137688, 84...   \n",
       "4        7  [847270, 855557, 859987, 863407, 895454, 90663...   \n",
       "\n",
       "                                      candidates_own  \\\n",
       "0  [1082185, 995242, 1004906, 840361, 961554, 603...   \n",
       "1  [1106523, 916122, 5569230, 1133018, 866211, 10...   \n",
       "2  [1106523, 1053690, 951590, 5568378, 878996, 84...   \n",
       "3  [1082185, 1029743, 1127831, 995242, 878996, 86...   \n",
       "4  [1082185, 1106523, 866211, 1127831, 961554, 55...   \n",
       "\n",
       "                                      candidates_als  \\\n",
       "0  [962568, 961554, 9527290, 979707, 1081177, 100...   \n",
       "1  [961554, 866211, 1106523, 1053690, 1068719, 11...   \n",
       "2  [5568378, 965766, 951590, 8090521, 5569327, 10...   \n",
       "3  [845208, 832678, 930118, 860299, 995242, 87899...   \n",
       "4  [1127831, 1029743, 986912, 1096036, 898068, 11...   \n",
       "\n",
       "                         final_recommendations  \\\n",
       "0    [866211, 1082185, 995242, 962568, 961554]   \n",
       "1   [866211, 1106523, 916122, 961554, 1053690]   \n",
       "2  [874972, 1106523, 1053690, 5568378, 965766]   \n",
       "3   [866211, 1082185, 1029743, 845208, 832678]   \n",
       "4  [866211, 1082185, 1106523, 1127831, 986912]   \n",
       "\n",
       "                        final_recommendations_prices  \n",
       "0  [3.3967356910190745, 1.3441046581705522, 1.624...  \n",
       "1  [3.3967356910190745, 2.4783331220571982, 4.268...  \n",
       "2  [8.559660340632604, 2.4783331220571982, 1.4088...  \n",
       "3  [3.3967356910190745, 1.3441046581705522, 2.475...  \n",
       "4  [3.3967356910190745, 1.3441046581705522, 2.478...  "
      ]
     },
     "execution_count": 10,
     "metadata": {},
     "output_type": "execute_result"
    }
   ],
   "source": [
    "result.head()"
   ]
  },
  {
   "cell_type": "code",
   "execution_count": 11,
   "metadata": {},
   "outputs": [
    {
     "data": {
      "text/plain": [
       "0.1530957656353474"
      ]
     },
     "execution_count": 11,
     "metadata": {},
     "output_type": "execute_result"
    }
   ],
   "source": [
    "result.apply(lambda row: money_precision_at_k(row['final_recommendations'], row['actual'], row['final_recommendations_prices'], 5), axis=1).mean()"
   ]
  },
  {
   "cell_type": "code",
   "execution_count": 16,
   "metadata": {},
   "outputs": [],
   "source": [
    "final = result[['user_id', 'final_recommendations']]"
   ]
  },
  {
   "cell_type": "code",
   "execution_count": 19,
   "metadata": {},
   "outputs": [],
   "source": [
    "final.to_csv('recommendations.csv', index=False)"
   ]
  }
 ],
 "metadata": {
  "kernelspec": {
   "display_name": "Python 3",
   "language": "python",
   "name": "python3"
  },
  "language_info": {
   "codemirror_mode": {
    "name": "ipython",
    "version": 3
   },
   "file_extension": ".py",
   "mimetype": "text/x-python",
   "name": "python",
   "nbconvert_exporter": "python",
   "pygments_lexer": "ipython3",
   "version": "3.7.3"
  }
 },
 "nbformat": 4,
 "nbformat_minor": 2
}
